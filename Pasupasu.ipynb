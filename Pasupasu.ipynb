{
  "nbformat": 4,
  "nbformat_minor": 0,
  "metadata": {
    "colab": {
      "name": "Pasupasu.ipynb",
      "provenance": [],
      "collapsed_sections": [],
      "include_colab_link": true
    },
    "kernelspec": {
      "name": "python3",
      "display_name": "Python 3"
    },
    "language_info": {
      "name": "python"
    }
  },
  "cells": [
    {
      "cell_type": "markdown",
      "metadata": {
        "id": "view-in-github",
        "colab_type": "text"
      },
      "source": [
        "<a href=\"https://colab.research.google.com/github/angelinasinaga/Indonesian_Named-entity_Recognition/blob/Angelina/Pasupasu.ipynb\" target=\"_parent\"><img src=\"https://colab.research.google.com/assets/colab-badge.svg\" alt=\"Open In Colab\"/></a>"
      ]
    },
    {
      "cell_type": "markdown",
      "metadata": {
        "id": "6p3N2DgNc8qD"
      },
      "source": [
        "## **1. LOAD DATA** ##"
      ]
    },
    {
      "cell_type": "markdown",
      "metadata": {
        "id": "jMJjTGm9dG-B"
      },
      "source": [
        "**1.1 Import Libraries**"
      ]
    },
    {
      "cell_type": "code",
      "metadata": {
        "id": "6ImtqLSFcgPx"
      },
      "source": [
        "#Data analysis   \n",
        "import pandas as pd \n",
        "import numpy as np\n",
        "import csv\n",
        "import nltk\n",
        "import tensorflow as tf"
      ],
      "execution_count": null,
      "outputs": []
    },
    {
      "cell_type": "code",
      "metadata": {
        "id": "a6Gn4SOUcn78"
      },
      "source": [
        "#Data visualisation \n",
        "import matplotlib.pyplot as plt\n",
        "import seaborn as sns\n",
        "sns.set(color_codes=True)\n",
        "sns.set(font_scale=1)\n",
        "%matplotlib inline\n",
        "from matplotlib import ticker\n",
        "%config InlineBackend.figure_format = 'svg'"
      ],
      "execution_count": null,
      "outputs": []
    },
    {
      "cell_type": "code",
      "metadata": {
        "id": "FhVtjkD7dRwN"
      },
      "source": [
        "#Modeling\n",
        "from sklearn.model_selection import cross_val_predict, cross_val_score\n",
        "from sklearn.ensemble import RandomForestClassifier"
      ],
      "execution_count": null,
      "outputs": []
    },
    {
      "cell_type": "code",
      "metadata": {
        "id": "Wu-T9Kg-NRG4"
      },
      "source": [
        "# from sklearn_crfsuite import CRF, scorers, metrics\n",
        "# import sklearn_crfsuite\n",
        "# from sklearn_crfsuite import scorers\n",
        "# from sklearn_crfsuite import metrics\n",
        "# from sklearn_crfsuite.metrics import flat_classification_report\n",
        "from sklearn.metrics import classification_report, make_scorer\n",
        "from sklearn.model_selection import RandomizedSearchCV\n",
        "from sklearn.model_selection import GridSearchCV\n",
        "import scipy.stats\n",
        "import eli5"
      ],
      "execution_count": null,
      "outputs": []
    },
    {
      "cell_type": "markdown",
      "metadata": {
        "id": "n4JCktyXaqcb"
      },
      "source": [
        "**1.2 Load Data**"
      ]
    },
    {
      "cell_type": "code",
      "metadata": {
        "colab": {
          "base_uri": "https://localhost:8080/"
        },
        "id": "MPPegynYP2Il",
        "outputId": "945ac5f8-eae4-4f9a-e757-5d5dff745852"
      },
      "source": [
        "from google.colab import drive\n",
        "drive.mount('/content/drive')"
      ],
      "execution_count": null,
      "outputs": [
        {
          "output_type": "stream",
          "name": "stdout",
          "text": [
            "Mounted at /content/drive\n"
          ]
        }
      ]
    },
    {
      "cell_type": "code",
      "metadata": {
        "id": "W8i0Kn52Qf6F"
      },
      "source": [
        "list_kalimat = []\n",
        "nomor_kalimat = 1\n",
        "\n",
        "# open file in read mode\n",
        "with open('/content/drive/MyDrive/Semester 7/Proyek PBA/Dataset/SINGGALANG.tsv', encoding='UTF-8') as read_obj:\n",
        "    # pass the file object to reader() to get the reader object\n",
        "    csv_reader = csv.reader(read_obj, delimiter='\\t', quotechar=None) #https://www.petanikode.com/python-csv/ \n",
        "# https://docs.python.org/id/3.9/library/csv.html\n",
        "# Menginstruksikan reader untuk tidak melakukan pemrosesan khusus terhadap karakter kutipan\n",
        "    # Iterate over each row in the csv using reader object\n",
        "    for row in csv_reader:\n",
        "        # row variable is a list that represents a row in csv\n",
        "        if len(row) == 0:\n",
        "            nomor_kalimat += 1 \n",
        "        else:\n",
        "            tmp_row= row\n",
        "            tmp_row.append(nomor_kalimat)\n",
        "            list_kalimat.append(tmp_row)\n",
        "\n",
        "dataset = pd.DataFrame(list_kalimat, columns=['token', 'entitas bernama', 'kalimat'])"
      ],
      "execution_count": null,
      "outputs": []
    },
    {
      "cell_type": "code",
      "metadata": {
        "colab": {
          "base_uri": "https://localhost:8080/",
          "height": 206
        },
        "id": "KnjFKMZNV12B",
        "outputId": "757b9fbf-7d0d-4348-e212-ad8fa4209431"
      },
      "source": [
        "dataset.head()"
      ],
      "execution_count": null,
      "outputs": [
        {
          "output_type": "execute_result",
          "data": {
            "text/html": [
              "<div>\n",
              "<style scoped>\n",
              "    .dataframe tbody tr th:only-of-type {\n",
              "        vertical-align: middle;\n",
              "    }\n",
              "\n",
              "    .dataframe tbody tr th {\n",
              "        vertical-align: top;\n",
              "    }\n",
              "\n",
              "    .dataframe thead th {\n",
              "        text-align: right;\n",
              "    }\n",
              "</style>\n",
              "<table border=\"1\" class=\"dataframe\">\n",
              "  <thead>\n",
              "    <tr style=\"text-align: right;\">\n",
              "      <th></th>\n",
              "      <th>token</th>\n",
              "      <th>entitas bernama</th>\n",
              "      <th>kalimat</th>\n",
              "    </tr>\n",
              "  </thead>\n",
              "  <tbody>\n",
              "    <tr>\n",
              "      <th>0</th>\n",
              "      <td>Ia</td>\n",
              "      <td>O</td>\n",
              "      <td>1.0</td>\n",
              "    </tr>\n",
              "    <tr>\n",
              "      <th>1</th>\n",
              "      <td>menjabat</td>\n",
              "      <td>O</td>\n",
              "      <td>1.0</td>\n",
              "    </tr>\n",
              "    <tr>\n",
              "      <th>2</th>\n",
              "      <td>sebagai</td>\n",
              "      <td>O</td>\n",
              "      <td>1.0</td>\n",
              "    </tr>\n",
              "    <tr>\n",
              "      <th>3</th>\n",
              "      <td>Presiden</td>\n",
              "      <td>O</td>\n",
              "      <td>1.0</td>\n",
              "    </tr>\n",
              "    <tr>\n",
              "      <th>4</th>\n",
              "      <td>ketiga</td>\n",
              "      <td>O</td>\n",
              "      <td>1.0</td>\n",
              "    </tr>\n",
              "  </tbody>\n",
              "</table>\n",
              "</div>"
            ],
            "text/plain": [
              "      token entitas bernama  kalimat\n",
              "0        Ia               O      1.0\n",
              "1  menjabat               O      1.0\n",
              "2   sebagai               O      1.0\n",
              "3  Presiden               O      1.0\n",
              "4    ketiga               O      1.0"
            ]
          },
          "metadata": {},
          "execution_count": 11
        }
      ]
    },
    {
      "cell_type": "code",
      "metadata": {
        "id": "USk9ltjmWHoS",
        "colab": {
          "base_uri": "https://localhost:8080/"
        },
        "outputId": "7c5a75be-e75d-4bb9-8de8-c8574ca7a925"
      },
      "source": [
        "dataset.info()"
      ],
      "execution_count": null,
      "outputs": [
        {
          "output_type": "stream",
          "name": "stdout",
          "text": [
            "<class 'pandas.core.frame.DataFrame'>\n",
            "RangeIndex: 116307 entries, 0 to 116306\n",
            "Data columns (total 3 columns):\n",
            " #   Column           Non-Null Count   Dtype  \n",
            "---  ------           --------------   -----  \n",
            " 0   token            116307 non-null  object \n",
            " 1   entitas bernama  116307 non-null  object \n",
            " 2   kalimat          116306 non-null  float64\n",
            "dtypes: float64(1), object(2)\n",
            "memory usage: 2.7+ MB\n"
          ]
        }
      ]
    },
    {
      "cell_type": "markdown",
      "metadata": {
        "id": "N4T5FDujdmAD"
      },
      "source": [
        "## **2. Exploring / Visualisasi Data (Analisis Data)** ##"
      ]
    },
    {
      "cell_type": "markdown",
      "metadata": {
        "id": "ZeTGTXKqd0Lm"
      },
      "source": [
        "Membangun kelas sederhana untuk menggabungkan kata-kata ke dalam kalimat. "
      ]
    },
    {
      "cell_type": "code",
      "metadata": {
        "colab": {
          "base_uri": "https://localhost:8080/"
        },
        "id": "rR6d694dek01",
        "outputId": "0ee33471-88a8-4cbd-fdc5-c925eb98fc6c"
      },
      "source": [
        "print(\"Jumlah kalimat: \", len(dataset.groupby(['kalimat'])))\n",
        "words = list(set(dataset[\"token\"].values))\n",
        "n_words = len(words)\n",
        "print(\"Jumlah kata unik : \", n_words)\n",
        "tags = list(set(dataset[\"entitas bernama\"].values))\n",
        "print(\"Entitas bernama:\", tags)\n",
        "n_tags = len(tags)\n",
        "print(\"Jumlah entitas bernama: \", n_tags)"
      ],
      "execution_count": null,
      "outputs": [
        {
          "output_type": "stream",
          "name": "stdout",
          "text": [
            "Jumlah kalimat:  3818\n",
            "Jumlah kata unik :  17391\n",
            "Entitas bernama: [3818, 'O', 'Organisation', 'Place', 'Person']\n",
            "Jumlah entitas bernama:  5\n"
          ]
        }
      ]
    },
    {
      "cell_type": "code",
      "metadata": {
        "colab": {
          "base_uri": "https://localhost:8080/"
        },
        "id": "ZmjLkR8een6S",
        "outputId": "8b21d015-c2b9-406b-a1a9-2e512a4dc014"
      },
      "source": [
        "#Words tagged as Place\n",
        "dataset.loc[dataset['entitas bernama'] == 'Place', 'token'].head()"
      ],
      "execution_count": null,
      "outputs": [
        {
          "output_type": "execute_result",
          "data": {
            "text/plain": [
              "5        Mesir\n",
              "29       Mesir\n",
              "47       Mesir\n",
              "68    Kerajaan\n",
              "70       Kairo\n",
              "Name: token, dtype: object"
            ]
          },
          "metadata": {},
          "execution_count": 14
        }
      ]
    },
    {
      "cell_type": "code",
      "metadata": {
        "colab": {
          "base_uri": "https://localhost:8080/"
        },
        "id": "1HWQZKoxfXGF",
        "outputId": "11e6fa96-b36d-46e7-a18e-77810eba3652"
      },
      "source": [
        "#Words tagged as Person\n",
        "dataset.loc[dataset['entitas bernama'] == 'Person', 'token'].head()"
      ],
      "execution_count": null,
      "outputs": [
        {
          "output_type": "execute_result",
          "data": {
            "text/plain": [
              "38     Sadat\n",
              "100    Anwar\n",
              "101    Sadat\n",
              "105    Hafez\n",
              "107    Assad\n",
              "Name: token, dtype: object"
            ]
          },
          "metadata": {},
          "execution_count": 15
        }
      ]
    },
    {
      "cell_type": "code",
      "metadata": {
        "colab": {
          "base_uri": "https://localhost:8080/"
        },
        "id": "fey95S57hUYE",
        "outputId": "ab43a220-7e8a-4f7f-a432-92d28113b0bc"
      },
      "source": [
        "#Words tagged as Organisation\n",
        "dataset.loc[dataset['entitas bernama'] == 'Organisation', 'token'].head()"
      ],
      "execution_count": null,
      "outputs": [
        {
          "output_type": "execute_result",
          "data": {
            "text/plain": [
              "568    Universitas\n",
              "569      Indonesia\n",
              "711     Independen\n",
              "778    Universitas\n",
              "779         Gadjah\n",
              "Name: token, dtype: object"
            ]
          },
          "metadata": {},
          "execution_count": 16
        }
      ]
    },
    {
      "cell_type": "code",
      "metadata": {
        "colab": {
          "base_uri": "https://localhost:8080/"
        },
        "id": "Xfi5cBHjhXiA",
        "outputId": "4e76f061-62ba-4bdb-e4bb-667b59efa1fc"
      },
      "source": [
        "#Words tagged as O\n",
        "dataset.loc[dataset['entitas bernama'] == 'O', 'token'].head()"
      ],
      "execution_count": null,
      "outputs": [
        {
          "output_type": "execute_result",
          "data": {
            "text/plain": [
              "0          Ia\n",
              "1    menjabat\n",
              "2     sebagai\n",
              "3    Presiden\n",
              "4      ketiga\n",
              "Name: token, dtype: object"
            ]
          },
          "metadata": {},
          "execution_count": 17
        }
      ]
    },
    {
      "cell_type": "markdown",
      "metadata": {
        "id": "SyG5LDfLhs3Y"
      },
      "source": [
        "**Menghitung Jumlah Entitas Bernama**"
      ]
    },
    {
      "cell_type": "code",
      "metadata": {
        "colab": {
          "base_uri": "https://localhost:8080/"
        },
        "id": "nbMdhYmBhbMA",
        "outputId": "a9da9919-2546-4b5e-cdbb-aa04445ccf80"
      },
      "source": [
        "dataframe = dataset.groupby(\"entitas bernama\" )\n",
        "dataframe[\"entitas bernama\"].count() "
      ],
      "execution_count": null,
      "outputs": [
        {
          "output_type": "execute_result",
          "data": {
            "text/plain": [
              "entitas bernama\n",
              "3818                 1\n",
              "O               103251\n",
              "Organisation       804\n",
              "Person            2358\n",
              "Place             9893\n",
              "Name: entitas bernama, dtype: int64"
            ]
          },
          "metadata": {},
          "execution_count": 18
        }
      ]
    },
    {
      "cell_type": "code",
      "metadata": {
        "id": "PtCKuwbIiSh8"
      },
      "source": [
        ""
      ],
      "execution_count": null,
      "outputs": []
    }
  ]
}