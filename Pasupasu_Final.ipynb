{
  "nbformat": 4,
  "nbformat_minor": 0,
  "metadata": {
    "colab": {
      "name": "Pasupasu_Final.ipynb",
      "provenance": [],
      "collapsed_sections": []
    },
    "kernelspec": {
      "name": "python3",
      "display_name": "Python 3"
    },
    "language_info": {
      "name": "python"
    }
  },
  "cells": [
    {
      "cell_type": "markdown",
      "metadata": {
        "id": "view-in-github"
      },
      "source": [
        "<a href=\"https://colab.research.google.com/github/angelinasinaga/Indonesian_Named-entity_Recognition/blob/main/Pasupasu.ipynb\" target=\"_parent\"><img src=\"https://colab.research.google.com/assets/colab-badge.svg\" alt=\"Open In Colab\"/></a>"
      ]
    },
    {
      "cell_type": "markdown",
      "metadata": {
        "id": "6p3N2DgNc8qD"
      },
      "source": [
        "## **1. LOAD DATA** ##"
      ]
    },
    {
      "cell_type": "markdown",
      "metadata": {
        "id": "jMJjTGm9dG-B"
      },
      "source": [
        "**1.1 Import Libraries**"
      ]
    },
    {
      "cell_type": "code",
      "metadata": {
        "id": "6ImtqLSFcgPx"
      },
      "source": [
        "#Data analysis   \n",
        "import pandas as pd \n",
        "import numpy as np\n",
        "import csv\n",
        "import nltk\n",
        "import tensorflow as tf"
      ],
      "execution_count": null,
      "outputs": []
    },
    {
      "cell_type": "code",
      "metadata": {
        "id": "a6Gn4SOUcn78"
      },
      "source": [
        "#Data visualisation \n",
        "import matplotlib.pyplot as plt\n",
        "import seaborn as sns\n",
        "sns.set(color_codes=True)\n",
        "sns.set(font_scale=1)\n",
        "%matplotlib inline\n",
        "from matplotlib import ticker\n",
        "%config InlineBackend.figure_format = 'svg'"
      ],
      "execution_count": null,
      "outputs": []
    },
    {
      "cell_type": "code",
      "metadata": {
        "id": "FhVtjkD7dRwN"
      },
      "source": [
        "#Modeling\n",
        "from sklearn.model_selection import cross_val_predict, cross_val_score\n",
        "from sklearn.ensemble import RandomForestClassifier"
      ],
      "execution_count": null,
      "outputs": []
    },
    {
      "cell_type": "code",
      "metadata": {
        "colab": {
          "base_uri": "https://localhost:8080/"
        },
        "id": "URjChRzbnbn3",
        "outputId": "1239ada4-9e5a-4b47-9bc0-c1baebed00e3"
      },
      "source": [
        "!pip install eli5"
      ],
      "execution_count": null,
      "outputs": [
        {
          "output_type": "stream",
          "name": "stdout",
          "text": [
            "Collecting eli5\n",
            "  Downloading eli5-0.11.0-py2.py3-none-any.whl (106 kB)\n",
            "\u001b[?25l\r\u001b[K     |███                             | 10 kB 23.4 MB/s eta 0:00:01\r\u001b[K     |██████▏                         | 20 kB 27.6 MB/s eta 0:00:01\r\u001b[K     |█████████▎                      | 30 kB 28.6 MB/s eta 0:00:01\r\u001b[K     |████████████▍                   | 40 kB 30.3 MB/s eta 0:00:01\r\u001b[K     |███████████████▌                | 51 kB 32.6 MB/s eta 0:00:01\r\u001b[K     |██████████████████▌             | 61 kB 34.4 MB/s eta 0:00:01\r\u001b[K     |█████████████████████▋          | 71 kB 32.1 MB/s eta 0:00:01\r\u001b[K     |████████████████████████▊       | 81 kB 33.9 MB/s eta 0:00:01\r\u001b[K     |███████████████████████████▉    | 92 kB 34.4 MB/s eta 0:00:01\r\u001b[K     |███████████████████████████████ | 102 kB 30.4 MB/s eta 0:00:01\r\u001b[K     |████████████████████████████████| 106 kB 30.4 MB/s \n",
            "\u001b[?25hRequirement already satisfied: scikit-learn>=0.20 in /usr/local/lib/python3.7/dist-packages (from eli5) (1.0.1)\n",
            "Requirement already satisfied: scipy in /usr/local/lib/python3.7/dist-packages (from eli5) (1.4.1)\n",
            "Requirement already satisfied: attrs>16.0.0 in /usr/local/lib/python3.7/dist-packages (from eli5) (21.2.0)\n",
            "Requirement already satisfied: jinja2 in /usr/local/lib/python3.7/dist-packages (from eli5) (2.11.3)\n",
            "Requirement already satisfied: graphviz in /usr/local/lib/python3.7/dist-packages (from eli5) (0.10.1)\n",
            "Requirement already satisfied: tabulate>=0.7.7 in /usr/local/lib/python3.7/dist-packages (from eli5) (0.8.9)\n",
            "Requirement already satisfied: six in /usr/local/lib/python3.7/dist-packages (from eli5) (1.15.0)\n",
            "Requirement already satisfied: numpy>=1.9.0 in /usr/local/lib/python3.7/dist-packages (from eli5) (1.19.5)\n",
            "Requirement already satisfied: joblib>=0.11 in /usr/local/lib/python3.7/dist-packages (from scikit-learn>=0.20->eli5) (1.1.0)\n",
            "Requirement already satisfied: threadpoolctl>=2.0.0 in /usr/local/lib/python3.7/dist-packages (from scikit-learn>=0.20->eli5) (3.0.0)\n",
            "Requirement already satisfied: MarkupSafe>=0.23 in /usr/local/lib/python3.7/dist-packages (from jinja2->eli5) (2.0.1)\n",
            "Installing collected packages: eli5\n",
            "Successfully installed eli5-0.11.0\n"
          ]
        }
      ]
    },
    {
      "cell_type": "code",
      "metadata": {
        "id": "Wu-T9Kg-NRG4"
      },
      "source": [
        "# from sklearn_crfsuite import CRF, scorers, metrics\n",
        "# import sklearn_crfsuite\n",
        "# from sklearn_crfsuite import scorers\n",
        "# from sklearn_crfsuite import metrics\n",
        "# from sklearn_crfsuite.metrics import flat_classification_report\n",
        "from sklearn.metrics import classification_report, make_scorer\n",
        "from sklearn.model_selection import RandomizedSearchCV\n",
        "from sklearn.model_selection import GridSearchCV\n",
        "import scipy.stats\n",
        "import eli5"
      ],
      "execution_count": null,
      "outputs": []
    },
    {
      "cell_type": "markdown",
      "metadata": {
        "id": "n4JCktyXaqcb"
      },
      "source": [
        "**1.2 Load Data**"
      ]
    },
    {
      "cell_type": "code",
      "metadata": {
        "colab": {
          "base_uri": "https://localhost:8080/"
        },
        "id": "MPPegynYP2Il",
        "outputId": "e57744bb-9887-4833-b73a-8557145d5ef5"
      },
      "source": [
        "from google.colab import drive\n",
        "drive.mount('/content/drive')"
      ],
      "execution_count": null,
      "outputs": [
        {
          "output_type": "stream",
          "name": "stdout",
          "text": [
            "Mounted at /content/drive\n"
          ]
        }
      ]
    },
    {
      "cell_type": "code",
      "metadata": {
        "id": "W8i0Kn52Qf6F"
      },
      "source": [
        "list_kalimat = []\n",
        "nomor_kalimat = 1\n",
        "\n",
        "# open file in read mode\n",
        "with open('/content/drive/MyDrive/pba/dataset/singgalang.tsv', encoding='UTF-8') as read_obj:\n",
        "    # pass the file object to reader() to get the reader object\n",
        "    csv_reader = csv.reader(read_obj, delimiter='\\t', quotechar=None)\n",
        "# Menginstruksikan reader untuk tidak melakukan pemrosesan khusus terhadap karakter kutipan\n",
        "    # Iterate over each row in the csv using reader object\n",
        "    for row in csv_reader:\n",
        "        # row variable is a list that represents a row in csv\n",
        "        if len(row) == 0:\n",
        "            nomor_kalimat += 1 \n",
        "        else:\n",
        "            tmp_row= row\n",
        "            tmp_row.append(nomor_kalimat)\n",
        "            list_kalimat.append(tmp_row)\n",
        "\n",
        "dataset = pd.DataFrame(list_kalimat, columns=['token', 'entitas bernama', 'kalimat'])"
      ],
      "execution_count": null,
      "outputs": []
    },
    {
      "cell_type": "code",
      "metadata": {
        "colab": {
          "base_uri": "https://localhost:8080/",
          "height": 206
        },
        "id": "KnjFKMZNV12B",
        "outputId": "11a3f02a-d62c-4447-8ac9-2e365d787894"
      },
      "source": [
        "dataset.head()"
      ],
      "execution_count": null,
      "outputs": [
        {
          "output_type": "execute_result",
          "data": {
            "text/html": [
              "<div>\n",
              "<style scoped>\n",
              "    .dataframe tbody tr th:only-of-type {\n",
              "        vertical-align: middle;\n",
              "    }\n",
              "\n",
              "    .dataframe tbody tr th {\n",
              "        vertical-align: top;\n",
              "    }\n",
              "\n",
              "    .dataframe thead th {\n",
              "        text-align: right;\n",
              "    }\n",
              "</style>\n",
              "<table border=\"1\" class=\"dataframe\">\n",
              "  <thead>\n",
              "    <tr style=\"text-align: right;\">\n",
              "      <th></th>\n",
              "      <th>token</th>\n",
              "      <th>entitas bernama</th>\n",
              "      <th>kalimat</th>\n",
              "    </tr>\n",
              "  </thead>\n",
              "  <tbody>\n",
              "    <tr>\n",
              "      <th>0</th>\n",
              "      <td>Ia</td>\n",
              "      <td>O</td>\n",
              "      <td>1</td>\n",
              "    </tr>\n",
              "    <tr>\n",
              "      <th>1</th>\n",
              "      <td>menjabat</td>\n",
              "      <td>O</td>\n",
              "      <td>1</td>\n",
              "    </tr>\n",
              "    <tr>\n",
              "      <th>2</th>\n",
              "      <td>sebagai</td>\n",
              "      <td>O</td>\n",
              "      <td>1</td>\n",
              "    </tr>\n",
              "    <tr>\n",
              "      <th>3</th>\n",
              "      <td>Presiden</td>\n",
              "      <td>O</td>\n",
              "      <td>1</td>\n",
              "    </tr>\n",
              "    <tr>\n",
              "      <th>4</th>\n",
              "      <td>ketiga</td>\n",
              "      <td>O</td>\n",
              "      <td>1</td>\n",
              "    </tr>\n",
              "  </tbody>\n",
              "</table>\n",
              "</div>"
            ],
            "text/plain": [
              "      token entitas bernama  kalimat\n",
              "0        Ia               O        1\n",
              "1  menjabat               O        1\n",
              "2   sebagai               O        1\n",
              "3  Presiden               O        1\n",
              "4    ketiga               O        1"
            ]
          },
          "metadata": {},
          "execution_count": 9
        }
      ]
    },
    {
      "cell_type": "code",
      "metadata": {
        "id": "USk9ltjmWHoS",
        "colab": {
          "base_uri": "https://localhost:8080/"
        },
        "outputId": "3bbc1dd3-3210-4da7-bc13-c1a561d68ecd"
      },
      "source": [
        "dataset.info()"
      ],
      "execution_count": null,
      "outputs": [
        {
          "output_type": "stream",
          "name": "stdout",
          "text": [
            "<class 'pandas.core.frame.DataFrame'>\n",
            "RangeIndex: 1478268 entries, 0 to 1478267\n",
            "Data columns (total 3 columns):\n",
            " #   Column           Non-Null Count    Dtype \n",
            "---  ------           --------------    ----- \n",
            " 0   token            1478268 non-null  object\n",
            " 1   entitas bernama  1478268 non-null  object\n",
            " 2   kalimat          1478268 non-null  int64 \n",
            "dtypes: int64(1), object(2)\n",
            "memory usage: 33.8+ MB\n"
          ]
        }
      ]
    },
    {
      "cell_type": "markdown",
      "metadata": {
        "id": "N4T5FDujdmAD"
      },
      "source": [
        "## **2. Exploring / Visualisasi Data (Analisis Data)** ##"
      ]
    },
    {
      "cell_type": "markdown",
      "metadata": {
        "id": "ZeTGTXKqd0Lm"
      },
      "source": [
        "Membangun kelas sederhana untuk menggabungkan kata-kata ke dalam kalimat. "
      ]
    },
    {
      "cell_type": "code",
      "metadata": {
        "colab": {
          "base_uri": "https://localhost:8080/"
        },
        "id": "rR6d694dek01",
        "outputId": "eeb269a2-7220-4882-c2db-acb6591df8b2"
      },
      "source": [
        "print(\"Jumlah kalimat: \", len(dataset.groupby(['kalimat'])))\n",
        "words = list(set(dataset[\"token\"].values))\n",
        "n_words = len(words)\n",
        "print(\"Jumlah kata unik : \", n_words)\n",
        "tags = list(set(dataset[\"entitas bernama\"].values))\n",
        "print(\"Entitas bernama:\", tags)\n",
        "n_tags = len(tags)\n",
        "print(\"Jumlah entitas bernama: \", n_tags)"
      ],
      "execution_count": null,
      "outputs": [
        {
          "output_type": "stream",
          "name": "stdout",
          "text": [
            "Jumlah kalimat:  48957\n",
            "Jumlah kata unik :  100839\n",
            "Entitas bernama: ['Organisation', 'O', 'Person', 'Place']\n",
            "Jumlah entitas bernama:  4\n"
          ]
        }
      ]
    },
    {
      "cell_type": "code",
      "metadata": {
        "colab": {
          "base_uri": "https://localhost:8080/"
        },
        "id": "ZmjLkR8een6S",
        "outputId": "0640a4f7-ab70-431d-c0b9-53efa72af273"
      },
      "source": [
        "#Words tagged as Place\n",
        "dataset.loc[dataset['entitas bernama'] == 'Place', 'token'].head()"
      ],
      "execution_count": null,
      "outputs": [
        {
          "output_type": "execute_result",
          "data": {
            "text/plain": [
              "5        Mesir\n",
              "29       Mesir\n",
              "47       Mesir\n",
              "68    Kerajaan\n",
              "70       Kairo\n",
              "Name: token, dtype: object"
            ]
          },
          "metadata": {},
          "execution_count": 12
        }
      ]
    },
    {
      "cell_type": "code",
      "metadata": {
        "colab": {
          "base_uri": "https://localhost:8080/"
        },
        "id": "1HWQZKoxfXGF",
        "outputId": "aff10e86-3c9b-4f7a-ead0-22b9bf4bac15"
      },
      "source": [
        "#Words tagged as Person\n",
        "dataset.loc[dataset['entitas bernama'] == 'Person', 'token'].head()"
      ],
      "execution_count": null,
      "outputs": [
        {
          "output_type": "execute_result",
          "data": {
            "text/plain": [
              "38     Sadat\n",
              "100    Anwar\n",
              "101    Sadat\n",
              "105    Hafez\n",
              "107    Assad\n",
              "Name: token, dtype: object"
            ]
          },
          "metadata": {},
          "execution_count": 13
        }
      ]
    },
    {
      "cell_type": "code",
      "metadata": {
        "colab": {
          "base_uri": "https://localhost:8080/"
        },
        "id": "fey95S57hUYE",
        "outputId": "4e0cafd6-e50b-4c07-82a8-ce974b557c0f"
      },
      "source": [
        "#Words tagged as Organisation\n",
        "dataset.loc[dataset['entitas bernama'] == 'Organisation', 'token'].head()"
      ],
      "execution_count": null,
      "outputs": [
        {
          "output_type": "execute_result",
          "data": {
            "text/plain": [
              "568    Universitas\n",
              "569      Indonesia\n",
              "711     Independen\n",
              "778    Universitas\n",
              "779         Gadjah\n",
              "Name: token, dtype: object"
            ]
          },
          "metadata": {},
          "execution_count": 14
        }
      ]
    },
    {
      "cell_type": "code",
      "metadata": {
        "colab": {
          "base_uri": "https://localhost:8080/"
        },
        "id": "Xfi5cBHjhXiA",
        "outputId": "74ea5b6f-906d-4580-ca07-e6dbcde22a84"
      },
      "source": [
        "#Words tagged as O\n",
        "dataset.loc[dataset['entitas bernama'] == 'O', 'token'].head()"
      ],
      "execution_count": null,
      "outputs": [
        {
          "output_type": "execute_result",
          "data": {
            "text/plain": [
              "0          Ia\n",
              "1    menjabat\n",
              "2     sebagai\n",
              "3    Presiden\n",
              "4      ketiga\n",
              "Name: token, dtype: object"
            ]
          },
          "metadata": {},
          "execution_count": 15
        }
      ]
    },
    {
      "cell_type": "markdown",
      "metadata": {
        "id": "SyG5LDfLhs3Y"
      },
      "source": [
        "**Menghitung Jumlah Entitas Bernama**"
      ]
    },
    {
      "cell_type": "code",
      "metadata": {
        "colab": {
          "base_uri": "https://localhost:8080/"
        },
        "id": "nbMdhYmBhbMA",
        "outputId": "1595ffac-ffc5-418d-f13d-b75505841ac1"
      },
      "source": [
        "dataframe = dataset.groupby(\"entitas bernama\" )\n",
        "dataframe[\"entitas bernama\"].count() "
      ],
      "execution_count": null,
      "outputs": [
        {
          "output_type": "execute_result",
          "data": {
            "text/plain": [
              "entitas bernama\n",
              "O               1340023\n",
              "Organisation      14770\n",
              "Person            41297\n",
              "Place             82178\n",
              "Name: entitas bernama, dtype: int64"
            ]
          },
          "metadata": {},
          "execution_count": 16
        }
      ]
    },
    {
      "cell_type": "markdown",
      "metadata": {
        "id": "Jilt-U8knEiH"
      },
      "source": [
        "**Menampilkan 20 token pertama yang paling banyak muncul**"
      ]
    },
    {
      "cell_type": "code",
      "metadata": {
        "id": "PtCKuwbIiSh8",
        "colab": {
          "base_uri": "https://localhost:8080/"
        },
        "outputId": "68b51023-7dcd-401e-ec01-39f805bc576f"
      },
      "source": [
        "dataset['token'].value_counts()[:20]"
      ],
      "execution_count": null,
      "outputs": [
        {
          "output_type": "execute_result",
          "data": {
            "text/plain": [
              ",          88144\n",
              ".          49109\n",
              "dan        37283\n",
              "di         33701\n",
              "yang       29353\n",
              "-LRB-      19843\n",
              "-RRB-      19736\n",
              "''         15906\n",
              "``         15232\n",
              "dengan     15231\n",
              "pada       15021\n",
              "dari       14900\n",
              "tahun      13079\n",
              "sebagai     9038\n",
              "ini         8371\n",
              "untuk       8297\n",
              "dalam       8266\n",
              "adalah      7950\n",
              "menjadi     7414\n",
              "oleh        5974\n",
              "Name: token, dtype: int64"
            ]
          },
          "metadata": {},
          "execution_count": 17
        }
      ]
    },
    {
      "cell_type": "code",
      "metadata": {
        "id": "BbiZzVVinJwH",
        "colab": {
          "base_uri": "https://localhost:8080/",
          "height": 708
        },
        "outputId": "a4303db0-39ac-48df-dc36-c0c5566a24bf"
      },
      "source": [
        "ncount = len(dataset)\n",
        "\n",
        "plt.figure(figsize=(10.5, 8))\n",
        "ax = sns.countplot(x = \"entitas bernama\", data = dataset)\n",
        "plt.title('Distribusi Frekuensi Entitas Bernama')\n",
        "plt.xlabel('Entitas Bernama')\n",
        "\n",
        "# Buat twin axis\n",
        "ax2 = ax.twinx()\n",
        "\n",
        "# Tukar sehingga count axis di kanan, frequency di kiri\n",
        "ax2.yaxis.tick_left()\n",
        "ax.yaxis.tick_right()\n",
        "\n",
        "# Tukar juga label\n",
        "ax.yaxis.set_label_position('right')\n",
        "ax2.yaxis.set_label_position('left')\n",
        "\n",
        "ax.set_ylabel('Jumlah')\n",
        "ax2.set_ylabel('Frekuensi [%]')\n",
        "\n",
        "for p in ax.patches:\n",
        "    x = p.get_bbox().get_points()[:,0]\n",
        "    y = p.get_bbox().get_points()[1, 1]\n",
        "    ax.annotate('{:.1f}%'.format(100.*y/ncount), (x.mean(), y), \n",
        "                ha = 'center', va = 'bottom') # atur alignment teks\n",
        "\n",
        "# Gunakan LinearLocator untuk memastikan jumlah tick yang benar\n",
        "ax.yaxis.set_major_locator(ticker.LinearLocator(11))\n",
        "\n",
        "# Perbaiki rentang frekuensi menjadi 0-100\n",
        "ax2.set_ylim(0, 100)\n",
        "ax.set_ylim(0, ncount)\n",
        "\n",
        "# Gunakan MultipleLocator untuk memastikan spaci antar-tick yaitu 10\n",
        "ax2.yaxis.set_major_locator(ticker.MultipleLocator(10))\n",
        "\n",
        "# Atur sehingga grid pada ax2 off, supaya gridlines tidak ditampilkan\n",
        "# pada bagian atas bar\n",
        "ax2.grid(None)"
      ],
      "execution_count": null,
      "outputs": [
        {
          "output_type": "display_data",
          "data": {
            "text/plain": [
              "<Figure size 756x576 with 2 Axes>"
            ],
            "image/svg+xml": "<?xml version=\"1.0\" encoding=\"utf-8\" standalone=\"no\"?>\n<!DOCTYPE svg PUBLIC \"-//W3C//DTD SVG 1.1//EN\"\n  \"http://www.w3.org/Graphics/SVG/1.1/DTD/svg11.dtd\">\n<!-- Created with matplotlib (https://matplotlib.org/) -->\n<svg height=\"500.157812pt\" version=\"1.1\" viewBox=\"0 0 703.014687 500.157812\" width=\"703.014687pt\" xmlns=\"http://www.w3.org/2000/svg\" xmlns:xlink=\"http://www.w3.org/1999/xlink\">\n <defs>\n  <style type=\"text/css\">\n*{stroke-linecap:butt;stroke-linejoin:round;}\n  </style>\n </defs>\n <g id=\"figure_1\">\n  <g id=\"patch_1\">\n   <path d=\"M 0 500.157812 \nL 703.014687 500.157812 \nL 703.014687 0 \nL 0 0 \nz\n\" style=\"fill:none;\"/>\n  </g>\n  <g id=\"axes_1\">\n   <g id=\"patch_2\">\n    <path d=\"M 53.31 457.198125 \nL 639.21 457.198125 \nL 639.21 22.318125 \nL 53.31 22.318125 \nz\n\" style=\"fill:#eaeaf2;\"/>\n   </g>\n   <g id=\"matplotlib.axis_1\">\n    <g id=\"xtick_1\">\n     <g id=\"text_1\">\n      <!-- O -->\n      <defs>\n       <path d=\"M 39.40625 66.21875 \nQ 28.65625 66.21875 22.328125 58.203125 \nQ 16.015625 50.203125 16.015625 36.375 \nQ 16.015625 22.609375 22.328125 14.59375 \nQ 28.65625 6.59375 39.40625 6.59375 \nQ 50.140625 6.59375 56.421875 14.59375 \nQ 62.703125 22.609375 62.703125 36.375 \nQ 62.703125 50.203125 56.421875 58.203125 \nQ 50.140625 66.21875 39.40625 66.21875 \nz\nM 39.40625 74.21875 \nQ 54.734375 74.21875 63.90625 63.9375 \nQ 73.09375 53.65625 73.09375 36.375 \nQ 73.09375 19.140625 63.90625 8.859375 \nQ 54.734375 -1.421875 39.40625 -1.421875 \nQ 24.03125 -1.421875 14.8125 8.828125 \nQ 5.609375 19.09375 5.609375 36.375 \nQ 5.609375 53.65625 14.8125 63.9375 \nQ 24.03125 74.21875 39.40625 74.21875 \nz\n\" id=\"DejaVuSans-79\"/>\n      </defs>\n      <g style=\"fill:#262626;\" transform=\"translate(122.217969 475.056406)scale(0.11 -0.11)\">\n       <use xlink:href=\"#DejaVuSans-79\"/>\n      </g>\n     </g>\n    </g>\n    <g id=\"xtick_2\">\n     <g id=\"text_2\">\n      <!-- Place -->\n      <defs>\n       <path d=\"M 19.671875 64.796875 \nL 19.671875 37.40625 \nL 32.078125 37.40625 \nQ 38.96875 37.40625 42.71875 40.96875 \nQ 46.484375 44.53125 46.484375 51.125 \nQ 46.484375 57.671875 42.71875 61.234375 \nQ 38.96875 64.796875 32.078125 64.796875 \nz\nM 9.8125 72.90625 \nL 32.078125 72.90625 \nQ 44.34375 72.90625 50.609375 67.359375 \nQ 56.890625 61.8125 56.890625 51.125 \nQ 56.890625 40.328125 50.609375 34.8125 \nQ 44.34375 29.296875 32.078125 29.296875 \nL 19.671875 29.296875 \nL 19.671875 0 \nL 9.8125 0 \nz\n\" id=\"DejaVuSans-80\"/>\n       <path d=\"M 9.421875 75.984375 \nL 18.40625 75.984375 \nL 18.40625 0 \nL 9.421875 0 \nz\n\" id=\"DejaVuSans-108\"/>\n       <path d=\"M 34.28125 27.484375 \nQ 23.390625 27.484375 19.1875 25 \nQ 14.984375 22.515625 14.984375 16.5 \nQ 14.984375 11.71875 18.140625 8.90625 \nQ 21.296875 6.109375 26.703125 6.109375 \nQ 34.1875 6.109375 38.703125 11.40625 \nQ 43.21875 16.703125 43.21875 25.484375 \nL 43.21875 27.484375 \nz\nM 52.203125 31.203125 \nL 52.203125 0 \nL 43.21875 0 \nL 43.21875 8.296875 \nQ 40.140625 3.328125 35.546875 0.953125 \nQ 30.953125 -1.421875 24.3125 -1.421875 \nQ 15.921875 -1.421875 10.953125 3.296875 \nQ 6 8.015625 6 15.921875 \nQ 6 25.140625 12.171875 29.828125 \nQ 18.359375 34.515625 30.609375 34.515625 \nL 43.21875 34.515625 \nL 43.21875 35.40625 \nQ 43.21875 41.609375 39.140625 45 \nQ 35.0625 48.390625 27.6875 48.390625 \nQ 23 48.390625 18.546875 47.265625 \nQ 14.109375 46.140625 10.015625 43.890625 \nL 10.015625 52.203125 \nQ 14.9375 54.109375 19.578125 55.046875 \nQ 24.21875 56 28.609375 56 \nQ 40.484375 56 46.34375 49.84375 \nQ 52.203125 43.703125 52.203125 31.203125 \nz\n\" id=\"DejaVuSans-97\"/>\n       <path d=\"M 48.78125 52.59375 \nL 48.78125 44.1875 \nQ 44.96875 46.296875 41.140625 47.34375 \nQ 37.3125 48.390625 33.40625 48.390625 \nQ 24.65625 48.390625 19.8125 42.84375 \nQ 14.984375 37.3125 14.984375 27.296875 \nQ 14.984375 17.28125 19.8125 11.734375 \nQ 24.65625 6.203125 33.40625 6.203125 \nQ 37.3125 6.203125 41.140625 7.25 \nQ 44.96875 8.296875 48.78125 10.40625 \nL 48.78125 2.09375 \nQ 45.015625 0.34375 40.984375 -0.53125 \nQ 36.96875 -1.421875 32.421875 -1.421875 \nQ 20.0625 -1.421875 12.78125 6.34375 \nQ 5.515625 14.109375 5.515625 27.296875 \nQ 5.515625 40.671875 12.859375 48.328125 \nQ 20.21875 56 33.015625 56 \nQ 37.15625 56 41.109375 55.140625 \nQ 45.0625 54.296875 48.78125 52.59375 \nz\n\" id=\"DejaVuSans-99\"/>\n       <path d=\"M 56.203125 29.59375 \nL 56.203125 25.203125 \nL 14.890625 25.203125 \nQ 15.484375 15.921875 20.484375 11.0625 \nQ 25.484375 6.203125 34.421875 6.203125 \nQ 39.59375 6.203125 44.453125 7.46875 \nQ 49.3125 8.734375 54.109375 11.28125 \nL 54.109375 2.78125 \nQ 49.265625 0.734375 44.1875 -0.34375 \nQ 39.109375 -1.421875 33.890625 -1.421875 \nQ 20.796875 -1.421875 13.15625 6.1875 \nQ 5.515625 13.8125 5.515625 26.8125 \nQ 5.515625 40.234375 12.765625 48.109375 \nQ 20.015625 56 32.328125 56 \nQ 43.359375 56 49.78125 48.890625 \nQ 56.203125 41.796875 56.203125 29.59375 \nz\nM 47.21875 32.234375 \nQ 47.125 39.59375 43.09375 43.984375 \nQ 39.0625 48.390625 32.421875 48.390625 \nQ 24.90625 48.390625 20.390625 44.140625 \nQ 15.875 39.890625 15.1875 32.171875 \nz\n\" id=\"DejaVuSans-101\"/>\n      </defs>\n      <g style=\"fill:#262626;\" transform=\"translate(258.399375 475.056406)scale(0.11 -0.11)\">\n       <use xlink:href=\"#DejaVuSans-80\"/>\n       <use x=\"60.302734\" xlink:href=\"#DejaVuSans-108\"/>\n       <use x=\"88.085938\" xlink:href=\"#DejaVuSans-97\"/>\n       <use x=\"149.365234\" xlink:href=\"#DejaVuSans-99\"/>\n       <use x=\"204.345703\" xlink:href=\"#DejaVuSans-101\"/>\n      </g>\n     </g>\n    </g>\n    <g id=\"xtick_3\">\n     <g id=\"text_3\">\n      <!-- Person -->\n      <defs>\n       <path d=\"M 41.109375 46.296875 \nQ 39.59375 47.171875 37.8125 47.578125 \nQ 36.03125 48 33.890625 48 \nQ 26.265625 48 22.1875 43.046875 \nQ 18.109375 38.09375 18.109375 28.8125 \nL 18.109375 0 \nL 9.078125 0 \nL 9.078125 54.6875 \nL 18.109375 54.6875 \nL 18.109375 46.1875 \nQ 20.953125 51.171875 25.484375 53.578125 \nQ 30.03125 56 36.53125 56 \nQ 37.453125 56 38.578125 55.875 \nQ 39.703125 55.765625 41.0625 55.515625 \nz\n\" id=\"DejaVuSans-114\"/>\n       <path d=\"M 44.28125 53.078125 \nL 44.28125 44.578125 \nQ 40.484375 46.53125 36.375 47.5 \nQ 32.28125 48.484375 27.875 48.484375 \nQ 21.1875 48.484375 17.84375 46.4375 \nQ 14.5 44.390625 14.5 40.28125 \nQ 14.5 37.15625 16.890625 35.375 \nQ 19.28125 33.59375 26.515625 31.984375 \nL 29.59375 31.296875 \nQ 39.15625 29.25 43.1875 25.515625 \nQ 47.21875 21.78125 47.21875 15.09375 \nQ 47.21875 7.46875 41.1875 3.015625 \nQ 35.15625 -1.421875 24.609375 -1.421875 \nQ 20.21875 -1.421875 15.453125 -0.5625 \nQ 10.6875 0.296875 5.421875 2 \nL 5.421875 11.28125 \nQ 10.40625 8.6875 15.234375 7.390625 \nQ 20.0625 6.109375 24.8125 6.109375 \nQ 31.15625 6.109375 34.5625 8.28125 \nQ 37.984375 10.453125 37.984375 14.40625 \nQ 37.984375 18.0625 35.515625 20.015625 \nQ 33.0625 21.96875 24.703125 23.78125 \nL 21.578125 24.515625 \nQ 13.234375 26.265625 9.515625 29.90625 \nQ 5.8125 33.546875 5.8125 39.890625 \nQ 5.8125 47.609375 11.28125 51.796875 \nQ 16.75 56 26.8125 56 \nQ 31.78125 56 36.171875 55.265625 \nQ 40.578125 54.546875 44.28125 53.078125 \nz\n\" id=\"DejaVuSans-115\"/>\n       <path d=\"M 30.609375 48.390625 \nQ 23.390625 48.390625 19.1875 42.75 \nQ 14.984375 37.109375 14.984375 27.296875 \nQ 14.984375 17.484375 19.15625 11.84375 \nQ 23.34375 6.203125 30.609375 6.203125 \nQ 37.796875 6.203125 41.984375 11.859375 \nQ 46.1875 17.53125 46.1875 27.296875 \nQ 46.1875 37.015625 41.984375 42.703125 \nQ 37.796875 48.390625 30.609375 48.390625 \nz\nM 30.609375 56 \nQ 42.328125 56 49.015625 48.375 \nQ 55.71875 40.765625 55.71875 27.296875 \nQ 55.71875 13.875 49.015625 6.21875 \nQ 42.328125 -1.421875 30.609375 -1.421875 \nQ 18.84375 -1.421875 12.171875 6.21875 \nQ 5.515625 13.875 5.515625 27.296875 \nQ 5.515625 40.765625 12.171875 48.375 \nQ 18.84375 56 30.609375 56 \nz\n\" id=\"DejaVuSans-111\"/>\n       <path d=\"M 54.890625 33.015625 \nL 54.890625 0 \nL 45.90625 0 \nL 45.90625 32.71875 \nQ 45.90625 40.484375 42.875 44.328125 \nQ 39.84375 48.1875 33.796875 48.1875 \nQ 26.515625 48.1875 22.3125 43.546875 \nQ 18.109375 38.921875 18.109375 30.90625 \nL 18.109375 0 \nL 9.078125 0 \nL 9.078125 54.6875 \nL 18.109375 54.6875 \nL 18.109375 46.1875 \nQ 21.34375 51.125 25.703125 53.5625 \nQ 30.078125 56 35.796875 56 \nQ 45.21875 56 50.046875 50.171875 \nQ 54.890625 44.34375 54.890625 33.015625 \nz\n\" id=\"DejaVuSans-110\"/>\n      </defs>\n      <g style=\"fill:#262626;\" transform=\"translate(401.019219 475.056406)scale(0.11 -0.11)\">\n       <use xlink:href=\"#DejaVuSans-80\"/>\n       <use x=\"56.677734\" xlink:href=\"#DejaVuSans-101\"/>\n       <use x=\"118.201172\" xlink:href=\"#DejaVuSans-114\"/>\n       <use x=\"159.314453\" xlink:href=\"#DejaVuSans-115\"/>\n       <use x=\"211.414062\" xlink:href=\"#DejaVuSans-111\"/>\n       <use x=\"272.595703\" xlink:href=\"#DejaVuSans-110\"/>\n      </g>\n     </g>\n    </g>\n    <g id=\"xtick_4\">\n     <g id=\"text_4\">\n      <!-- Organisation -->\n      <defs>\n       <path d=\"M 45.40625 27.984375 \nQ 45.40625 37.75 41.375 43.109375 \nQ 37.359375 48.484375 30.078125 48.484375 \nQ 22.859375 48.484375 18.828125 43.109375 \nQ 14.796875 37.75 14.796875 27.984375 \nQ 14.796875 18.265625 18.828125 12.890625 \nQ 22.859375 7.515625 30.078125 7.515625 \nQ 37.359375 7.515625 41.375 12.890625 \nQ 45.40625 18.265625 45.40625 27.984375 \nz\nM 54.390625 6.78125 \nQ 54.390625 -7.171875 48.1875 -13.984375 \nQ 42 -20.796875 29.203125 -20.796875 \nQ 24.46875 -20.796875 20.265625 -20.09375 \nQ 16.0625 -19.390625 12.109375 -17.921875 \nL 12.109375 -9.1875 \nQ 16.0625 -11.328125 19.921875 -12.34375 \nQ 23.78125 -13.375 27.78125 -13.375 \nQ 36.625 -13.375 41.015625 -8.765625 \nQ 45.40625 -4.15625 45.40625 5.171875 \nL 45.40625 9.625 \nQ 42.625 4.78125 38.28125 2.390625 \nQ 33.9375 0 27.875 0 \nQ 17.828125 0 11.671875 7.65625 \nQ 5.515625 15.328125 5.515625 27.984375 \nQ 5.515625 40.671875 11.671875 48.328125 \nQ 17.828125 56 27.875 56 \nQ 33.9375 56 38.28125 53.609375 \nQ 42.625 51.21875 45.40625 46.390625 \nL 45.40625 54.6875 \nL 54.390625 54.6875 \nz\n\" id=\"DejaVuSans-103\"/>\n       <path d=\"M 9.421875 54.6875 \nL 18.40625 54.6875 \nL 18.40625 0 \nL 9.421875 0 \nz\nM 9.421875 75.984375 \nL 18.40625 75.984375 \nL 18.40625 64.59375 \nL 9.421875 64.59375 \nz\n\" id=\"DejaVuSans-105\"/>\n       <path d=\"M 18.3125 70.21875 \nL 18.3125 54.6875 \nL 36.8125 54.6875 \nL 36.8125 47.703125 \nL 18.3125 47.703125 \nL 18.3125 18.015625 \nQ 18.3125 11.328125 20.140625 9.421875 \nQ 21.96875 7.515625 27.59375 7.515625 \nL 36.8125 7.515625 \nL 36.8125 0 \nL 27.59375 0 \nQ 17.1875 0 13.234375 3.875 \nQ 9.28125 7.765625 9.28125 18.015625 \nL 9.28125 47.703125 \nL 2.6875 47.703125 \nL 2.6875 54.6875 \nL 9.28125 54.6875 \nL 9.28125 70.21875 \nz\n\" id=\"DejaVuSans-116\"/>\n      </defs>\n      <g style=\"fill:#262626;\" transform=\"translate(530.831797 475.056406)scale(0.11 -0.11)\">\n       <use xlink:href=\"#DejaVuSans-79\"/>\n       <use x=\"78.710938\" xlink:href=\"#DejaVuSans-114\"/>\n       <use x=\"118.074219\" xlink:href=\"#DejaVuSans-103\"/>\n       <use x=\"181.550781\" xlink:href=\"#DejaVuSans-97\"/>\n       <use x=\"242.830078\" xlink:href=\"#DejaVuSans-110\"/>\n       <use x=\"306.208984\" xlink:href=\"#DejaVuSans-105\"/>\n       <use x=\"333.992188\" xlink:href=\"#DejaVuSans-115\"/>\n       <use x=\"386.091797\" xlink:href=\"#DejaVuSans-97\"/>\n       <use x=\"447.371094\" xlink:href=\"#DejaVuSans-116\"/>\n       <use x=\"486.580078\" xlink:href=\"#DejaVuSans-105\"/>\n       <use x=\"514.363281\" xlink:href=\"#DejaVuSans-111\"/>\n       <use x=\"575.544922\" xlink:href=\"#DejaVuSans-110\"/>\n      </g>\n     </g>\n    </g>\n    <g id=\"text_5\">\n     <!-- Entitas Bernama -->\n     <defs>\n      <path d=\"M 9.8125 72.90625 \nL 55.90625 72.90625 \nL 55.90625 64.59375 \nL 19.671875 64.59375 \nL 19.671875 43.015625 \nL 54.390625 43.015625 \nL 54.390625 34.71875 \nL 19.671875 34.71875 \nL 19.671875 8.296875 \nL 56.78125 8.296875 \nL 56.78125 0 \nL 9.8125 0 \nz\n\" id=\"DejaVuSans-69\"/>\n      <path id=\"DejaVuSans-32\"/>\n      <path d=\"M 19.671875 34.8125 \nL 19.671875 8.109375 \nL 35.5 8.109375 \nQ 43.453125 8.109375 47.28125 11.40625 \nQ 51.125 14.703125 51.125 21.484375 \nQ 51.125 28.328125 47.28125 31.5625 \nQ 43.453125 34.8125 35.5 34.8125 \nz\nM 19.671875 64.796875 \nL 19.671875 42.828125 \nL 34.28125 42.828125 \nQ 41.5 42.828125 45.03125 45.53125 \nQ 48.578125 48.25 48.578125 53.8125 \nQ 48.578125 59.328125 45.03125 62.0625 \nQ 41.5 64.796875 34.28125 64.796875 \nz\nM 9.8125 72.90625 \nL 35.015625 72.90625 \nQ 46.296875 72.90625 52.390625 68.21875 \nQ 58.5 63.53125 58.5 54.890625 \nQ 58.5 48.1875 55.375 44.234375 \nQ 52.25 40.28125 46.1875 39.3125 \nQ 53.46875 37.75 57.5 32.78125 \nQ 61.53125 27.828125 61.53125 20.40625 \nQ 61.53125 10.640625 54.890625 5.3125 \nQ 48.25 0 35.984375 0 \nL 9.8125 0 \nz\n\" id=\"DejaVuSans-66\"/>\n      <path d=\"M 52 44.1875 \nQ 55.375 50.25 60.0625 53.125 \nQ 64.75 56 71.09375 56 \nQ 79.640625 56 84.28125 50.015625 \nQ 88.921875 44.046875 88.921875 33.015625 \nL 88.921875 0 \nL 79.890625 0 \nL 79.890625 32.71875 \nQ 79.890625 40.578125 77.09375 44.375 \nQ 74.3125 48.1875 68.609375 48.1875 \nQ 61.625 48.1875 57.5625 43.546875 \nQ 53.515625 38.921875 53.515625 30.90625 \nL 53.515625 0 \nL 44.484375 0 \nL 44.484375 32.71875 \nQ 44.484375 40.625 41.703125 44.40625 \nQ 38.921875 48.1875 33.109375 48.1875 \nQ 26.21875 48.1875 22.15625 43.53125 \nQ 18.109375 38.875 18.109375 30.90625 \nL 18.109375 0 \nL 9.078125 0 \nL 9.078125 54.6875 \nL 18.109375 54.6875 \nL 18.109375 46.1875 \nQ 21.1875 51.21875 25.484375 53.609375 \nQ 29.78125 56 35.6875 56 \nQ 41.65625 56 45.828125 52.96875 \nQ 50 49.953125 52 44.1875 \nz\n\" id=\"DejaVuSans-109\"/>\n     </defs>\n     <g style=\"fill:#262626;\" transform=\"translate(296.415 490.462187)scale(0.12 -0.12)\">\n      <use xlink:href=\"#DejaVuSans-69\"/>\n      <use x=\"63.183594\" xlink:href=\"#DejaVuSans-110\"/>\n      <use x=\"126.5625\" xlink:href=\"#DejaVuSans-116\"/>\n      <use x=\"165.771484\" xlink:href=\"#DejaVuSans-105\"/>\n      <use x=\"193.554688\" xlink:href=\"#DejaVuSans-116\"/>\n      <use x=\"232.763672\" xlink:href=\"#DejaVuSans-97\"/>\n      <use x=\"294.042969\" xlink:href=\"#DejaVuSans-115\"/>\n      <use x=\"346.142578\" xlink:href=\"#DejaVuSans-32\"/>\n      <use x=\"377.929688\" xlink:href=\"#DejaVuSans-66\"/>\n      <use x=\"446.533203\" xlink:href=\"#DejaVuSans-101\"/>\n      <use x=\"508.056641\" xlink:href=\"#DejaVuSans-114\"/>\n      <use x=\"547.419922\" xlink:href=\"#DejaVuSans-110\"/>\n      <use x=\"610.798828\" xlink:href=\"#DejaVuSans-97\"/>\n      <use x=\"672.078125\" xlink:href=\"#DejaVuSans-109\"/>\n      <use x=\"769.490234\" xlink:href=\"#DejaVuSans-97\"/>\n     </g>\n    </g>\n   </g>\n   <g id=\"matplotlib.axis_2\">\n    <g id=\"ytick_1\">\n     <g id=\"line2d_1\">\n      <path clip-path=\"url(#pe5d1475f87)\" d=\"M 53.31 457.198125 \nL 639.21 457.198125 \n\" style=\"fill:none;stroke:#ffffff;stroke-linecap:round;\"/>\n     </g>\n     <g id=\"line2d_2\">\n      <defs>\n       <path d=\"M 0 0 \nL 6 0 \n\" id=\"mb9056555ed\" style=\"stroke:#262626;stroke-width:1.25;\"/>\n      </defs>\n      <g>\n       <use style=\"fill:#262626;stroke:#262626;stroke-width:1.25;\" x=\"639.21\" xlink:href=\"#mb9056555ed\" y=\"457.198125\"/>\n      </g>\n     </g>\n     <g id=\"text_6\">\n      <!-- 0.000 -->\n      <defs>\n       <path d=\"M 31.78125 66.40625 \nQ 24.171875 66.40625 20.328125 58.90625 \nQ 16.5 51.421875 16.5 36.375 \nQ 16.5 21.390625 20.328125 13.890625 \nQ 24.171875 6.390625 31.78125 6.390625 \nQ 39.453125 6.390625 43.28125 13.890625 \nQ 47.125 21.390625 47.125 36.375 \nQ 47.125 51.421875 43.28125 58.90625 \nQ 39.453125 66.40625 31.78125 66.40625 \nz\nM 31.78125 74.21875 \nQ 44.046875 74.21875 50.515625 64.515625 \nQ 56.984375 54.828125 56.984375 36.375 \nQ 56.984375 17.96875 50.515625 8.265625 \nQ 44.046875 -1.421875 31.78125 -1.421875 \nQ 19.53125 -1.421875 13.0625 8.265625 \nQ 6.59375 17.96875 6.59375 36.375 \nQ 6.59375 54.828125 13.0625 64.515625 \nQ 19.53125 74.21875 31.78125 74.21875 \nz\n\" id=\"DejaVuSans-48\"/>\n       <path d=\"M 10.6875 12.40625 \nL 21 12.40625 \nL 21 0 \nL 10.6875 0 \nz\n\" id=\"DejaVuSans-46\"/>\n      </defs>\n      <g style=\"fill:#262626;\" transform=\"translate(648.71 461.377266)scale(0.11 -0.11)\">\n       <use xlink:href=\"#DejaVuSans-48\"/>\n       <use x=\"63.623047\" xlink:href=\"#DejaVuSans-46\"/>\n       <use x=\"95.410156\" xlink:href=\"#DejaVuSans-48\"/>\n       <use x=\"159.033203\" xlink:href=\"#DejaVuSans-48\"/>\n       <use x=\"222.65625\" xlink:href=\"#DejaVuSans-48\"/>\n      </g>\n     </g>\n    </g>\n    <g id=\"ytick_2\">\n     <g id=\"line2d_3\">\n      <path clip-path=\"url(#pe5d1475f87)\" d=\"M 53.31 413.710125 \nL 639.21 413.710125 \n\" style=\"fill:none;stroke:#ffffff;stroke-linecap:round;\"/>\n     </g>\n     <g id=\"line2d_4\">\n      <g>\n       <use style=\"fill:#262626;stroke:#262626;stroke-width:1.25;\" x=\"639.21\" xlink:href=\"#mb9056555ed\" y=\"413.710125\"/>\n      </g>\n     </g>\n     <g id=\"text_7\">\n      <!-- 0.148 -->\n      <defs>\n       <path d=\"M 12.40625 8.296875 \nL 28.515625 8.296875 \nL 28.515625 63.921875 \nL 10.984375 60.40625 \nL 10.984375 69.390625 \nL 28.421875 72.90625 \nL 38.28125 72.90625 \nL 38.28125 8.296875 \nL 54.390625 8.296875 \nL 54.390625 0 \nL 12.40625 0 \nz\n\" id=\"DejaVuSans-49\"/>\n       <path d=\"M 37.796875 64.3125 \nL 12.890625 25.390625 \nL 37.796875 25.390625 \nz\nM 35.203125 72.90625 \nL 47.609375 72.90625 \nL 47.609375 25.390625 \nL 58.015625 25.390625 \nL 58.015625 17.1875 \nL 47.609375 17.1875 \nL 47.609375 0 \nL 37.796875 0 \nL 37.796875 17.1875 \nL 4.890625 17.1875 \nL 4.890625 26.703125 \nz\n\" id=\"DejaVuSans-52\"/>\n       <path d=\"M 31.78125 34.625 \nQ 24.75 34.625 20.71875 30.859375 \nQ 16.703125 27.09375 16.703125 20.515625 \nQ 16.703125 13.921875 20.71875 10.15625 \nQ 24.75 6.390625 31.78125 6.390625 \nQ 38.8125 6.390625 42.859375 10.171875 \nQ 46.921875 13.96875 46.921875 20.515625 \nQ 46.921875 27.09375 42.890625 30.859375 \nQ 38.875 34.625 31.78125 34.625 \nz\nM 21.921875 38.8125 \nQ 15.578125 40.375 12.03125 44.71875 \nQ 8.5 49.078125 8.5 55.328125 \nQ 8.5 64.0625 14.71875 69.140625 \nQ 20.953125 74.21875 31.78125 74.21875 \nQ 42.671875 74.21875 48.875 69.140625 \nQ 55.078125 64.0625 55.078125 55.328125 \nQ 55.078125 49.078125 51.53125 44.71875 \nQ 48 40.375 41.703125 38.8125 \nQ 48.828125 37.15625 52.796875 32.3125 \nQ 56.78125 27.484375 56.78125 20.515625 \nQ 56.78125 9.90625 50.3125 4.234375 \nQ 43.84375 -1.421875 31.78125 -1.421875 \nQ 19.734375 -1.421875 13.25 4.234375 \nQ 6.78125 9.90625 6.78125 20.515625 \nQ 6.78125 27.484375 10.78125 32.3125 \nQ 14.796875 37.15625 21.921875 38.8125 \nz\nM 18.3125 54.390625 \nQ 18.3125 48.734375 21.84375 45.5625 \nQ 25.390625 42.390625 31.78125 42.390625 \nQ 38.140625 42.390625 41.71875 45.5625 \nQ 45.3125 48.734375 45.3125 54.390625 \nQ 45.3125 60.0625 41.71875 63.234375 \nQ 38.140625 66.40625 31.78125 66.40625 \nQ 25.390625 66.40625 21.84375 63.234375 \nQ 18.3125 60.0625 18.3125 54.390625 \nz\n\" id=\"DejaVuSans-56\"/>\n      </defs>\n      <g style=\"fill:#262626;\" transform=\"translate(648.71 417.889266)scale(0.11 -0.11)\">\n       <use xlink:href=\"#DejaVuSans-48\"/>\n       <use x=\"63.623047\" xlink:href=\"#DejaVuSans-46\"/>\n       <use x=\"95.410156\" xlink:href=\"#DejaVuSans-49\"/>\n       <use x=\"159.033203\" xlink:href=\"#DejaVuSans-52\"/>\n       <use x=\"222.65625\" xlink:href=\"#DejaVuSans-56\"/>\n      </g>\n     </g>\n    </g>\n    <g id=\"ytick_3\">\n     <g id=\"line2d_5\">\n      <path clip-path=\"url(#pe5d1475f87)\" d=\"M 53.31 370.222125 \nL 639.21 370.222125 \n\" style=\"fill:none;stroke:#ffffff;stroke-linecap:round;\"/>\n     </g>\n     <g id=\"line2d_6\">\n      <g>\n       <use style=\"fill:#262626;stroke:#262626;stroke-width:1.25;\" x=\"639.21\" xlink:href=\"#mb9056555ed\" y=\"370.222125\"/>\n      </g>\n     </g>\n     <g id=\"text_8\">\n      <!-- 0.296 -->\n      <defs>\n       <path d=\"M 19.1875 8.296875 \nL 53.609375 8.296875 \nL 53.609375 0 \nL 7.328125 0 \nL 7.328125 8.296875 \nQ 12.9375 14.109375 22.625 23.890625 \nQ 32.328125 33.6875 34.8125 36.53125 \nQ 39.546875 41.84375 41.421875 45.53125 \nQ 43.3125 49.21875 43.3125 52.78125 \nQ 43.3125 58.59375 39.234375 62.25 \nQ 35.15625 65.921875 28.609375 65.921875 \nQ 23.96875 65.921875 18.8125 64.3125 \nQ 13.671875 62.703125 7.8125 59.421875 \nL 7.8125 69.390625 \nQ 13.765625 71.78125 18.9375 73 \nQ 24.125 74.21875 28.421875 74.21875 \nQ 39.75 74.21875 46.484375 68.546875 \nQ 53.21875 62.890625 53.21875 53.421875 \nQ 53.21875 48.921875 51.53125 44.890625 \nQ 49.859375 40.875 45.40625 35.40625 \nQ 44.1875 33.984375 37.640625 27.21875 \nQ 31.109375 20.453125 19.1875 8.296875 \nz\n\" id=\"DejaVuSans-50\"/>\n       <path d=\"M 10.984375 1.515625 \nL 10.984375 10.5 \nQ 14.703125 8.734375 18.5 7.8125 \nQ 22.3125 6.890625 25.984375 6.890625 \nQ 35.75 6.890625 40.890625 13.453125 \nQ 46.046875 20.015625 46.78125 33.40625 \nQ 43.953125 29.203125 39.59375 26.953125 \nQ 35.25 24.703125 29.984375 24.703125 \nQ 19.046875 24.703125 12.671875 31.3125 \nQ 6.296875 37.9375 6.296875 49.421875 \nQ 6.296875 60.640625 12.9375 67.421875 \nQ 19.578125 74.21875 30.609375 74.21875 \nQ 43.265625 74.21875 49.921875 64.515625 \nQ 56.59375 54.828125 56.59375 36.375 \nQ 56.59375 19.140625 48.40625 8.859375 \nQ 40.234375 -1.421875 26.421875 -1.421875 \nQ 22.703125 -1.421875 18.890625 -0.6875 \nQ 15.09375 0.046875 10.984375 1.515625 \nz\nM 30.609375 32.421875 \nQ 37.25 32.421875 41.125 36.953125 \nQ 45.015625 41.5 45.015625 49.421875 \nQ 45.015625 57.28125 41.125 61.84375 \nQ 37.25 66.40625 30.609375 66.40625 \nQ 23.96875 66.40625 20.09375 61.84375 \nQ 16.21875 57.28125 16.21875 49.421875 \nQ 16.21875 41.5 20.09375 36.953125 \nQ 23.96875 32.421875 30.609375 32.421875 \nz\n\" id=\"DejaVuSans-57\"/>\n       <path d=\"M 33.015625 40.375 \nQ 26.375 40.375 22.484375 35.828125 \nQ 18.609375 31.296875 18.609375 23.390625 \nQ 18.609375 15.53125 22.484375 10.953125 \nQ 26.375 6.390625 33.015625 6.390625 \nQ 39.65625 6.390625 43.53125 10.953125 \nQ 47.40625 15.53125 47.40625 23.390625 \nQ 47.40625 31.296875 43.53125 35.828125 \nQ 39.65625 40.375 33.015625 40.375 \nz\nM 52.59375 71.296875 \nL 52.59375 62.3125 \nQ 48.875 64.0625 45.09375 64.984375 \nQ 41.3125 65.921875 37.59375 65.921875 \nQ 27.828125 65.921875 22.671875 59.328125 \nQ 17.53125 52.734375 16.796875 39.40625 \nQ 19.671875 43.65625 24.015625 45.921875 \nQ 28.375 48.1875 33.59375 48.1875 \nQ 44.578125 48.1875 50.953125 41.515625 \nQ 57.328125 34.859375 57.328125 23.390625 \nQ 57.328125 12.15625 50.6875 5.359375 \nQ 44.046875 -1.421875 33.015625 -1.421875 \nQ 20.359375 -1.421875 13.671875 8.265625 \nQ 6.984375 17.96875 6.984375 36.375 \nQ 6.984375 53.65625 15.1875 63.9375 \nQ 23.390625 74.21875 37.203125 74.21875 \nQ 40.921875 74.21875 44.703125 73.484375 \nQ 48.484375 72.75 52.59375 71.296875 \nz\n\" id=\"DejaVuSans-54\"/>\n      </defs>\n      <g style=\"fill:#262626;\" transform=\"translate(648.71 374.401266)scale(0.11 -0.11)\">\n       <use xlink:href=\"#DejaVuSans-48\"/>\n       <use x=\"63.623047\" xlink:href=\"#DejaVuSans-46\"/>\n       <use x=\"95.410156\" xlink:href=\"#DejaVuSans-50\"/>\n       <use x=\"159.033203\" xlink:href=\"#DejaVuSans-57\"/>\n       <use x=\"222.65625\" xlink:href=\"#DejaVuSans-54\"/>\n      </g>\n     </g>\n    </g>\n    <g id=\"ytick_4\">\n     <g id=\"line2d_7\">\n      <path clip-path=\"url(#pe5d1475f87)\" d=\"M 53.31 326.734125 \nL 639.21 326.734125 \n\" style=\"fill:none;stroke:#ffffff;stroke-linecap:round;\"/>\n     </g>\n     <g id=\"line2d_8\">\n      <g>\n       <use style=\"fill:#262626;stroke:#262626;stroke-width:1.25;\" x=\"639.21\" xlink:href=\"#mb9056555ed\" y=\"326.734125\"/>\n      </g>\n     </g>\n     <g id=\"text_9\">\n      <!-- 0.443 -->\n      <defs>\n       <path d=\"M 40.578125 39.3125 \nQ 47.65625 37.796875 51.625 33 \nQ 55.609375 28.21875 55.609375 21.1875 \nQ 55.609375 10.40625 48.1875 4.484375 \nQ 40.765625 -1.421875 27.09375 -1.421875 \nQ 22.515625 -1.421875 17.65625 -0.515625 \nQ 12.796875 0.390625 7.625 2.203125 \nL 7.625 11.71875 \nQ 11.71875 9.328125 16.59375 8.109375 \nQ 21.484375 6.890625 26.8125 6.890625 \nQ 36.078125 6.890625 40.9375 10.546875 \nQ 45.796875 14.203125 45.796875 21.1875 \nQ 45.796875 27.640625 41.28125 31.265625 \nQ 36.765625 34.90625 28.71875 34.90625 \nL 20.21875 34.90625 \nL 20.21875 43.015625 \nL 29.109375 43.015625 \nQ 36.375 43.015625 40.234375 45.921875 \nQ 44.09375 48.828125 44.09375 54.296875 \nQ 44.09375 59.90625 40.109375 62.90625 \nQ 36.140625 65.921875 28.71875 65.921875 \nQ 24.65625 65.921875 20.015625 65.03125 \nQ 15.375 64.15625 9.8125 62.3125 \nL 9.8125 71.09375 \nQ 15.4375 72.65625 20.34375 73.4375 \nQ 25.25 74.21875 29.59375 74.21875 \nQ 40.828125 74.21875 47.359375 69.109375 \nQ 53.90625 64.015625 53.90625 55.328125 \nQ 53.90625 49.265625 50.4375 45.09375 \nQ 46.96875 40.921875 40.578125 39.3125 \nz\n\" id=\"DejaVuSans-51\"/>\n      </defs>\n      <g style=\"fill:#262626;\" transform=\"translate(648.71 330.913266)scale(0.11 -0.11)\">\n       <use xlink:href=\"#DejaVuSans-48\"/>\n       <use x=\"63.623047\" xlink:href=\"#DejaVuSans-46\"/>\n       <use x=\"95.410156\" xlink:href=\"#DejaVuSans-52\"/>\n       <use x=\"159.033203\" xlink:href=\"#DejaVuSans-52\"/>\n       <use x=\"222.65625\" xlink:href=\"#DejaVuSans-51\"/>\n      </g>\n     </g>\n    </g>\n    <g id=\"ytick_5\">\n     <g id=\"line2d_9\">\n      <path clip-path=\"url(#pe5d1475f87)\" d=\"M 53.31 283.246125 \nL 639.21 283.246125 \n\" style=\"fill:none;stroke:#ffffff;stroke-linecap:round;\"/>\n     </g>\n     <g id=\"line2d_10\">\n      <g>\n       <use style=\"fill:#262626;stroke:#262626;stroke-width:1.25;\" x=\"639.21\" xlink:href=\"#mb9056555ed\" y=\"283.246125\"/>\n      </g>\n     </g>\n     <g id=\"text_10\">\n      <!-- 0.591 -->\n      <defs>\n       <path d=\"M 10.796875 72.90625 \nL 49.515625 72.90625 \nL 49.515625 64.59375 \nL 19.828125 64.59375 \nL 19.828125 46.734375 \nQ 21.96875 47.46875 24.109375 47.828125 \nQ 26.265625 48.1875 28.421875 48.1875 \nQ 40.625 48.1875 47.75 41.5 \nQ 54.890625 34.8125 54.890625 23.390625 \nQ 54.890625 11.625 47.5625 5.09375 \nQ 40.234375 -1.421875 26.90625 -1.421875 \nQ 22.3125 -1.421875 17.546875 -0.640625 \nQ 12.796875 0.140625 7.71875 1.703125 \nL 7.71875 11.625 \nQ 12.109375 9.234375 16.796875 8.0625 \nQ 21.484375 6.890625 26.703125 6.890625 \nQ 35.15625 6.890625 40.078125 11.328125 \nQ 45.015625 15.765625 45.015625 23.390625 \nQ 45.015625 31 40.078125 35.4375 \nQ 35.15625 39.890625 26.703125 39.890625 \nQ 22.75 39.890625 18.8125 39.015625 \nQ 14.890625 38.140625 10.796875 36.28125 \nz\n\" id=\"DejaVuSans-53\"/>\n      </defs>\n      <g style=\"fill:#262626;\" transform=\"translate(648.71 287.425266)scale(0.11 -0.11)\">\n       <use xlink:href=\"#DejaVuSans-48\"/>\n       <use x=\"63.623047\" xlink:href=\"#DejaVuSans-46\"/>\n       <use x=\"95.410156\" xlink:href=\"#DejaVuSans-53\"/>\n       <use x=\"159.033203\" xlink:href=\"#DejaVuSans-57\"/>\n       <use x=\"222.65625\" xlink:href=\"#DejaVuSans-49\"/>\n      </g>\n     </g>\n    </g>\n    <g id=\"ytick_6\">\n     <g id=\"line2d_11\">\n      <path clip-path=\"url(#pe5d1475f87)\" d=\"M 53.31 239.758125 \nL 639.21 239.758125 \n\" style=\"fill:none;stroke:#ffffff;stroke-linecap:round;\"/>\n     </g>\n     <g id=\"line2d_12\">\n      <g>\n       <use style=\"fill:#262626;stroke:#262626;stroke-width:1.25;\" x=\"639.21\" xlink:href=\"#mb9056555ed\" y=\"239.758125\"/>\n      </g>\n     </g>\n     <g id=\"text_11\">\n      <!-- 0.739 -->\n      <defs>\n       <path d=\"M 8.203125 72.90625 \nL 55.078125 72.90625 \nL 55.078125 68.703125 \nL 28.609375 0 \nL 18.3125 0 \nL 43.21875 64.59375 \nL 8.203125 64.59375 \nz\n\" id=\"DejaVuSans-55\"/>\n      </defs>\n      <g style=\"fill:#262626;\" transform=\"translate(648.71 243.937266)scale(0.11 -0.11)\">\n       <use xlink:href=\"#DejaVuSans-48\"/>\n       <use x=\"63.623047\" xlink:href=\"#DejaVuSans-46\"/>\n       <use x=\"95.410156\" xlink:href=\"#DejaVuSans-55\"/>\n       <use x=\"159.033203\" xlink:href=\"#DejaVuSans-51\"/>\n       <use x=\"222.65625\" xlink:href=\"#DejaVuSans-57\"/>\n      </g>\n     </g>\n    </g>\n    <g id=\"ytick_7\">\n     <g id=\"line2d_13\">\n      <path clip-path=\"url(#pe5d1475f87)\" d=\"M 53.31 196.270125 \nL 639.21 196.270125 \n\" style=\"fill:none;stroke:#ffffff;stroke-linecap:round;\"/>\n     </g>\n     <g id=\"line2d_14\">\n      <g>\n       <use style=\"fill:#262626;stroke:#262626;stroke-width:1.25;\" x=\"639.21\" xlink:href=\"#mb9056555ed\" y=\"196.270125\"/>\n      </g>\n     </g>\n     <g id=\"text_12\">\n      <!-- 0.887 -->\n      <g style=\"fill:#262626;\" transform=\"translate(648.71 200.449266)scale(0.11 -0.11)\">\n       <use xlink:href=\"#DejaVuSans-48\"/>\n       <use x=\"63.623047\" xlink:href=\"#DejaVuSans-46\"/>\n       <use x=\"95.410156\" xlink:href=\"#DejaVuSans-56\"/>\n       <use x=\"159.033203\" xlink:href=\"#DejaVuSans-56\"/>\n       <use x=\"222.65625\" xlink:href=\"#DejaVuSans-55\"/>\n      </g>\n     </g>\n    </g>\n    <g id=\"ytick_8\">\n     <g id=\"line2d_15\">\n      <path clip-path=\"url(#pe5d1475f87)\" d=\"M 53.31 152.782125 \nL 639.21 152.782125 \n\" style=\"fill:none;stroke:#ffffff;stroke-linecap:round;\"/>\n     </g>\n     <g id=\"line2d_16\">\n      <g>\n       <use style=\"fill:#262626;stroke:#262626;stroke-width:1.25;\" x=\"639.21\" xlink:href=\"#mb9056555ed\" y=\"152.782125\"/>\n      </g>\n     </g>\n     <g id=\"text_13\">\n      <!-- 1.035 -->\n      <g style=\"fill:#262626;\" transform=\"translate(648.71 156.961266)scale(0.11 -0.11)\">\n       <use xlink:href=\"#DejaVuSans-49\"/>\n       <use x=\"63.623047\" xlink:href=\"#DejaVuSans-46\"/>\n       <use x=\"95.410156\" xlink:href=\"#DejaVuSans-48\"/>\n       <use x=\"159.033203\" xlink:href=\"#DejaVuSans-51\"/>\n       <use x=\"222.65625\" xlink:href=\"#DejaVuSans-53\"/>\n      </g>\n     </g>\n    </g>\n    <g id=\"ytick_9\">\n     <g id=\"line2d_17\">\n      <path clip-path=\"url(#pe5d1475f87)\" d=\"M 53.31 109.294125 \nL 639.21 109.294125 \n\" style=\"fill:none;stroke:#ffffff;stroke-linecap:round;\"/>\n     </g>\n     <g id=\"line2d_18\">\n      <g>\n       <use style=\"fill:#262626;stroke:#262626;stroke-width:1.25;\" x=\"639.21\" xlink:href=\"#mb9056555ed\" y=\"109.294125\"/>\n      </g>\n     </g>\n     <g id=\"text_14\">\n      <!-- 1.183 -->\n      <g style=\"fill:#262626;\" transform=\"translate(648.71 113.473266)scale(0.11 -0.11)\">\n       <use xlink:href=\"#DejaVuSans-49\"/>\n       <use x=\"63.623047\" xlink:href=\"#DejaVuSans-46\"/>\n       <use x=\"95.410156\" xlink:href=\"#DejaVuSans-49\"/>\n       <use x=\"159.033203\" xlink:href=\"#DejaVuSans-56\"/>\n       <use x=\"222.65625\" xlink:href=\"#DejaVuSans-51\"/>\n      </g>\n     </g>\n    </g>\n    <g id=\"ytick_10\">\n     <g id=\"line2d_19\">\n      <path clip-path=\"url(#pe5d1475f87)\" d=\"M 53.31 65.806125 \nL 639.21 65.806125 \n\" style=\"fill:none;stroke:#ffffff;stroke-linecap:round;\"/>\n     </g>\n     <g id=\"line2d_20\">\n      <g>\n       <use style=\"fill:#262626;stroke:#262626;stroke-width:1.25;\" x=\"639.21\" xlink:href=\"#mb9056555ed\" y=\"65.806125\"/>\n      </g>\n     </g>\n     <g id=\"text_15\">\n      <!-- 1.330 -->\n      <g style=\"fill:#262626;\" transform=\"translate(648.71 69.985266)scale(0.11 -0.11)\">\n       <use xlink:href=\"#DejaVuSans-49\"/>\n       <use x=\"63.623047\" xlink:href=\"#DejaVuSans-46\"/>\n       <use x=\"95.410156\" xlink:href=\"#DejaVuSans-51\"/>\n       <use x=\"159.033203\" xlink:href=\"#DejaVuSans-51\"/>\n       <use x=\"222.65625\" xlink:href=\"#DejaVuSans-48\"/>\n      </g>\n     </g>\n    </g>\n    <g id=\"ytick_11\">\n     <g id=\"line2d_21\">\n      <path clip-path=\"url(#pe5d1475f87)\" d=\"M 53.31 22.318125 \nL 639.21 22.318125 \n\" style=\"fill:none;stroke:#ffffff;stroke-linecap:round;\"/>\n     </g>\n     <g id=\"line2d_22\">\n      <g>\n       <use style=\"fill:#262626;stroke:#262626;stroke-width:1.25;\" x=\"639.21\" xlink:href=\"#mb9056555ed\" y=\"22.318125\"/>\n      </g>\n     </g>\n     <g id=\"text_16\">\n      <!-- 1.478 -->\n      <g style=\"fill:#262626;\" transform=\"translate(648.71 26.497266)scale(0.11 -0.11)\">\n       <use xlink:href=\"#DejaVuSans-49\"/>\n       <use x=\"63.623047\" xlink:href=\"#DejaVuSans-46\"/>\n       <use x=\"95.410156\" xlink:href=\"#DejaVuSans-52\"/>\n       <use x=\"159.033203\" xlink:href=\"#DejaVuSans-55\"/>\n       <use x=\"222.65625\" xlink:href=\"#DejaVuSans-56\"/>\n      </g>\n     </g>\n    </g>\n    <g id=\"text_17\">\n     <!-- Jumlah -->\n     <defs>\n      <path d=\"M 9.8125 72.90625 \nL 19.671875 72.90625 \nL 19.671875 5.078125 \nQ 19.671875 -8.109375 14.671875 -14.0625 \nQ 9.671875 -20.015625 -1.421875 -20.015625 \nL -5.171875 -20.015625 \nL -5.171875 -11.71875 \nL -2.09375 -11.71875 \nQ 4.4375 -11.71875 7.125 -8.046875 \nQ 9.8125 -4.390625 9.8125 5.078125 \nz\n\" id=\"DejaVuSans-74\"/>\n      <path d=\"M 8.5 21.578125 \nL 8.5 54.6875 \nL 17.484375 54.6875 \nL 17.484375 21.921875 \nQ 17.484375 14.15625 20.5 10.265625 \nQ 23.53125 6.390625 29.59375 6.390625 \nQ 36.859375 6.390625 41.078125 11.03125 \nQ 45.3125 15.671875 45.3125 23.6875 \nL 45.3125 54.6875 \nL 54.296875 54.6875 \nL 54.296875 0 \nL 45.3125 0 \nL 45.3125 8.40625 \nQ 42.046875 3.421875 37.71875 1 \nQ 33.40625 -1.421875 27.6875 -1.421875 \nQ 18.265625 -1.421875 13.375 4.4375 \nQ 8.5 10.296875 8.5 21.578125 \nz\nM 31.109375 56 \nz\n\" id=\"DejaVuSans-117\"/>\n      <path d=\"M 54.890625 33.015625 \nL 54.890625 0 \nL 45.90625 0 \nL 45.90625 32.71875 \nQ 45.90625 40.484375 42.875 44.328125 \nQ 39.84375 48.1875 33.796875 48.1875 \nQ 26.515625 48.1875 22.3125 43.546875 \nQ 18.109375 38.921875 18.109375 30.90625 \nL 18.109375 0 \nL 9.078125 0 \nL 9.078125 75.984375 \nL 18.109375 75.984375 \nL 18.109375 46.1875 \nQ 21.34375 51.125 25.703125 53.5625 \nQ 30.078125 56 35.796875 56 \nQ 45.21875 56 50.046875 50.171875 \nQ 54.890625 44.34375 54.890625 33.015625 \nz\n\" id=\"DejaVuSans-104\"/>\n     </defs>\n     <g style=\"fill:#262626;\" transform=\"translate(693.319062 260.32125)rotate(-90)scale(0.12 -0.12)\">\n      <use xlink:href=\"#DejaVuSans-74\"/>\n      <use x=\"29.492188\" xlink:href=\"#DejaVuSans-117\"/>\n      <use x=\"92.871094\" xlink:href=\"#DejaVuSans-109\"/>\n      <use x=\"190.283203\" xlink:href=\"#DejaVuSans-108\"/>\n      <use x=\"218.066406\" xlink:href=\"#DejaVuSans-97\"/>\n      <use x=\"279.345703\" xlink:href=\"#DejaVuSans-104\"/>\n     </g>\n    </g>\n    <g id=\"text_18\">\n     <!-- 1e6 -->\n     <g style=\"fill:#262626;\" transform=\"translate(618.444063 19.318125)scale(0.11 -0.11)\">\n      <use xlink:href=\"#DejaVuSans-49\"/>\n      <use x=\"63.623047\" xlink:href=\"#DejaVuSans-101\"/>\n      <use x=\"125.146484\" xlink:href=\"#DejaVuSans-54\"/>\n     </g>\n    </g>\n   </g>\n   <g id=\"patch_3\">\n    <path clip-path=\"url(#pe5d1475f87)\" d=\"M 67.9575 457.198125 \nL 185.1375 457.198125 \nL 185.1375 62.987331 \nL 67.9575 62.987331 \nz\n\" style=\"fill:#5875a4;stroke:#ffffff;stroke-linejoin:miter;\"/>\n   </g>\n   <g id=\"patch_4\">\n    <path clip-path=\"url(#pe5d1475f87)\" d=\"M 214.4325 457.198125 \nL 331.6125 457.198125 \nL 331.6125 433.022828 \nL 214.4325 433.022828 \nz\n\" style=\"fill:#cc8963;stroke:#ffffff;stroke-linejoin:miter;\"/>\n   </g>\n   <g id=\"patch_5\">\n    <path clip-path=\"url(#pe5d1475f87)\" d=\"M 360.9075 457.198125 \nL 478.0875 457.198125 \nL 478.0875 445.049286 \nL 360.9075 445.049286 \nz\n\" style=\"fill:#5f9e6e;stroke:#ffffff;stroke-linejoin:miter;\"/>\n   </g>\n   <g id=\"patch_6\">\n    <path clip-path=\"url(#pe5d1475f87)\" d=\"M 507.3825 457.198125 \nL 624.5625 457.198125 \nL 624.5625 452.853055 \nL 507.3825 452.853055 \nz\n\" style=\"fill:#b55d60;stroke:#ffffff;stroke-linejoin:miter;\"/>\n   </g>\n   <g id=\"patch_7\">\n    <path d=\"M 53.31 457.198125 \nL 53.31 22.318125 \n\" style=\"fill:none;stroke:#ffffff;stroke-linecap:square;stroke-linejoin:miter;stroke-width:1.25;\"/>\n   </g>\n   <g id=\"patch_8\">\n    <path d=\"M 639.21 457.198125 \nL 639.21 22.318125 \n\" style=\"fill:none;stroke:#ffffff;stroke-linecap:square;stroke-linejoin:miter;stroke-width:1.25;\"/>\n   </g>\n   <g id=\"patch_9\">\n    <path d=\"M 53.31 457.198125 \nL 639.21 457.198125 \n\" style=\"fill:none;stroke:#ffffff;stroke-linecap:square;stroke-linejoin:miter;stroke-width:1.25;\"/>\n   </g>\n   <g id=\"patch_10\">\n    <path d=\"M 53.31 22.318125 \nL 639.21 22.318125 \n\" style=\"fill:none;stroke:#ffffff;stroke-linecap:square;stroke-linejoin:miter;stroke-width:1.25;\"/>\n   </g>\n   <g id=\"text_19\">\n    <!-- 90.6% -->\n    <defs>\n     <path d=\"M 72.703125 32.078125 \nQ 68.453125 32.078125 66.03125 28.46875 \nQ 63.625 24.859375 63.625 18.40625 \nQ 63.625 12.0625 66.03125 8.421875 \nQ 68.453125 4.78125 72.703125 4.78125 \nQ 76.859375 4.78125 79.265625 8.421875 \nQ 81.6875 12.0625 81.6875 18.40625 \nQ 81.6875 24.8125 79.265625 28.4375 \nQ 76.859375 32.078125 72.703125 32.078125 \nz\nM 72.703125 38.28125 \nQ 80.421875 38.28125 84.953125 32.90625 \nQ 89.5 27.546875 89.5 18.40625 \nQ 89.5 9.28125 84.9375 3.921875 \nQ 80.375 -1.421875 72.703125 -1.421875 \nQ 64.890625 -1.421875 60.34375 3.921875 \nQ 55.8125 9.28125 55.8125 18.40625 \nQ 55.8125 27.59375 60.375 32.9375 \nQ 64.9375 38.28125 72.703125 38.28125 \nz\nM 22.3125 68.015625 \nQ 18.109375 68.015625 15.6875 64.375 \nQ 13.28125 60.75 13.28125 54.390625 \nQ 13.28125 47.953125 15.671875 44.328125 \nQ 18.0625 40.71875 22.3125 40.71875 \nQ 26.5625 40.71875 28.96875 44.328125 \nQ 31.390625 47.953125 31.390625 54.390625 \nQ 31.390625 60.6875 28.953125 64.34375 \nQ 26.515625 68.015625 22.3125 68.015625 \nz\nM 66.40625 74.21875 \nL 74.21875 74.21875 \nL 28.609375 -1.421875 \nL 20.796875 -1.421875 \nz\nM 22.3125 74.21875 \nQ 30.03125 74.21875 34.609375 68.875 \nQ 39.203125 63.53125 39.203125 54.390625 \nQ 39.203125 45.171875 34.640625 39.84375 \nQ 30.078125 34.515625 22.3125 34.515625 \nQ 14.546875 34.515625 10.03125 39.859375 \nQ 5.515625 45.21875 5.515625 54.390625 \nQ 5.515625 63.484375 10.046875 68.84375 \nQ 14.59375 74.21875 22.3125 74.21875 \nz\n\" id=\"DejaVuSans-37\"/>\n    </defs>\n    <g style=\"fill:#262626;\" transform=\"translate(110.663906 60.907643)scale(0.1 -0.1)\">\n     <use xlink:href=\"#DejaVuSans-57\"/>\n     <use x=\"63.623047\" xlink:href=\"#DejaVuSans-48\"/>\n     <use x=\"127.246094\" xlink:href=\"#DejaVuSans-46\"/>\n     <use x=\"159.033203\" xlink:href=\"#DejaVuSans-54\"/>\n     <use x=\"222.65625\" xlink:href=\"#DejaVuSans-37\"/>\n    </g>\n   </g>\n   <g id=\"text_20\">\n    <!-- 5.6% -->\n    <g style=\"fill:#262626;\" transform=\"translate(260.320156 430.94314)scale(0.1 -0.1)\">\n     <use xlink:href=\"#DejaVuSans-53\"/>\n     <use x=\"63.623047\" xlink:href=\"#DejaVuSans-46\"/>\n     <use x=\"95.410156\" xlink:href=\"#DejaVuSans-54\"/>\n     <use x=\"159.033203\" xlink:href=\"#DejaVuSans-37\"/>\n    </g>\n   </g>\n   <g id=\"text_21\">\n    <!-- 2.8% -->\n    <g style=\"fill:#262626;\" transform=\"translate(406.795156 442.969599)scale(0.1 -0.1)\">\n     <use xlink:href=\"#DejaVuSans-50\"/>\n     <use x=\"63.623047\" xlink:href=\"#DejaVuSans-46\"/>\n     <use x=\"95.410156\" xlink:href=\"#DejaVuSans-56\"/>\n     <use x=\"159.033203\" xlink:href=\"#DejaVuSans-37\"/>\n    </g>\n   </g>\n   <g id=\"text_22\">\n    <!-- 1.0% -->\n    <g style=\"fill:#262626;\" transform=\"translate(553.270156 450.773368)scale(0.1 -0.1)\">\n     <use xlink:href=\"#DejaVuSans-49\"/>\n     <use x=\"63.623047\" xlink:href=\"#DejaVuSans-46\"/>\n     <use x=\"95.410156\" xlink:href=\"#DejaVuSans-48\"/>\n     <use x=\"159.033203\" xlink:href=\"#DejaVuSans-37\"/>\n    </g>\n   </g>\n   <g id=\"text_23\">\n    <!-- Distribusi Frekuensi Entitas Bernama -->\n    <defs>\n     <path d=\"M 19.671875 64.796875 \nL 19.671875 8.109375 \nL 31.59375 8.109375 \nQ 46.6875 8.109375 53.6875 14.9375 \nQ 60.6875 21.78125 60.6875 36.53125 \nQ 60.6875 51.171875 53.6875 57.984375 \nQ 46.6875 64.796875 31.59375 64.796875 \nz\nM 9.8125 72.90625 \nL 30.078125 72.90625 \nQ 51.265625 72.90625 61.171875 64.09375 \nQ 71.09375 55.28125 71.09375 36.53125 \nQ 71.09375 17.671875 61.125 8.828125 \nQ 51.171875 0 30.078125 0 \nL 9.8125 0 \nz\n\" id=\"DejaVuSans-68\"/>\n     <path d=\"M 48.6875 27.296875 \nQ 48.6875 37.203125 44.609375 42.84375 \nQ 40.53125 48.484375 33.40625 48.484375 \nQ 26.265625 48.484375 22.1875 42.84375 \nQ 18.109375 37.203125 18.109375 27.296875 \nQ 18.109375 17.390625 22.1875 11.75 \nQ 26.265625 6.109375 33.40625 6.109375 \nQ 40.53125 6.109375 44.609375 11.75 \nQ 48.6875 17.390625 48.6875 27.296875 \nz\nM 18.109375 46.390625 \nQ 20.953125 51.265625 25.265625 53.625 \nQ 29.59375 56 35.59375 56 \nQ 45.5625 56 51.78125 48.09375 \nQ 58.015625 40.1875 58.015625 27.296875 \nQ 58.015625 14.40625 51.78125 6.484375 \nQ 45.5625 -1.421875 35.59375 -1.421875 \nQ 29.59375 -1.421875 25.265625 0.953125 \nQ 20.953125 3.328125 18.109375 8.203125 \nL 18.109375 0 \nL 9.078125 0 \nL 9.078125 75.984375 \nL 18.109375 75.984375 \nz\n\" id=\"DejaVuSans-98\"/>\n     <path d=\"M 9.8125 72.90625 \nL 51.703125 72.90625 \nL 51.703125 64.59375 \nL 19.671875 64.59375 \nL 19.671875 43.109375 \nL 48.578125 43.109375 \nL 48.578125 34.8125 \nL 19.671875 34.8125 \nL 19.671875 0 \nL 9.8125 0 \nz\n\" id=\"DejaVuSans-70\"/>\n     <path d=\"M 9.078125 75.984375 \nL 18.109375 75.984375 \nL 18.109375 31.109375 \nL 44.921875 54.6875 \nL 56.390625 54.6875 \nL 27.390625 29.109375 \nL 57.625 0 \nL 45.90625 0 \nL 18.109375 26.703125 \nL 18.109375 0 \nL 9.078125 0 \nz\n\" id=\"DejaVuSans-107\"/>\n    </defs>\n    <g style=\"fill:#262626;\" transform=\"translate(235.883438 16.318125)scale(0.12 -0.12)\">\n     <use xlink:href=\"#DejaVuSans-68\"/>\n     <use x=\"77.001953\" xlink:href=\"#DejaVuSans-105\"/>\n     <use x=\"104.785156\" xlink:href=\"#DejaVuSans-115\"/>\n     <use x=\"156.884766\" xlink:href=\"#DejaVuSans-116\"/>\n     <use x=\"196.09375\" xlink:href=\"#DejaVuSans-114\"/>\n     <use x=\"237.207031\" xlink:href=\"#DejaVuSans-105\"/>\n     <use x=\"264.990234\" xlink:href=\"#DejaVuSans-98\"/>\n     <use x=\"328.466797\" xlink:href=\"#DejaVuSans-117\"/>\n     <use x=\"391.845703\" xlink:href=\"#DejaVuSans-115\"/>\n     <use x=\"443.945312\" xlink:href=\"#DejaVuSans-105\"/>\n     <use x=\"471.728516\" xlink:href=\"#DejaVuSans-32\"/>\n     <use x=\"503.515625\" xlink:href=\"#DejaVuSans-70\"/>\n     <use x=\"553.785156\" xlink:href=\"#DejaVuSans-114\"/>\n     <use x=\"592.648438\" xlink:href=\"#DejaVuSans-101\"/>\n     <use x=\"654.171875\" xlink:href=\"#DejaVuSans-107\"/>\n     <use x=\"708.957031\" xlink:href=\"#DejaVuSans-117\"/>\n     <use x=\"772.335938\" xlink:href=\"#DejaVuSans-101\"/>\n     <use x=\"833.859375\" xlink:href=\"#DejaVuSans-110\"/>\n     <use x=\"897.238281\" xlink:href=\"#DejaVuSans-115\"/>\n     <use x=\"949.337891\" xlink:href=\"#DejaVuSans-105\"/>\n     <use x=\"977.121094\" xlink:href=\"#DejaVuSans-32\"/>\n     <use x=\"1008.908203\" xlink:href=\"#DejaVuSans-69\"/>\n     <use x=\"1072.091797\" xlink:href=\"#DejaVuSans-110\"/>\n     <use x=\"1135.470703\" xlink:href=\"#DejaVuSans-116\"/>\n     <use x=\"1174.679688\" xlink:href=\"#DejaVuSans-105\"/>\n     <use x=\"1202.462891\" xlink:href=\"#DejaVuSans-116\"/>\n     <use x=\"1241.671875\" xlink:href=\"#DejaVuSans-97\"/>\n     <use x=\"1302.951172\" xlink:href=\"#DejaVuSans-115\"/>\n     <use x=\"1355.050781\" xlink:href=\"#DejaVuSans-32\"/>\n     <use x=\"1386.837891\" xlink:href=\"#DejaVuSans-66\"/>\n     <use x=\"1455.441406\" xlink:href=\"#DejaVuSans-101\"/>\n     <use x=\"1516.964844\" xlink:href=\"#DejaVuSans-114\"/>\n     <use x=\"1556.328125\" xlink:href=\"#DejaVuSans-110\"/>\n     <use x=\"1619.707031\" xlink:href=\"#DejaVuSans-97\"/>\n     <use x=\"1680.986328\" xlink:href=\"#DejaVuSans-109\"/>\n     <use x=\"1778.398438\" xlink:href=\"#DejaVuSans-97\"/>\n    </g>\n   </g>\n  </g>\n  <g id=\"axes_2\">\n   <g id=\"matplotlib.axis_3\">\n    <g id=\"ytick_12\">\n     <g id=\"line2d_23\">\n      <defs>\n       <path d=\"M 0 0 \nL -6 0 \n\" id=\"m5c703588eb\" style=\"stroke:#262626;stroke-width:1.25;\"/>\n      </defs>\n      <g>\n       <use style=\"fill:#262626;stroke:#262626;stroke-width:1.25;\" x=\"53.31\" xlink:href=\"#m5c703588eb\" y=\"457.198125\"/>\n      </g>\n     </g>\n     <g id=\"text_24\">\n      <!-- 0 -->\n      <g style=\"fill:#262626;\" transform=\"translate(36.81125 461.377266)scale(0.11 -0.11)\">\n       <use xlink:href=\"#DejaVuSans-48\"/>\n      </g>\n     </g>\n    </g>\n    <g id=\"ytick_13\">\n     <g id=\"line2d_24\">\n      <g>\n       <use style=\"fill:#262626;stroke:#262626;stroke-width:1.25;\" x=\"53.31\" xlink:href=\"#m5c703588eb\" y=\"413.710125\"/>\n      </g>\n     </g>\n     <g id=\"text_25\">\n      <!-- 10 -->\n      <g style=\"fill:#262626;\" transform=\"translate(29.8125 417.889266)scale(0.11 -0.11)\">\n       <use xlink:href=\"#DejaVuSans-49\"/>\n       <use x=\"63.623047\" xlink:href=\"#DejaVuSans-48\"/>\n      </g>\n     </g>\n    </g>\n    <g id=\"ytick_14\">\n     <g id=\"line2d_25\">\n      <g>\n       <use style=\"fill:#262626;stroke:#262626;stroke-width:1.25;\" x=\"53.31\" xlink:href=\"#m5c703588eb\" y=\"370.222125\"/>\n      </g>\n     </g>\n     <g id=\"text_26\">\n      <!-- 20 -->\n      <g style=\"fill:#262626;\" transform=\"translate(29.8125 374.401266)scale(0.11 -0.11)\">\n       <use xlink:href=\"#DejaVuSans-50\"/>\n       <use x=\"63.623047\" xlink:href=\"#DejaVuSans-48\"/>\n      </g>\n     </g>\n    </g>\n    <g id=\"ytick_15\">\n     <g id=\"line2d_26\">\n      <g>\n       <use style=\"fill:#262626;stroke:#262626;stroke-width:1.25;\" x=\"53.31\" xlink:href=\"#m5c703588eb\" y=\"326.734125\"/>\n      </g>\n     </g>\n     <g id=\"text_27\">\n      <!-- 30 -->\n      <g style=\"fill:#262626;\" transform=\"translate(29.8125 330.913266)scale(0.11 -0.11)\">\n       <use xlink:href=\"#DejaVuSans-51\"/>\n       <use x=\"63.623047\" xlink:href=\"#DejaVuSans-48\"/>\n      </g>\n     </g>\n    </g>\n    <g id=\"ytick_16\">\n     <g id=\"line2d_27\">\n      <g>\n       <use style=\"fill:#262626;stroke:#262626;stroke-width:1.25;\" x=\"53.31\" xlink:href=\"#m5c703588eb\" y=\"283.246125\"/>\n      </g>\n     </g>\n     <g id=\"text_28\">\n      <!-- 40 -->\n      <g style=\"fill:#262626;\" transform=\"translate(29.8125 287.425266)scale(0.11 -0.11)\">\n       <use xlink:href=\"#DejaVuSans-52\"/>\n       <use x=\"63.623047\" xlink:href=\"#DejaVuSans-48\"/>\n      </g>\n     </g>\n    </g>\n    <g id=\"ytick_17\">\n     <g id=\"line2d_28\">\n      <g>\n       <use style=\"fill:#262626;stroke:#262626;stroke-width:1.25;\" x=\"53.31\" xlink:href=\"#m5c703588eb\" y=\"239.758125\"/>\n      </g>\n     </g>\n     <g id=\"text_29\">\n      <!-- 50 -->\n      <g style=\"fill:#262626;\" transform=\"translate(29.8125 243.937266)scale(0.11 -0.11)\">\n       <use xlink:href=\"#DejaVuSans-53\"/>\n       <use x=\"63.623047\" xlink:href=\"#DejaVuSans-48\"/>\n      </g>\n     </g>\n    </g>\n    <g id=\"ytick_18\">\n     <g id=\"line2d_29\">\n      <g>\n       <use style=\"fill:#262626;stroke:#262626;stroke-width:1.25;\" x=\"53.31\" xlink:href=\"#m5c703588eb\" y=\"196.270125\"/>\n      </g>\n     </g>\n     <g id=\"text_30\">\n      <!-- 60 -->\n      <g style=\"fill:#262626;\" transform=\"translate(29.8125 200.449266)scale(0.11 -0.11)\">\n       <use xlink:href=\"#DejaVuSans-54\"/>\n       <use x=\"63.623047\" xlink:href=\"#DejaVuSans-48\"/>\n      </g>\n     </g>\n    </g>\n    <g id=\"ytick_19\">\n     <g id=\"line2d_30\">\n      <g>\n       <use style=\"fill:#262626;stroke:#262626;stroke-width:1.25;\" x=\"53.31\" xlink:href=\"#m5c703588eb\" y=\"152.782125\"/>\n      </g>\n     </g>\n     <g id=\"text_31\">\n      <!-- 70 -->\n      <g style=\"fill:#262626;\" transform=\"translate(29.8125 156.961266)scale(0.11 -0.11)\">\n       <use xlink:href=\"#DejaVuSans-55\"/>\n       <use x=\"63.623047\" xlink:href=\"#DejaVuSans-48\"/>\n      </g>\n     </g>\n    </g>\n    <g id=\"ytick_20\">\n     <g id=\"line2d_31\">\n      <g>\n       <use style=\"fill:#262626;stroke:#262626;stroke-width:1.25;\" x=\"53.31\" xlink:href=\"#m5c703588eb\" y=\"109.294125\"/>\n      </g>\n     </g>\n     <g id=\"text_32\">\n      <!-- 80 -->\n      <g style=\"fill:#262626;\" transform=\"translate(29.8125 113.473266)scale(0.11 -0.11)\">\n       <use xlink:href=\"#DejaVuSans-56\"/>\n       <use x=\"63.623047\" xlink:href=\"#DejaVuSans-48\"/>\n      </g>\n     </g>\n    </g>\n    <g id=\"ytick_21\">\n     <g id=\"line2d_32\">\n      <g>\n       <use style=\"fill:#262626;stroke:#262626;stroke-width:1.25;\" x=\"53.31\" xlink:href=\"#m5c703588eb\" y=\"65.806125\"/>\n      </g>\n     </g>\n     <g id=\"text_33\">\n      <!-- 90 -->\n      <g style=\"fill:#262626;\" transform=\"translate(29.8125 69.985266)scale(0.11 -0.11)\">\n       <use xlink:href=\"#DejaVuSans-57\"/>\n       <use x=\"63.623047\" xlink:href=\"#DejaVuSans-48\"/>\n      </g>\n     </g>\n    </g>\n    <g id=\"ytick_22\">\n     <g id=\"line2d_33\">\n      <g>\n       <use style=\"fill:#262626;stroke:#262626;stroke-width:1.25;\" x=\"53.31\" xlink:href=\"#m5c703588eb\" y=\"22.318125\"/>\n      </g>\n     </g>\n     <g id=\"text_34\">\n      <!-- 100 -->\n      <g style=\"fill:#262626;\" transform=\"translate(22.81375 26.497266)scale(0.11 -0.11)\">\n       <use xlink:href=\"#DejaVuSans-49\"/>\n       <use x=\"63.623047\" xlink:href=\"#DejaVuSans-48\"/>\n       <use x=\"127.246094\" xlink:href=\"#DejaVuSans-48\"/>\n      </g>\n     </g>\n    </g>\n    <g id=\"text_35\">\n     <!-- Frekuensi [%] -->\n     <defs>\n      <path d=\"M 8.59375 75.984375 \nL 29.296875 75.984375 \nL 29.296875 69 \nL 17.578125 69 \nL 17.578125 -6.203125 \nL 29.296875 -6.203125 \nL 29.296875 -13.1875 \nL 8.59375 -13.1875 \nz\n\" id=\"DejaVuSans-91\"/>\n      <path d=\"M 30.421875 75.984375 \nL 30.421875 -13.1875 \nL 9.71875 -13.1875 \nL 9.71875 -6.203125 \nL 21.390625 -6.203125 \nL 21.390625 69 \nL 9.71875 69 \nL 9.71875 75.984375 \nz\n\" id=\"DejaVuSans-93\"/>\n     </defs>\n     <g style=\"fill:#262626;\" transform=\"translate(16.318125 280.463437)rotate(-90)scale(0.12 -0.12)\">\n      <use xlink:href=\"#DejaVuSans-70\"/>\n      <use x=\"50.269531\" xlink:href=\"#DejaVuSans-114\"/>\n      <use x=\"89.132812\" xlink:href=\"#DejaVuSans-101\"/>\n      <use x=\"150.65625\" xlink:href=\"#DejaVuSans-107\"/>\n      <use x=\"205.441406\" xlink:href=\"#DejaVuSans-117\"/>\n      <use x=\"268.820312\" xlink:href=\"#DejaVuSans-101\"/>\n      <use x=\"330.34375\" xlink:href=\"#DejaVuSans-110\"/>\n      <use x=\"393.722656\" xlink:href=\"#DejaVuSans-115\"/>\n      <use x=\"445.822266\" xlink:href=\"#DejaVuSans-105\"/>\n      <use x=\"473.605469\" xlink:href=\"#DejaVuSans-32\"/>\n      <use x=\"505.392578\" xlink:href=\"#DejaVuSans-91\"/>\n      <use x=\"544.40625\" xlink:href=\"#DejaVuSans-37\"/>\n      <use x=\"639.425781\" xlink:href=\"#DejaVuSans-93\"/>\n     </g>\n    </g>\n   </g>\n   <g id=\"patch_11\">\n    <path d=\"M 53.31 457.198125 \nL 53.31 22.318125 \n\" style=\"fill:none;stroke:#ffffff;stroke-linecap:square;stroke-linejoin:miter;stroke-width:1.25;\"/>\n   </g>\n   <g id=\"patch_12\">\n    <path d=\"M 639.21 457.198125 \nL 639.21 22.318125 \n\" style=\"fill:none;stroke:#ffffff;stroke-linecap:square;stroke-linejoin:miter;stroke-width:1.25;\"/>\n   </g>\n   <g id=\"patch_13\">\n    <path d=\"M 53.31 457.198125 \nL 639.21 457.198125 \n\" style=\"fill:none;stroke:#ffffff;stroke-linecap:square;stroke-linejoin:miter;stroke-width:1.25;\"/>\n   </g>\n   <g id=\"patch_14\">\n    <path d=\"M 53.31 22.318125 \nL 639.21 22.318125 \n\" style=\"fill:none;stroke:#ffffff;stroke-linecap:square;stroke-linejoin:miter;stroke-width:1.25;\"/>\n   </g>\n  </g>\n </g>\n <defs>\n  <clipPath id=\"pe5d1475f87\">\n   <rect height=\"434.88\" width=\"585.9\" x=\"53.31\" y=\"22.318125\"/>\n  </clipPath>\n </defs>\n</svg>\n"
          },
          "metadata": {
            "needs_background": "light"
          }
        }
      ]
    },
    {
      "cell_type": "code",
      "metadata": {
        "colab": {
          "base_uri": "https://localhost:8080/",
          "height": 376
        },
        "id": "7-jeN-hTTplv",
        "outputId": "b2bb998b-54c9-493b-bf8b-012afcc09221"
      },
      "source": [
        "# Visualisasi data 20 token yang paling banyak muncul\n",
        "dataset['token'].value_counts()[:20].plot(kind='barh')"
      ],
      "execution_count": null,
      "outputs": [
        {
          "output_type": "execute_result",
          "data": {
            "text/plain": [
              "<matplotlib.axes._subplots.AxesSubplot at 0x7f304135cd90>"
            ]
          },
          "metadata": {},
          "execution_count": 19
        },
        {
          "output_type": "display_data",
          "data": {
            "text/plain": [
              "<Figure size 432x288 with 1 Axes>"
            ],
            "image/svg+xml": "<?xml version=\"1.0\" encoding=\"utf-8\" standalone=\"no\"?>\n<!DOCTYPE svg PUBLIC \"-//W3C//DTD SVG 1.1//EN\"\n  \"http://www.w3.org/Graphics/SVG/1.1/DTD/svg11.dtd\">\n<!-- Created with matplotlib (https://matplotlib.org/) -->\n<svg height=\"251.985937pt\" version=\"1.1\" viewBox=\"0 0 402.990469 251.985937\" width=\"402.990469pt\" xmlns=\"http://www.w3.org/2000/svg\" xmlns:xlink=\"http://www.w3.org/1999/xlink\">\n <defs>\n  <style type=\"text/css\">\n*{stroke-linecap:butt;stroke-linejoin:round;}\n  </style>\n </defs>\n <g id=\"figure_1\">\n  <g id=\"patch_1\">\n   <path d=\"M 0 251.985937 \nL 402.990469 251.985937 \nL 402.990469 0 \nL 0 0 \nz\n\" style=\"fill:none;\"/>\n  </g>\n  <g id=\"axes_1\">\n   <g id=\"patch_2\">\n    <path d=\"M 60.990469 224.64 \nL 395.790469 224.64 \nL 395.790469 7.2 \nL 60.990469 7.2 \nz\n\" style=\"fill:#eaeaf2;\"/>\n   </g>\n   <g id=\"matplotlib.axis_1\">\n    <g id=\"xtick_1\">\n     <g id=\"line2d_1\">\n      <path clip-path=\"url(#pe72597839e)\" d=\"M 60.990469 224.64 \nL 60.990469 7.2 \n\" style=\"fill:none;stroke:#ffffff;stroke-linecap:round;\"/>\n     </g>\n     <g id=\"text_1\">\n      <!-- 0 -->\n      <defs>\n       <path d=\"M 31.78125 66.40625 \nQ 24.171875 66.40625 20.328125 58.90625 \nQ 16.5 51.421875 16.5 36.375 \nQ 16.5 21.390625 20.328125 13.890625 \nQ 24.171875 6.390625 31.78125 6.390625 \nQ 39.453125 6.390625 43.28125 13.890625 \nQ 47.125 21.390625 47.125 36.375 \nQ 47.125 51.421875 43.28125 58.90625 \nQ 39.453125 66.40625 31.78125 66.40625 \nz\nM 31.78125 74.21875 \nQ 44.046875 74.21875 50.515625 64.515625 \nQ 56.984375 54.828125 56.984375 36.375 \nQ 56.984375 17.96875 50.515625 8.265625 \nQ 44.046875 -1.421875 31.78125 -1.421875 \nQ 19.53125 -1.421875 13.0625 8.265625 \nQ 6.59375 17.96875 6.59375 36.375 \nQ 6.59375 54.828125 13.0625 64.515625 \nQ 19.53125 74.21875 31.78125 74.21875 \nz\n\" id=\"DejaVuSans-48\"/>\n      </defs>\n      <g style=\"fill:#262626;\" transform=\"translate(57.491094 242.498281)scale(0.11 -0.11)\">\n       <use xlink:href=\"#DejaVuSans-48\"/>\n      </g>\n     </g>\n    </g>\n    <g id=\"xtick_2\">\n     <g id=\"line2d_2\">\n      <path clip-path=\"url(#pe72597839e)\" d=\"M 133.339612 224.64 \nL 133.339612 7.2 \n\" style=\"fill:none;stroke:#ffffff;stroke-linecap:round;\"/>\n     </g>\n     <g id=\"text_2\">\n      <!-- 20000 -->\n      <defs>\n       <path d=\"M 19.1875 8.296875 \nL 53.609375 8.296875 \nL 53.609375 0 \nL 7.328125 0 \nL 7.328125 8.296875 \nQ 12.9375 14.109375 22.625 23.890625 \nQ 32.328125 33.6875 34.8125 36.53125 \nQ 39.546875 41.84375 41.421875 45.53125 \nQ 43.3125 49.21875 43.3125 52.78125 \nQ 43.3125 58.59375 39.234375 62.25 \nQ 35.15625 65.921875 28.609375 65.921875 \nQ 23.96875 65.921875 18.8125 64.3125 \nQ 13.671875 62.703125 7.8125 59.421875 \nL 7.8125 69.390625 \nQ 13.765625 71.78125 18.9375 73 \nQ 24.125 74.21875 28.421875 74.21875 \nQ 39.75 74.21875 46.484375 68.546875 \nQ 53.21875 62.890625 53.21875 53.421875 \nQ 53.21875 48.921875 51.53125 44.890625 \nQ 49.859375 40.875 45.40625 35.40625 \nQ 44.1875 33.984375 37.640625 27.21875 \nQ 31.109375 20.453125 19.1875 8.296875 \nz\n\" id=\"DejaVuSans-50\"/>\n      </defs>\n      <g style=\"fill:#262626;\" transform=\"translate(115.842737 242.498281)scale(0.11 -0.11)\">\n       <use xlink:href=\"#DejaVuSans-50\"/>\n       <use x=\"63.623047\" xlink:href=\"#DejaVuSans-48\"/>\n       <use x=\"127.246094\" xlink:href=\"#DejaVuSans-48\"/>\n       <use x=\"190.869141\" xlink:href=\"#DejaVuSans-48\"/>\n       <use x=\"254.492188\" xlink:href=\"#DejaVuSans-48\"/>\n      </g>\n     </g>\n    </g>\n    <g id=\"xtick_3\">\n     <g id=\"line2d_3\">\n      <path clip-path=\"url(#pe72597839e)\" d=\"M 205.688755 224.64 \nL 205.688755 7.2 \n\" style=\"fill:none;stroke:#ffffff;stroke-linecap:round;\"/>\n     </g>\n     <g id=\"text_3\">\n      <!-- 40000 -->\n      <defs>\n       <path d=\"M 37.796875 64.3125 \nL 12.890625 25.390625 \nL 37.796875 25.390625 \nz\nM 35.203125 72.90625 \nL 47.609375 72.90625 \nL 47.609375 25.390625 \nL 58.015625 25.390625 \nL 58.015625 17.1875 \nL 47.609375 17.1875 \nL 47.609375 0 \nL 37.796875 0 \nL 37.796875 17.1875 \nL 4.890625 17.1875 \nL 4.890625 26.703125 \nz\n\" id=\"DejaVuSans-52\"/>\n      </defs>\n      <g style=\"fill:#262626;\" transform=\"translate(188.19188 242.498281)scale(0.11 -0.11)\">\n       <use xlink:href=\"#DejaVuSans-52\"/>\n       <use x=\"63.623047\" xlink:href=\"#DejaVuSans-48\"/>\n       <use x=\"127.246094\" xlink:href=\"#DejaVuSans-48\"/>\n       <use x=\"190.869141\" xlink:href=\"#DejaVuSans-48\"/>\n       <use x=\"254.492188\" xlink:href=\"#DejaVuSans-48\"/>\n      </g>\n     </g>\n    </g>\n    <g id=\"xtick_4\">\n     <g id=\"line2d_4\">\n      <path clip-path=\"url(#pe72597839e)\" d=\"M 278.037898 224.64 \nL 278.037898 7.2 \n\" style=\"fill:none;stroke:#ffffff;stroke-linecap:round;\"/>\n     </g>\n     <g id=\"text_4\">\n      <!-- 60000 -->\n      <defs>\n       <path d=\"M 33.015625 40.375 \nQ 26.375 40.375 22.484375 35.828125 \nQ 18.609375 31.296875 18.609375 23.390625 \nQ 18.609375 15.53125 22.484375 10.953125 \nQ 26.375 6.390625 33.015625 6.390625 \nQ 39.65625 6.390625 43.53125 10.953125 \nQ 47.40625 15.53125 47.40625 23.390625 \nQ 47.40625 31.296875 43.53125 35.828125 \nQ 39.65625 40.375 33.015625 40.375 \nz\nM 52.59375 71.296875 \nL 52.59375 62.3125 \nQ 48.875 64.0625 45.09375 64.984375 \nQ 41.3125 65.921875 37.59375 65.921875 \nQ 27.828125 65.921875 22.671875 59.328125 \nQ 17.53125 52.734375 16.796875 39.40625 \nQ 19.671875 43.65625 24.015625 45.921875 \nQ 28.375 48.1875 33.59375 48.1875 \nQ 44.578125 48.1875 50.953125 41.515625 \nQ 57.328125 34.859375 57.328125 23.390625 \nQ 57.328125 12.15625 50.6875 5.359375 \nQ 44.046875 -1.421875 33.015625 -1.421875 \nQ 20.359375 -1.421875 13.671875 8.265625 \nQ 6.984375 17.96875 6.984375 36.375 \nQ 6.984375 53.65625 15.1875 63.9375 \nQ 23.390625 74.21875 37.203125 74.21875 \nQ 40.921875 74.21875 44.703125 73.484375 \nQ 48.484375 72.75 52.59375 71.296875 \nz\n\" id=\"DejaVuSans-54\"/>\n      </defs>\n      <g style=\"fill:#262626;\" transform=\"translate(260.541023 242.498281)scale(0.11 -0.11)\">\n       <use xlink:href=\"#DejaVuSans-54\"/>\n       <use x=\"63.623047\" xlink:href=\"#DejaVuSans-48\"/>\n       <use x=\"127.246094\" xlink:href=\"#DejaVuSans-48\"/>\n       <use x=\"190.869141\" xlink:href=\"#DejaVuSans-48\"/>\n       <use x=\"254.492188\" xlink:href=\"#DejaVuSans-48\"/>\n      </g>\n     </g>\n    </g>\n    <g id=\"xtick_5\">\n     <g id=\"line2d_5\">\n      <path clip-path=\"url(#pe72597839e)\" d=\"M 350.387041 224.64 \nL 350.387041 7.2 \n\" style=\"fill:none;stroke:#ffffff;stroke-linecap:round;\"/>\n     </g>\n     <g id=\"text_5\">\n      <!-- 80000 -->\n      <defs>\n       <path d=\"M 31.78125 34.625 \nQ 24.75 34.625 20.71875 30.859375 \nQ 16.703125 27.09375 16.703125 20.515625 \nQ 16.703125 13.921875 20.71875 10.15625 \nQ 24.75 6.390625 31.78125 6.390625 \nQ 38.8125 6.390625 42.859375 10.171875 \nQ 46.921875 13.96875 46.921875 20.515625 \nQ 46.921875 27.09375 42.890625 30.859375 \nQ 38.875 34.625 31.78125 34.625 \nz\nM 21.921875 38.8125 \nQ 15.578125 40.375 12.03125 44.71875 \nQ 8.5 49.078125 8.5 55.328125 \nQ 8.5 64.0625 14.71875 69.140625 \nQ 20.953125 74.21875 31.78125 74.21875 \nQ 42.671875 74.21875 48.875 69.140625 \nQ 55.078125 64.0625 55.078125 55.328125 \nQ 55.078125 49.078125 51.53125 44.71875 \nQ 48 40.375 41.703125 38.8125 \nQ 48.828125 37.15625 52.796875 32.3125 \nQ 56.78125 27.484375 56.78125 20.515625 \nQ 56.78125 9.90625 50.3125 4.234375 \nQ 43.84375 -1.421875 31.78125 -1.421875 \nQ 19.734375 -1.421875 13.25 4.234375 \nQ 6.78125 9.90625 6.78125 20.515625 \nQ 6.78125 27.484375 10.78125 32.3125 \nQ 14.796875 37.15625 21.921875 38.8125 \nz\nM 18.3125 54.390625 \nQ 18.3125 48.734375 21.84375 45.5625 \nQ 25.390625 42.390625 31.78125 42.390625 \nQ 38.140625 42.390625 41.71875 45.5625 \nQ 45.3125 48.734375 45.3125 54.390625 \nQ 45.3125 60.0625 41.71875 63.234375 \nQ 38.140625 66.40625 31.78125 66.40625 \nQ 25.390625 66.40625 21.84375 63.234375 \nQ 18.3125 60.0625 18.3125 54.390625 \nz\n\" id=\"DejaVuSans-56\"/>\n      </defs>\n      <g style=\"fill:#262626;\" transform=\"translate(332.890166 242.498281)scale(0.11 -0.11)\">\n       <use xlink:href=\"#DejaVuSans-56\"/>\n       <use x=\"63.623047\" xlink:href=\"#DejaVuSans-48\"/>\n       <use x=\"127.246094\" xlink:href=\"#DejaVuSans-48\"/>\n       <use x=\"190.869141\" xlink:href=\"#DejaVuSans-48\"/>\n       <use x=\"254.492188\" xlink:href=\"#DejaVuSans-48\"/>\n      </g>\n     </g>\n    </g>\n   </g>\n   <g id=\"matplotlib.axis_2\">\n    <g id=\"ytick_1\">\n     <g id=\"line2d_6\">\n      <path clip-path=\"url(#pe72597839e)\" d=\"M 60.990469 219.204 \nL 395.790469 219.204 \n\" style=\"fill:none;stroke:#ffffff;stroke-linecap:round;\"/>\n     </g>\n     <g id=\"text_6\">\n      <!-- , -->\n      <defs>\n       <path d=\"M 11.71875 12.40625 \nL 22.015625 12.40625 \nL 22.015625 4 \nL 14.015625 -11.625 \nL 7.71875 -11.625 \nL 11.71875 4 \nz\n\" id=\"DejaVuSans-44\"/>\n      </defs>\n      <g style=\"fill:#262626;\" transform=\"translate(47.994531 223.383141)scale(0.11 -0.11)\">\n       <use xlink:href=\"#DejaVuSans-44\"/>\n      </g>\n     </g>\n    </g>\n    <g id=\"ytick_2\">\n     <g id=\"line2d_7\">\n      <path clip-path=\"url(#pe72597839e)\" d=\"M 60.990469 208.332 \nL 395.790469 208.332 \n\" style=\"fill:none;stroke:#ffffff;stroke-linecap:round;\"/>\n     </g>\n     <g id=\"text_7\">\n      <!-- . -->\n      <defs>\n       <path d=\"M 10.6875 12.40625 \nL 21 12.40625 \nL 21 0 \nL 10.6875 0 \nz\n\" id=\"DejaVuSans-46\"/>\n      </defs>\n      <g style=\"fill:#262626;\" transform=\"translate(47.994531 212.511141)scale(0.11 -0.11)\">\n       <use xlink:href=\"#DejaVuSans-46\"/>\n      </g>\n     </g>\n    </g>\n    <g id=\"ytick_3\">\n     <g id=\"line2d_8\">\n      <path clip-path=\"url(#pe72597839e)\" d=\"M 60.990469 197.46 \nL 395.790469 197.46 \n\" style=\"fill:none;stroke:#ffffff;stroke-linecap:round;\"/>\n     </g>\n     <g id=\"text_8\">\n      <!-- dan -->\n      <defs>\n       <path d=\"M 45.40625 46.390625 \nL 45.40625 75.984375 \nL 54.390625 75.984375 \nL 54.390625 0 \nL 45.40625 0 \nL 45.40625 8.203125 \nQ 42.578125 3.328125 38.25 0.953125 \nQ 33.9375 -1.421875 27.875 -1.421875 \nQ 17.96875 -1.421875 11.734375 6.484375 \nQ 5.515625 14.40625 5.515625 27.296875 \nQ 5.515625 40.1875 11.734375 48.09375 \nQ 17.96875 56 27.875 56 \nQ 33.9375 56 38.25 53.625 \nQ 42.578125 51.265625 45.40625 46.390625 \nz\nM 14.796875 27.296875 \nQ 14.796875 17.390625 18.875 11.75 \nQ 22.953125 6.109375 30.078125 6.109375 \nQ 37.203125 6.109375 41.296875 11.75 \nQ 45.40625 17.390625 45.40625 27.296875 \nQ 45.40625 37.203125 41.296875 42.84375 \nQ 37.203125 48.484375 30.078125 48.484375 \nQ 22.953125 48.484375 18.875 42.84375 \nQ 14.796875 37.203125 14.796875 27.296875 \nz\n\" id=\"DejaVuSans-100\"/>\n       <path d=\"M 34.28125 27.484375 \nQ 23.390625 27.484375 19.1875 25 \nQ 14.984375 22.515625 14.984375 16.5 \nQ 14.984375 11.71875 18.140625 8.90625 \nQ 21.296875 6.109375 26.703125 6.109375 \nQ 34.1875 6.109375 38.703125 11.40625 \nQ 43.21875 16.703125 43.21875 25.484375 \nL 43.21875 27.484375 \nz\nM 52.203125 31.203125 \nL 52.203125 0 \nL 43.21875 0 \nL 43.21875 8.296875 \nQ 40.140625 3.328125 35.546875 0.953125 \nQ 30.953125 -1.421875 24.3125 -1.421875 \nQ 15.921875 -1.421875 10.953125 3.296875 \nQ 6 8.015625 6 15.921875 \nQ 6 25.140625 12.171875 29.828125 \nQ 18.359375 34.515625 30.609375 34.515625 \nL 43.21875 34.515625 \nL 43.21875 35.40625 \nQ 43.21875 41.609375 39.140625 45 \nQ 35.0625 48.390625 27.6875 48.390625 \nQ 23 48.390625 18.546875 47.265625 \nQ 14.109375 46.140625 10.015625 43.890625 \nL 10.015625 52.203125 \nQ 14.9375 54.109375 19.578125 55.046875 \nQ 24.21875 56 28.609375 56 \nQ 40.484375 56 46.34375 49.84375 \nQ 52.203125 43.703125 52.203125 31.203125 \nz\n\" id=\"DejaVuSans-97\"/>\n       <path d=\"M 54.890625 33.015625 \nL 54.890625 0 \nL 45.90625 0 \nL 45.90625 32.71875 \nQ 45.90625 40.484375 42.875 44.328125 \nQ 39.84375 48.1875 33.796875 48.1875 \nQ 26.515625 48.1875 22.3125 43.546875 \nQ 18.109375 38.921875 18.109375 30.90625 \nL 18.109375 0 \nL 9.078125 0 \nL 9.078125 54.6875 \nL 18.109375 54.6875 \nL 18.109375 46.1875 \nQ 21.34375 51.125 25.703125 53.5625 \nQ 30.078125 56 35.796875 56 \nQ 45.21875 56 50.046875 50.171875 \nQ 54.890625 44.34375 54.890625 33.015625 \nz\n\" id=\"DejaVuSans-110\"/>\n      </defs>\n      <g style=\"fill:#262626;\" transform=\"translate(30.795 201.639141)scale(0.11 -0.11)\">\n       <use xlink:href=\"#DejaVuSans-100\"/>\n       <use x=\"63.476562\" xlink:href=\"#DejaVuSans-97\"/>\n       <use x=\"124.755859\" xlink:href=\"#DejaVuSans-110\"/>\n      </g>\n     </g>\n    </g>\n    <g id=\"ytick_4\">\n     <g id=\"line2d_9\">\n      <path clip-path=\"url(#pe72597839e)\" d=\"M 60.990469 186.588 \nL 395.790469 186.588 \n\" style=\"fill:none;stroke:#ffffff;stroke-linecap:round;\"/>\n     </g>\n     <g id=\"text_9\">\n      <!-- di -->\n      <defs>\n       <path d=\"M 9.421875 54.6875 \nL 18.40625 54.6875 \nL 18.40625 0 \nL 9.421875 0 \nz\nM 9.421875 75.984375 \nL 18.40625 75.984375 \nL 18.40625 64.59375 \nL 9.421875 64.59375 \nz\n\" id=\"DejaVuSans-105\"/>\n      </defs>\n      <g style=\"fill:#262626;\" transform=\"translate(41.45125 190.767141)scale(0.11 -0.11)\">\n       <use xlink:href=\"#DejaVuSans-100\"/>\n       <use x=\"63.476562\" xlink:href=\"#DejaVuSans-105\"/>\n      </g>\n     </g>\n    </g>\n    <g id=\"ytick_5\">\n     <g id=\"line2d_10\">\n      <path clip-path=\"url(#pe72597839e)\" d=\"M 60.990469 175.716 \nL 395.790469 175.716 \n\" style=\"fill:none;stroke:#ffffff;stroke-linecap:round;\"/>\n     </g>\n     <g id=\"text_10\">\n      <!-- yang -->\n      <defs>\n       <path d=\"M 32.171875 -5.078125 \nQ 28.375 -14.84375 24.75 -17.8125 \nQ 21.140625 -20.796875 15.09375 -20.796875 \nL 7.90625 -20.796875 \nL 7.90625 -13.28125 \nL 13.1875 -13.28125 \nQ 16.890625 -13.28125 18.9375 -11.515625 \nQ 21 -9.765625 23.484375 -3.21875 \nL 25.09375 0.875 \nL 2.984375 54.6875 \nL 12.5 54.6875 \nL 29.59375 11.921875 \nL 46.6875 54.6875 \nL 56.203125 54.6875 \nz\n\" id=\"DejaVuSans-121\"/>\n       <path d=\"M 45.40625 27.984375 \nQ 45.40625 37.75 41.375 43.109375 \nQ 37.359375 48.484375 30.078125 48.484375 \nQ 22.859375 48.484375 18.828125 43.109375 \nQ 14.796875 37.75 14.796875 27.984375 \nQ 14.796875 18.265625 18.828125 12.890625 \nQ 22.859375 7.515625 30.078125 7.515625 \nQ 37.359375 7.515625 41.375 12.890625 \nQ 45.40625 18.265625 45.40625 27.984375 \nz\nM 54.390625 6.78125 \nQ 54.390625 -7.171875 48.1875 -13.984375 \nQ 42 -20.796875 29.203125 -20.796875 \nQ 24.46875 -20.796875 20.265625 -20.09375 \nQ 16.0625 -19.390625 12.109375 -17.921875 \nL 12.109375 -9.1875 \nQ 16.0625 -11.328125 19.921875 -12.34375 \nQ 23.78125 -13.375 27.78125 -13.375 \nQ 36.625 -13.375 41.015625 -8.765625 \nQ 45.40625 -4.15625 45.40625 5.171875 \nL 45.40625 9.625 \nQ 42.625 4.78125 38.28125 2.390625 \nQ 33.9375 0 27.875 0 \nQ 17.828125 0 11.671875 7.65625 \nQ 5.515625 15.328125 5.515625 27.984375 \nQ 5.515625 40.671875 11.671875 48.328125 \nQ 17.828125 56 27.875 56 \nQ 33.9375 56 38.28125 53.609375 \nQ 42.625 51.21875 45.40625 46.390625 \nL 45.40625 54.6875 \nL 54.390625 54.6875 \nz\n\" id=\"DejaVuSans-103\"/>\n      </defs>\n      <g style=\"fill:#262626;\" transform=\"translate(24.284375 179.895141)scale(0.11 -0.11)\">\n       <use xlink:href=\"#DejaVuSans-121\"/>\n       <use x=\"59.179688\" xlink:href=\"#DejaVuSans-97\"/>\n       <use x=\"120.458984\" xlink:href=\"#DejaVuSans-110\"/>\n       <use x=\"183.837891\" xlink:href=\"#DejaVuSans-103\"/>\n      </g>\n     </g>\n    </g>\n    <g id=\"ytick_6\">\n     <g id=\"line2d_11\">\n      <path clip-path=\"url(#pe72597839e)\" d=\"M 60.990469 164.844 \nL 395.790469 164.844 \n\" style=\"fill:none;stroke:#ffffff;stroke-linecap:round;\"/>\n     </g>\n     <g id=\"text_11\">\n      <!-- -LRB- -->\n      <defs>\n       <path d=\"M 4.890625 31.390625 \nL 31.203125 31.390625 \nL 31.203125 23.390625 \nL 4.890625 23.390625 \nz\n\" id=\"DejaVuSans-45\"/>\n       <path d=\"M 9.8125 72.90625 \nL 19.671875 72.90625 \nL 19.671875 8.296875 \nL 55.171875 8.296875 \nL 55.171875 0 \nL 9.8125 0 \nz\n\" id=\"DejaVuSans-76\"/>\n       <path d=\"M 44.390625 34.1875 \nQ 47.5625 33.109375 50.5625 29.59375 \nQ 53.5625 26.078125 56.59375 19.921875 \nL 66.609375 0 \nL 56 0 \nL 46.6875 18.703125 \nQ 43.0625 26.03125 39.671875 28.421875 \nQ 36.28125 30.8125 30.421875 30.8125 \nL 19.671875 30.8125 \nL 19.671875 0 \nL 9.8125 0 \nL 9.8125 72.90625 \nL 32.078125 72.90625 \nQ 44.578125 72.90625 50.734375 67.671875 \nQ 56.890625 62.453125 56.890625 51.90625 \nQ 56.890625 45.015625 53.6875 40.46875 \nQ 50.484375 35.9375 44.390625 34.1875 \nz\nM 19.671875 64.796875 \nL 19.671875 38.921875 \nL 32.078125 38.921875 \nQ 39.203125 38.921875 42.84375 42.21875 \nQ 46.484375 45.515625 46.484375 51.90625 \nQ 46.484375 58.296875 42.84375 61.546875 \nQ 39.203125 64.796875 32.078125 64.796875 \nz\n\" id=\"DejaVuSans-82\"/>\n       <path d=\"M 19.671875 34.8125 \nL 19.671875 8.109375 \nL 35.5 8.109375 \nQ 43.453125 8.109375 47.28125 11.40625 \nQ 51.125 14.703125 51.125 21.484375 \nQ 51.125 28.328125 47.28125 31.5625 \nQ 43.453125 34.8125 35.5 34.8125 \nz\nM 19.671875 64.796875 \nL 19.671875 42.828125 \nL 34.28125 42.828125 \nQ 41.5 42.828125 45.03125 45.53125 \nQ 48.578125 48.25 48.578125 53.8125 \nQ 48.578125 59.328125 45.03125 62.0625 \nQ 41.5 64.796875 34.28125 64.796875 \nz\nM 9.8125 72.90625 \nL 35.015625 72.90625 \nQ 46.296875 72.90625 52.390625 68.21875 \nQ 58.5 63.53125 58.5 54.890625 \nQ 58.5 48.1875 55.375 44.234375 \nQ 52.25 40.28125 46.1875 39.3125 \nQ 53.46875 37.75 57.5 32.78125 \nQ 61.53125 27.828125 61.53125 20.40625 \nQ 61.53125 10.640625 54.890625 5.3125 \nQ 48.25 0 35.984375 0 \nL 9.8125 0 \nz\n\" id=\"DejaVuSans-66\"/>\n      </defs>\n      <g style=\"fill:#262626;\" transform=\"translate(22.233906 169.023141)scale(0.11 -0.11)\">\n       <use xlink:href=\"#DejaVuSans-45\"/>\n       <use x=\"36.083984\" xlink:href=\"#DejaVuSans-76\"/>\n       <use x=\"91.796875\" xlink:href=\"#DejaVuSans-82\"/>\n       <use x=\"161.279297\" xlink:href=\"#DejaVuSans-66\"/>\n       <use x=\"229.882812\" xlink:href=\"#DejaVuSans-45\"/>\n      </g>\n     </g>\n    </g>\n    <g id=\"ytick_7\">\n     <g id=\"line2d_12\">\n      <path clip-path=\"url(#pe72597839e)\" d=\"M 60.990469 153.972 \nL 395.790469 153.972 \n\" style=\"fill:none;stroke:#ffffff;stroke-linecap:round;\"/>\n     </g>\n     <g id=\"text_12\">\n      <!-- -RRB- -->\n      <g style=\"fill:#262626;\" transform=\"translate(20.719688 158.151141)scale(0.11 -0.11)\">\n       <use xlink:href=\"#DejaVuSans-45\"/>\n       <use x=\"36.083984\" xlink:href=\"#DejaVuSans-82\"/>\n       <use x=\"105.566406\" xlink:href=\"#DejaVuSans-82\"/>\n       <use x=\"175.048828\" xlink:href=\"#DejaVuSans-66\"/>\n       <use x=\"243.652344\" xlink:href=\"#DejaVuSans-45\"/>\n      </g>\n     </g>\n    </g>\n    <g id=\"ytick_8\">\n     <g id=\"line2d_13\">\n      <path clip-path=\"url(#pe72597839e)\" d=\"M 60.990469 143.1 \nL 395.790469 143.1 \n\" style=\"fill:none;stroke:#ffffff;stroke-linecap:round;\"/>\n     </g>\n     <g id=\"text_13\">\n      <!-- '' -->\n      <defs>\n       <path d=\"M 17.921875 72.90625 \nL 17.921875 45.796875 \nL 9.625 45.796875 \nL 9.625 72.90625 \nz\n\" id=\"DejaVuSans-39\"/>\n      </defs>\n      <g style=\"fill:#262626;\" transform=\"translate(45.443906 147.279141)scale(0.11 -0.11)\">\n       <use xlink:href=\"#DejaVuSans-39\"/>\n       <use x=\"27.490234\" xlink:href=\"#DejaVuSans-39\"/>\n      </g>\n     </g>\n    </g>\n    <g id=\"ytick_9\">\n     <g id=\"line2d_14\">\n      <path clip-path=\"url(#pe72597839e)\" d=\"M 60.990469 132.228 \nL 395.790469 132.228 \n\" style=\"fill:none;stroke:#ffffff;stroke-linecap:round;\"/>\n     </g>\n     <g id=\"text_14\">\n      <!-- `` -->\n      <defs>\n       <path d=\"M 17.921875 79.984375 \nL 31.6875 61.71875 \nL 24.21875 61.71875 \nL 8.296875 79.984375 \nz\n\" id=\"DejaVuSans-96\"/>\n      </defs>\n      <g style=\"fill:#262626;\" transform=\"translate(40.490469 136.407141)scale(0.11 -0.11)\">\n       <use xlink:href=\"#DejaVuSans-96\"/>\n       <use x=\"50\" xlink:href=\"#DejaVuSans-96\"/>\n      </g>\n     </g>\n    </g>\n    <g id=\"ytick_10\">\n     <g id=\"line2d_15\">\n      <path clip-path=\"url(#pe72597839e)\" d=\"M 60.990469 121.356 \nL 395.790469 121.356 \n\" style=\"fill:none;stroke:#ffffff;stroke-linecap:round;\"/>\n     </g>\n     <g id=\"text_15\">\n      <!-- dengan -->\n      <defs>\n       <path d=\"M 56.203125 29.59375 \nL 56.203125 25.203125 \nL 14.890625 25.203125 \nQ 15.484375 15.921875 20.484375 11.0625 \nQ 25.484375 6.203125 34.421875 6.203125 \nQ 39.59375 6.203125 44.453125 7.46875 \nQ 49.3125 8.734375 54.109375 11.28125 \nL 54.109375 2.78125 \nQ 49.265625 0.734375 44.1875 -0.34375 \nQ 39.109375 -1.421875 33.890625 -1.421875 \nQ 20.796875 -1.421875 13.15625 6.1875 \nQ 5.515625 13.8125 5.515625 26.8125 \nQ 5.515625 40.234375 12.765625 48.109375 \nQ 20.015625 56 32.328125 56 \nQ 43.359375 56 49.78125 48.890625 \nQ 56.203125 41.796875 56.203125 29.59375 \nz\nM 47.21875 32.234375 \nQ 47.125 39.59375 43.09375 43.984375 \nQ 39.0625 48.390625 32.421875 48.390625 \nQ 24.90625 48.390625 20.390625 44.140625 \nQ 15.875 39.890625 15.1875 32.171875 \nz\n\" id=\"DejaVuSans-101\"/>\n      </defs>\n      <g style=\"fill:#262626;\" transform=\"translate(10.072031 125.535141)scale(0.11 -0.11)\">\n       <use xlink:href=\"#DejaVuSans-100\"/>\n       <use x=\"63.476562\" xlink:href=\"#DejaVuSans-101\"/>\n       <use x=\"125\" xlink:href=\"#DejaVuSans-110\"/>\n       <use x=\"188.378906\" xlink:href=\"#DejaVuSans-103\"/>\n       <use x=\"251.855469\" xlink:href=\"#DejaVuSans-97\"/>\n       <use x=\"313.134766\" xlink:href=\"#DejaVuSans-110\"/>\n      </g>\n     </g>\n    </g>\n    <g id=\"ytick_11\">\n     <g id=\"line2d_16\">\n      <path clip-path=\"url(#pe72597839e)\" d=\"M 60.990469 110.484 \nL 395.790469 110.484 \n\" style=\"fill:none;stroke:#ffffff;stroke-linecap:round;\"/>\n     </g>\n     <g id=\"text_16\">\n      <!-- pada -->\n      <defs>\n       <path d=\"M 18.109375 8.203125 \nL 18.109375 -20.796875 \nL 9.078125 -20.796875 \nL 9.078125 54.6875 \nL 18.109375 54.6875 \nL 18.109375 46.390625 \nQ 20.953125 51.265625 25.265625 53.625 \nQ 29.59375 56 35.59375 56 \nQ 45.5625 56 51.78125 48.09375 \nQ 58.015625 40.1875 58.015625 27.296875 \nQ 58.015625 14.40625 51.78125 6.484375 \nQ 45.5625 -1.421875 35.59375 -1.421875 \nQ 29.59375 -1.421875 25.265625 0.953125 \nQ 20.953125 3.328125 18.109375 8.203125 \nz\nM 48.6875 27.296875 \nQ 48.6875 37.203125 44.609375 42.84375 \nQ 40.53125 48.484375 33.40625 48.484375 \nQ 26.265625 48.484375 22.1875 42.84375 \nQ 18.109375 37.203125 18.109375 27.296875 \nQ 18.109375 17.390625 22.1875 11.75 \nQ 26.265625 6.109375 33.40625 6.109375 \nQ 40.53125 6.109375 44.609375 11.75 \nQ 48.6875 17.390625 48.6875 27.296875 \nz\n\" id=\"DejaVuSans-112\"/>\n      </defs>\n      <g style=\"fill:#262626;\" transform=\"translate(24.042031 114.663141)scale(0.11 -0.11)\">\n       <use xlink:href=\"#DejaVuSans-112\"/>\n       <use x=\"63.476562\" xlink:href=\"#DejaVuSans-97\"/>\n       <use x=\"124.755859\" xlink:href=\"#DejaVuSans-100\"/>\n       <use x=\"188.232422\" xlink:href=\"#DejaVuSans-97\"/>\n      </g>\n     </g>\n    </g>\n    <g id=\"ytick_12\">\n     <g id=\"line2d_17\">\n      <path clip-path=\"url(#pe72597839e)\" d=\"M 60.990469 99.612 \nL 395.790469 99.612 \n\" style=\"fill:none;stroke:#ffffff;stroke-linecap:round;\"/>\n     </g>\n     <g id=\"text_17\">\n      <!-- dari -->\n      <defs>\n       <path d=\"M 41.109375 46.296875 \nQ 39.59375 47.171875 37.8125 47.578125 \nQ 36.03125 48 33.890625 48 \nQ 26.265625 48 22.1875 43.046875 \nQ 18.109375 38.09375 18.109375 28.8125 \nL 18.109375 0 \nL 9.078125 0 \nL 9.078125 54.6875 \nL 18.109375 54.6875 \nL 18.109375 46.1875 \nQ 20.953125 51.171875 25.484375 53.578125 \nQ 30.03125 56 36.53125 56 \nQ 37.453125 56 38.578125 55.875 \nQ 39.703125 55.765625 41.0625 55.515625 \nz\n\" id=\"DejaVuSans-114\"/>\n      </defs>\n      <g style=\"fill:#262626;\" transform=\"translate(30.188281 103.791141)scale(0.11 -0.11)\">\n       <use xlink:href=\"#DejaVuSans-100\"/>\n       <use x=\"63.476562\" xlink:href=\"#DejaVuSans-97\"/>\n       <use x=\"124.755859\" xlink:href=\"#DejaVuSans-114\"/>\n       <use x=\"165.869141\" xlink:href=\"#DejaVuSans-105\"/>\n      </g>\n     </g>\n    </g>\n    <g id=\"ytick_13\">\n     <g id=\"line2d_18\">\n      <path clip-path=\"url(#pe72597839e)\" d=\"M 60.990469 88.74 \nL 395.790469 88.74 \n\" style=\"fill:none;stroke:#ffffff;stroke-linecap:round;\"/>\n     </g>\n     <g id=\"text_18\">\n      <!-- tahun -->\n      <defs>\n       <path d=\"M 18.3125 70.21875 \nL 18.3125 54.6875 \nL 36.8125 54.6875 \nL 36.8125 47.703125 \nL 18.3125 47.703125 \nL 18.3125 18.015625 \nQ 18.3125 11.328125 20.140625 9.421875 \nQ 21.96875 7.515625 27.59375 7.515625 \nL 36.8125 7.515625 \nL 36.8125 0 \nL 27.59375 0 \nQ 17.1875 0 13.234375 3.875 \nQ 9.28125 7.765625 9.28125 18.015625 \nL 9.28125 47.703125 \nL 2.6875 47.703125 \nL 2.6875 54.6875 \nL 9.28125 54.6875 \nL 9.28125 70.21875 \nz\n\" id=\"DejaVuSans-116\"/>\n       <path d=\"M 54.890625 33.015625 \nL 54.890625 0 \nL 45.90625 0 \nL 45.90625 32.71875 \nQ 45.90625 40.484375 42.875 44.328125 \nQ 39.84375 48.1875 33.796875 48.1875 \nQ 26.515625 48.1875 22.3125 43.546875 \nQ 18.109375 38.921875 18.109375 30.90625 \nL 18.109375 0 \nL 9.078125 0 \nL 9.078125 75.984375 \nL 18.109375 75.984375 \nL 18.109375 46.1875 \nQ 21.34375 51.125 25.703125 53.5625 \nQ 30.078125 56 35.796875 56 \nQ 45.21875 56 50.046875 50.171875 \nQ 54.890625 44.34375 54.890625 33.015625 \nz\n\" id=\"DejaVuSans-104\"/>\n       <path d=\"M 8.5 21.578125 \nL 8.5 54.6875 \nL 17.484375 54.6875 \nL 17.484375 21.921875 \nQ 17.484375 14.15625 20.5 10.265625 \nQ 23.53125 6.390625 29.59375 6.390625 \nQ 36.859375 6.390625 41.078125 11.03125 \nQ 45.3125 15.671875 45.3125 23.6875 \nL 45.3125 54.6875 \nL 54.296875 54.6875 \nL 54.296875 0 \nL 45.3125 0 \nL 45.3125 8.40625 \nQ 42.046875 3.421875 37.71875 1 \nQ 33.40625 -1.421875 27.6875 -1.421875 \nQ 18.265625 -1.421875 13.375 4.4375 \nQ 8.5 10.296875 8.5 21.578125 \nz\nM 31.109375 56 \nz\n\" id=\"DejaVuSans-117\"/>\n      </defs>\n      <g style=\"fill:#262626;\" transform=\"translate(19.523438 92.919141)scale(0.11 -0.11)\">\n       <use xlink:href=\"#DejaVuSans-116\"/>\n       <use x=\"39.208984\" xlink:href=\"#DejaVuSans-97\"/>\n       <use x=\"100.488281\" xlink:href=\"#DejaVuSans-104\"/>\n       <use x=\"163.867188\" xlink:href=\"#DejaVuSans-117\"/>\n       <use x=\"227.246094\" xlink:href=\"#DejaVuSans-110\"/>\n      </g>\n     </g>\n    </g>\n    <g id=\"ytick_14\">\n     <g id=\"line2d_19\">\n      <path clip-path=\"url(#pe72597839e)\" d=\"M 60.990469 77.868 \nL 395.790469 77.868 \n\" style=\"fill:none;stroke:#ffffff;stroke-linecap:round;\"/>\n     </g>\n     <g id=\"text_19\">\n      <!-- sebagai -->\n      <defs>\n       <path d=\"M 44.28125 53.078125 \nL 44.28125 44.578125 \nQ 40.484375 46.53125 36.375 47.5 \nQ 32.28125 48.484375 27.875 48.484375 \nQ 21.1875 48.484375 17.84375 46.4375 \nQ 14.5 44.390625 14.5 40.28125 \nQ 14.5 37.15625 16.890625 35.375 \nQ 19.28125 33.59375 26.515625 31.984375 \nL 29.59375 31.296875 \nQ 39.15625 29.25 43.1875 25.515625 \nQ 47.21875 21.78125 47.21875 15.09375 \nQ 47.21875 7.46875 41.1875 3.015625 \nQ 35.15625 -1.421875 24.609375 -1.421875 \nQ 20.21875 -1.421875 15.453125 -0.5625 \nQ 10.6875 0.296875 5.421875 2 \nL 5.421875 11.28125 \nQ 10.40625 8.6875 15.234375 7.390625 \nQ 20.0625 6.109375 24.8125 6.109375 \nQ 31.15625 6.109375 34.5625 8.28125 \nQ 37.984375 10.453125 37.984375 14.40625 \nQ 37.984375 18.0625 35.515625 20.015625 \nQ 33.0625 21.96875 24.703125 23.78125 \nL 21.578125 24.515625 \nQ 13.234375 26.265625 9.515625 29.90625 \nQ 5.8125 33.546875 5.8125 39.890625 \nQ 5.8125 47.609375 11.28125 51.796875 \nQ 16.75 56 26.8125 56 \nQ 31.78125 56 36.171875 55.265625 \nQ 40.578125 54.546875 44.28125 53.078125 \nz\n\" id=\"DejaVuSans-115\"/>\n       <path d=\"M 48.6875 27.296875 \nQ 48.6875 37.203125 44.609375 42.84375 \nQ 40.53125 48.484375 33.40625 48.484375 \nQ 26.265625 48.484375 22.1875 42.84375 \nQ 18.109375 37.203125 18.109375 27.296875 \nQ 18.109375 17.390625 22.1875 11.75 \nQ 26.265625 6.109375 33.40625 6.109375 \nQ 40.53125 6.109375 44.609375 11.75 \nQ 48.6875 17.390625 48.6875 27.296875 \nz\nM 18.109375 46.390625 \nQ 20.953125 51.265625 25.265625 53.625 \nQ 29.59375 56 35.59375 56 \nQ 45.5625 56 51.78125 48.09375 \nQ 58.015625 40.1875 58.015625 27.296875 \nQ 58.015625 14.40625 51.78125 6.484375 \nQ 45.5625 -1.421875 35.59375 -1.421875 \nQ 29.59375 -1.421875 25.265625 0.953125 \nQ 20.953125 3.328125 18.109375 8.203125 \nL 18.109375 0 \nL 9.078125 0 \nL 9.078125 75.984375 \nL 18.109375 75.984375 \nz\n\" id=\"DejaVuSans-98\"/>\n      </defs>\n      <g style=\"fill:#262626;\" transform=\"translate(8.487344 82.047141)scale(0.11 -0.11)\">\n       <use xlink:href=\"#DejaVuSans-115\"/>\n       <use x=\"52.099609\" xlink:href=\"#DejaVuSans-101\"/>\n       <use x=\"113.623047\" xlink:href=\"#DejaVuSans-98\"/>\n       <use x=\"177.099609\" xlink:href=\"#DejaVuSans-97\"/>\n       <use x=\"238.378906\" xlink:href=\"#DejaVuSans-103\"/>\n       <use x=\"301.855469\" xlink:href=\"#DejaVuSans-97\"/>\n       <use x=\"363.134766\" xlink:href=\"#DejaVuSans-105\"/>\n      </g>\n     </g>\n    </g>\n    <g id=\"ytick_15\">\n     <g id=\"line2d_20\">\n      <path clip-path=\"url(#pe72597839e)\" d=\"M 60.990469 66.996 \nL 395.790469 66.996 \n\" style=\"fill:none;stroke:#ffffff;stroke-linecap:round;\"/>\n     </g>\n     <g id=\"text_20\">\n      <!-- ini -->\n      <g style=\"fill:#262626;\" transform=\"translate(38.407344 71.175141)scale(0.11 -0.11)\">\n       <use xlink:href=\"#DejaVuSans-105\"/>\n       <use x=\"27.783203\" xlink:href=\"#DejaVuSans-110\"/>\n       <use x=\"91.162109\" xlink:href=\"#DejaVuSans-105\"/>\n      </g>\n     </g>\n    </g>\n    <g id=\"ytick_16\">\n     <g id=\"line2d_21\">\n      <path clip-path=\"url(#pe72597839e)\" d=\"M 60.990469 56.124 \nL 395.790469 56.124 \n\" style=\"fill:none;stroke:#ffffff;stroke-linecap:round;\"/>\n     </g>\n     <g id=\"text_21\">\n      <!-- untuk -->\n      <defs>\n       <path d=\"M 9.078125 75.984375 \nL 18.109375 75.984375 \nL 18.109375 31.109375 \nL 44.921875 54.6875 \nL 56.390625 54.6875 \nL 27.390625 29.109375 \nL 57.625 0 \nL 45.90625 0 \nL 18.109375 26.703125 \nL 18.109375 0 \nL 9.078125 0 \nz\n\" id=\"DejaVuSans-107\"/>\n      </defs>\n      <g style=\"fill:#262626;\" transform=\"translate(19.894688 60.303141)scale(0.11 -0.11)\">\n       <use xlink:href=\"#DejaVuSans-117\"/>\n       <use x=\"63.378906\" xlink:href=\"#DejaVuSans-110\"/>\n       <use x=\"126.757812\" xlink:href=\"#DejaVuSans-116\"/>\n       <use x=\"165.966797\" xlink:href=\"#DejaVuSans-117\"/>\n       <use x=\"229.345703\" xlink:href=\"#DejaVuSans-107\"/>\n      </g>\n     </g>\n    </g>\n    <g id=\"ytick_17\">\n     <g id=\"line2d_22\">\n      <path clip-path=\"url(#pe72597839e)\" d=\"M 60.990469 45.252 \nL 395.790469 45.252 \n\" style=\"fill:none;stroke:#ffffff;stroke-linecap:round;\"/>\n     </g>\n     <g id=\"text_22\">\n      <!-- dalam -->\n      <defs>\n       <path d=\"M 9.421875 75.984375 \nL 18.40625 75.984375 \nL 18.40625 0 \nL 9.421875 0 \nz\n\" id=\"DejaVuSans-108\"/>\n       <path d=\"M 52 44.1875 \nQ 55.375 50.25 60.0625 53.125 \nQ 64.75 56 71.09375 56 \nQ 79.640625 56 84.28125 50.015625 \nQ 88.921875 44.046875 88.921875 33.015625 \nL 88.921875 0 \nL 79.890625 0 \nL 79.890625 32.71875 \nQ 79.890625 40.578125 77.09375 44.375 \nQ 74.3125 48.1875 68.609375 48.1875 \nQ 61.625 48.1875 57.5625 43.546875 \nQ 53.515625 38.921875 53.515625 30.90625 \nL 53.515625 0 \nL 44.484375 0 \nL 44.484375 32.71875 \nQ 44.484375 40.625 41.703125 44.40625 \nQ 38.921875 48.1875 33.109375 48.1875 \nQ 26.21875 48.1875 22.15625 43.53125 \nQ 18.109375 38.875 18.109375 30.90625 \nL 18.109375 0 \nL 9.078125 0 \nL 9.078125 54.6875 \nL 18.109375 54.6875 \nL 18.109375 46.1875 \nQ 21.1875 51.21875 25.484375 53.609375 \nQ 29.78125 56 35.6875 56 \nQ 41.65625 56 45.828125 52.96875 \nQ 50 49.953125 52 44.1875 \nz\n\" id=\"DejaVuSans-109\"/>\n      </defs>\n      <g style=\"fill:#262626;\" transform=\"translate(17.254688 49.431141)scale(0.11 -0.11)\">\n       <use xlink:href=\"#DejaVuSans-100\"/>\n       <use x=\"63.476562\" xlink:href=\"#DejaVuSans-97\"/>\n       <use x=\"124.755859\" xlink:href=\"#DejaVuSans-108\"/>\n       <use x=\"152.539062\" xlink:href=\"#DejaVuSans-97\"/>\n       <use x=\"213.818359\" xlink:href=\"#DejaVuSans-109\"/>\n      </g>\n     </g>\n    </g>\n    <g id=\"ytick_18\">\n     <g id=\"line2d_23\">\n      <path clip-path=\"url(#pe72597839e)\" d=\"M 60.990469 34.38 \nL 395.790469 34.38 \n\" style=\"fill:none;stroke:#ffffff;stroke-linecap:round;\"/>\n     </g>\n     <g id=\"text_23\">\n      <!-- adalah -->\n      <g style=\"fill:#262626;\" transform=\"translate(14.257188 38.559141)scale(0.11 -0.11)\">\n       <use xlink:href=\"#DejaVuSans-97\"/>\n       <use x=\"61.279297\" xlink:href=\"#DejaVuSans-100\"/>\n       <use x=\"124.755859\" xlink:href=\"#DejaVuSans-97\"/>\n       <use x=\"186.035156\" xlink:href=\"#DejaVuSans-108\"/>\n       <use x=\"213.818359\" xlink:href=\"#DejaVuSans-97\"/>\n       <use x=\"275.097656\" xlink:href=\"#DejaVuSans-104\"/>\n      </g>\n     </g>\n    </g>\n    <g id=\"ytick_19\">\n     <g id=\"line2d_24\">\n      <path clip-path=\"url(#pe72597839e)\" d=\"M 60.990469 23.508 \nL 395.790469 23.508 \n\" style=\"fill:none;stroke:#ffffff;stroke-linecap:round;\"/>\n     </g>\n     <g id=\"text_24\">\n      <!-- menjadi -->\n      <defs>\n       <path d=\"M 9.421875 54.6875 \nL 18.40625 54.6875 \nL 18.40625 -0.984375 \nQ 18.40625 -11.421875 14.421875 -16.109375 \nQ 10.453125 -20.796875 1.609375 -20.796875 \nL -1.8125 -20.796875 \nL -1.8125 -13.1875 \nL 0.59375 -13.1875 \nQ 5.71875 -13.1875 7.5625 -10.8125 \nQ 9.421875 -8.453125 9.421875 -0.984375 \nz\nM 9.421875 75.984375 \nL 18.40625 75.984375 \nL 18.40625 64.59375 \nL 9.421875 64.59375 \nz\n\" id=\"DejaVuSans-106\"/>\n      </defs>\n      <g style=\"fill:#262626;\" transform=\"translate(7.2 27.687141)scale(0.11 -0.11)\">\n       <use xlink:href=\"#DejaVuSans-109\"/>\n       <use x=\"97.412109\" xlink:href=\"#DejaVuSans-101\"/>\n       <use x=\"158.935547\" xlink:href=\"#DejaVuSans-110\"/>\n       <use x=\"222.314453\" xlink:href=\"#DejaVuSans-106\"/>\n       <use x=\"250.097656\" xlink:href=\"#DejaVuSans-97\"/>\n       <use x=\"311.376953\" xlink:href=\"#DejaVuSans-100\"/>\n       <use x=\"374.853516\" xlink:href=\"#DejaVuSans-105\"/>\n      </g>\n     </g>\n    </g>\n    <g id=\"ytick_20\">\n     <g id=\"line2d_25\">\n      <path clip-path=\"url(#pe72597839e)\" d=\"M 60.990469 12.636 \nL 395.790469 12.636 \n\" style=\"fill:none;stroke:#ffffff;stroke-linecap:round;\"/>\n     </g>\n     <g id=\"text_25\">\n      <!-- oleh -->\n      <defs>\n       <path d=\"M 30.609375 48.390625 \nQ 23.390625 48.390625 19.1875 42.75 \nQ 14.984375 37.109375 14.984375 27.296875 \nQ 14.984375 17.484375 19.15625 11.84375 \nQ 23.34375 6.203125 30.609375 6.203125 \nQ 37.796875 6.203125 41.984375 11.859375 \nQ 46.1875 17.53125 46.1875 27.296875 \nQ 46.1875 37.015625 41.984375 42.703125 \nQ 37.796875 48.390625 30.609375 48.390625 \nz\nM 30.609375 56 \nQ 42.328125 56 49.015625 48.375 \nQ 55.71875 40.765625 55.71875 27.296875 \nQ 55.71875 13.875 49.015625 6.21875 \nQ 42.328125 -1.421875 30.609375 -1.421875 \nQ 18.84375 -1.421875 12.171875 6.21875 \nQ 5.515625 13.875 5.515625 27.296875 \nQ 5.515625 40.765625 12.171875 48.375 \nQ 18.84375 56 30.609375 56 \nz\n\" id=\"DejaVuSans-111\"/>\n      </defs>\n      <g style=\"fill:#262626;\" transform=\"translate(27.964219 16.815141)scale(0.11 -0.11)\">\n       <use xlink:href=\"#DejaVuSans-111\"/>\n       <use x=\"61.181641\" xlink:href=\"#DejaVuSans-108\"/>\n       <use x=\"88.964844\" xlink:href=\"#DejaVuSans-101\"/>\n       <use x=\"150.488281\" xlink:href=\"#DejaVuSans-104\"/>\n      </g>\n     </g>\n    </g>\n   </g>\n   <g id=\"patch_3\">\n    <path clip-path=\"url(#pe72597839e)\" d=\"M 60.990469 221.922 \nL 379.847612 221.922 \nL 379.847612 216.486 \nL 60.990469 216.486 \nz\n\" style=\"fill:#4c72b0;stroke:#ffffff;stroke-linejoin:miter;\"/>\n   </g>\n   <g id=\"patch_4\">\n    <path clip-path=\"url(#pe72597839e)\" d=\"M 60.990469 211.05 \nL 238.640172 211.05 \nL 238.640172 205.614 \nL 60.990469 205.614 \nz\n\" style=\"fill:#4c72b0;stroke:#ffffff;stroke-linejoin:miter;\"/>\n   </g>\n   <g id=\"patch_5\">\n    <path clip-path=\"url(#pe72597839e)\" d=\"M 60.990469 200.178 \nL 195.860124 200.178 \nL 195.860124 194.742 \nL 60.990469 194.742 \nz\n\" style=\"fill:#4c72b0;stroke:#ffffff;stroke-linejoin:miter;\"/>\n   </g>\n   <g id=\"patch_6\">\n    <path clip-path=\"url(#pe72597839e)\" d=\"M 60.990469 189.306 \nL 182.902392 189.306 \nL 182.902392 183.87 \nL 60.990469 183.87 \nz\n\" style=\"fill:#4c72b0;stroke:#ffffff;stroke-linejoin:miter;\"/>\n   </g>\n   <g id=\"patch_7\">\n    <path clip-path=\"url(#pe72597839e)\" d=\"M 60.990469 178.434 \nL 167.173688 178.434 \nL 167.173688 172.998 \nL 60.990469 172.998 \nz\n\" style=\"fill:#4c72b0;stroke:#ffffff;stroke-linejoin:miter;\"/>\n   </g>\n   <g id=\"patch_8\">\n    <path clip-path=\"url(#pe72597839e)\" d=\"M 60.990469 167.562 \nL 132.771671 167.562 \nL 132.771671 162.126 \nL 60.990469 162.126 \nz\n\" style=\"fill:#4c72b0;stroke:#ffffff;stroke-linejoin:miter;\"/>\n   </g>\n   <g id=\"patch_9\">\n    <path clip-path=\"url(#pe72597839e)\" d=\"M 60.990469 156.69 \nL 132.384603 156.69 \nL 132.384603 151.254 \nL 60.990469 151.254 \nz\n\" style=\"fill:#4c72b0;stroke:#ffffff;stroke-linejoin:miter;\"/>\n   </g>\n   <g id=\"patch_10\">\n    <path clip-path=\"url(#pe72597839e)\" d=\"M 60.990469 145.818 \nL 118.529742 145.818 \nL 118.529742 140.382 \nL 60.990469 140.382 \nz\n\" style=\"fill:#4c72b0;stroke:#ffffff;stroke-linejoin:miter;\"/>\n   </g>\n   <g id=\"patch_11\">\n    <path clip-path=\"url(#pe72597839e)\" d=\"M 60.990469 134.946 \nL 116.091576 134.946 \nL 116.091576 129.51 \nL 60.990469 129.51 \nz\n\" style=\"fill:#4c72b0;stroke:#ffffff;stroke-linejoin:miter;\"/>\n   </g>\n   <g id=\"patch_12\">\n    <path clip-path=\"url(#pe72597839e)\" d=\"M 60.990469 124.074 \nL 116.087959 124.074 \nL 116.087959 118.638 \nL 60.990469 118.638 \nz\n\" style=\"fill:#4c72b0;stroke:#ffffff;stroke-linejoin:miter;\"/>\n   </g>\n   <g id=\"patch_13\">\n    <path clip-path=\"url(#pe72597839e)\" d=\"M 60.990469 113.202 \nL 115.328293 113.202 \nL 115.328293 107.766 \nL 60.990469 107.766 \nz\n\" style=\"fill:#4c72b0;stroke:#ffffff;stroke-linejoin:miter;\"/>\n   </g>\n   <g id=\"patch_14\">\n    <path clip-path=\"url(#pe72597839e)\" d=\"M 60.990469 102.33 \nL 114.89058 102.33 \nL 114.89058 96.894 \nL 60.990469 96.894 \nz\n\" style=\"fill:#4c72b0;stroke:#ffffff;stroke-linejoin:miter;\"/>\n   </g>\n   <g id=\"patch_15\">\n    <path clip-path=\"url(#pe72597839e)\" d=\"M 60.990469 91.458 \nL 108.303191 91.458 \nL 108.303191 86.022 \nL 60.990469 86.022 \nz\n\" style=\"fill:#4c72b0;stroke:#ffffff;stroke-linejoin:miter;\"/>\n   </g>\n   <g id=\"patch_16\">\n    <path clip-path=\"url(#pe72597839e)\" d=\"M 60.990469 80.586 \nL 93.685046 80.586 \nL 93.685046 75.15 \nL 60.990469 75.15 \nz\n\" style=\"fill:#4c72b0;stroke:#ffffff;stroke-linejoin:miter;\"/>\n   </g>\n   <g id=\"patch_17\">\n    <path clip-path=\"url(#pe72597839e)\" d=\"M 60.990469 69.714 \nL 91.272203 69.714 \nL 91.272203 64.278 \nL 60.990469 64.278 \nz\n\" style=\"fill:#4c72b0;stroke:#ffffff;stroke-linejoin:miter;\"/>\n   </g>\n   <g id=\"patch_18\">\n    <path clip-path=\"url(#pe72597839e)\" d=\"M 60.990469 58.842 \nL 91.004511 58.842 \nL 91.004511 53.406 \nL 60.990469 53.406 \nz\n\" style=\"fill:#4c72b0;stroke:#ffffff;stroke-linejoin:miter;\"/>\n   </g>\n   <g id=\"patch_19\">\n    <path clip-path=\"url(#pe72597839e)\" d=\"M 60.990469 47.97 \nL 90.89237 47.97 \nL 90.89237 42.534 \nL 60.990469 42.534 \nz\n\" style=\"fill:#4c72b0;stroke:#ffffff;stroke-linejoin:miter;\"/>\n   </g>\n   <g id=\"patch_20\">\n    <path clip-path=\"url(#pe72597839e)\" d=\"M 60.990469 37.098 \nL 89.749253 37.098 \nL 89.749253 31.662 \nL 60.990469 31.662 \nz\n\" style=\"fill:#4c72b0;stroke:#ffffff;stroke-linejoin:miter;\"/>\n   </g>\n   <g id=\"patch_21\">\n    <path clip-path=\"url(#pe72597839e)\" d=\"M 60.990469 26.226 \nL 87.810296 26.226 \nL 87.810296 20.79 \nL 60.990469 20.79 \nz\n\" style=\"fill:#4c72b0;stroke:#ffffff;stroke-linejoin:miter;\"/>\n   </g>\n   <g id=\"patch_22\">\n    <path clip-path=\"url(#pe72597839e)\" d=\"M 60.990469 15.354 \nL 82.601158 15.354 \nL 82.601158 9.918 \nL 60.990469 9.918 \nz\n\" style=\"fill:#4c72b0;stroke:#ffffff;stroke-linejoin:miter;\"/>\n   </g>\n   <g id=\"patch_23\">\n    <path d=\"M 60.990469 224.64 \nL 60.990469 7.2 \n\" style=\"fill:none;stroke:#ffffff;stroke-linecap:square;stroke-linejoin:miter;stroke-width:1.25;\"/>\n   </g>\n   <g id=\"patch_24\">\n    <path d=\"M 395.790469 224.64 \nL 395.790469 7.2 \n\" style=\"fill:none;stroke:#ffffff;stroke-linecap:square;stroke-linejoin:miter;stroke-width:1.25;\"/>\n   </g>\n   <g id=\"patch_25\">\n    <path d=\"M 60.990469 224.64 \nL 395.790469 224.64 \n\" style=\"fill:none;stroke:#ffffff;stroke-linecap:square;stroke-linejoin:miter;stroke-width:1.25;\"/>\n   </g>\n   <g id=\"patch_26\">\n    <path d=\"M 60.990469 7.2 \nL 395.790469 7.2 \n\" style=\"fill:none;stroke:#ffffff;stroke-linecap:square;stroke-linejoin:miter;stroke-width:1.25;\"/>\n   </g>\n  </g>\n </g>\n <defs>\n  <clipPath id=\"pe72597839e\">\n   <rect height=\"217.44\" width=\"334.8\" x=\"60.990469\" y=\"7.2\"/>\n  </clipPath>\n </defs>\n</svg>\n"
          },
          "metadata": {
            "needs_background": "light"
          }
        }
      ]
    },
    {
      "cell_type": "code",
      "metadata": {
        "id": "j4OphYToUtf7",
        "colab": {
          "base_uri": "https://localhost:8080/"
        },
        "outputId": "6f71ab3d-d879-4abe-e0e1-96253b13aac2"
      },
      "source": [
        "# Menghitung jumlah punctuation\n",
        "dataset_punct = open('/content/drive/MyDrive/SINGGALANG.tsv').read()\n",
        "\n",
        "dataset_punct  = dataset_punct.replace(\"--\", \" \")\n",
        "\n",
        "for symbol in \"-'\":\n",
        "   dataset_punct  = dataset_punct.replace(symbol + \" \", \"\")\n",
        "   dataset_punct  = dataset_punct.replace(\" \" + symbol, \"\")\n",
        "\n",
        "for symbol in \".,/'-\":\n",
        "    print (symbol, dataset_punct.count(symbol)) "
      ],
      "execution_count": null,
      "outputs": [
        {
          "output_type": "stream",
          "name": "stdout",
          "text": [
            ". 57483\n",
            ", 89240\n",
            "/ 3462\n",
            "' 33811\n",
            "- 96947\n"
          ]
        }
      ]
    },
    {
      "cell_type": "markdown",
      "metadata": {
        "id": "b8bPeHwDfTD6"
      },
      "source": [
        "## **3. Text Preprocessing** ##"
      ]
    },
    {
      "cell_type": "markdown",
      "metadata": {
        "id": "5vhlyRepfinm"
      },
      "source": [
        "*   Expand Contraction\n",
        "\n",
        "\n",
        "\n"
      ]
    },
    {
      "cell_type": "code",
      "metadata": {
        "id": "ZIIjy-PzfUMg"
      },
      "source": [
        "dataset_prep = pd.DataFrame(list_kalimat, columns=['token', 'entitas bernama', 'kalimat'])"
      ],
      "execution_count": null,
      "outputs": []
    },
    {
      "cell_type": "code",
      "metadata": {
        "id": "5ffm6ZKdfvhP",
        "colab": {
          "base_uri": "https://localhost:8080/",
          "height": 423
        },
        "outputId": "c1e3abbc-1b80-4ed9-81c6-2318788223dd"
      },
      "source": [
        "#Memperbaiki format penulisan pada kolom token\n",
        "# re.sub = setiap string yang sesuai dengan pola akan digantikan dengan string yang kita inginkan.\n",
        "# re.search = searches for that pattern within the string.\n",
        "import re\n",
        "def perbaikan_format_tanda_baca(dataset_prep):    \n",
        "    for i in dataset_prep.index:\n",
        "        token = re.sub('([.,!?()])', r'\\1 ', dataset_prep.at[i, 'token'])\n",
        "        dataset_prep.at[i, 'token'] = re.sub('\\s{2,}', ' ', token)\n",
        "    return dataset_prep\n",
        "perbaikan_format_tanda_baca(dataset_prep)"
      ],
      "execution_count": null,
      "outputs": [
        {
          "output_type": "execute_result",
          "data": {
            "text/html": [
              "<div>\n",
              "<style scoped>\n",
              "    .dataframe tbody tr th:only-of-type {\n",
              "        vertical-align: middle;\n",
              "    }\n",
              "\n",
              "    .dataframe tbody tr th {\n",
              "        vertical-align: top;\n",
              "    }\n",
              "\n",
              "    .dataframe thead th {\n",
              "        text-align: right;\n",
              "    }\n",
              "</style>\n",
              "<table border=\"1\" class=\"dataframe\">\n",
              "  <thead>\n",
              "    <tr style=\"text-align: right;\">\n",
              "      <th></th>\n",
              "      <th>token</th>\n",
              "      <th>entitas bernama</th>\n",
              "      <th>kalimat</th>\n",
              "    </tr>\n",
              "  </thead>\n",
              "  <tbody>\n",
              "    <tr>\n",
              "      <th>0</th>\n",
              "      <td>Ia</td>\n",
              "      <td>O</td>\n",
              "      <td>1</td>\n",
              "    </tr>\n",
              "    <tr>\n",
              "      <th>1</th>\n",
              "      <td>menjabat</td>\n",
              "      <td>O</td>\n",
              "      <td>1</td>\n",
              "    </tr>\n",
              "    <tr>\n",
              "      <th>2</th>\n",
              "      <td>sebagai</td>\n",
              "      <td>O</td>\n",
              "      <td>1</td>\n",
              "    </tr>\n",
              "    <tr>\n",
              "      <th>3</th>\n",
              "      <td>Presiden</td>\n",
              "      <td>O</td>\n",
              "      <td>1</td>\n",
              "    </tr>\n",
              "    <tr>\n",
              "      <th>4</th>\n",
              "      <td>ketiga</td>\n",
              "      <td>O</td>\n",
              "      <td>1</td>\n",
              "    </tr>\n",
              "    <tr>\n",
              "      <th>...</th>\n",
              "      <td>...</td>\n",
              "      <td>...</td>\n",
              "      <td>...</td>\n",
              "    </tr>\n",
              "    <tr>\n",
              "      <th>1478263</th>\n",
              "      <td>di</td>\n",
              "      <td>O</td>\n",
              "      <td>48957</td>\n",
              "    </tr>\n",
              "    <tr>\n",
              "      <th>1478264</th>\n",
              "      <td>kalangan</td>\n",
              "      <td>O</td>\n",
              "      <td>48957</td>\n",
              "    </tr>\n",
              "    <tr>\n",
              "      <th>1478265</th>\n",
              "      <td>pelajar</td>\n",
              "      <td>O</td>\n",
              "      <td>48957</td>\n",
              "    </tr>\n",
              "    <tr>\n",
              "      <th>1478266</th>\n",
              "      <td>Muhammadiyah</td>\n",
              "      <td>Organisation</td>\n",
              "      <td>48957</td>\n",
              "    </tr>\n",
              "    <tr>\n",
              "      <th>1478267</th>\n",
              "      <td>.</td>\n",
              "      <td>O</td>\n",
              "      <td>48957</td>\n",
              "    </tr>\n",
              "  </tbody>\n",
              "</table>\n",
              "<p>1478268 rows × 3 columns</p>\n",
              "</div>"
            ],
            "text/plain": [
              "                token entitas bernama  kalimat\n",
              "0                  Ia               O        1\n",
              "1            menjabat               O        1\n",
              "2             sebagai               O        1\n",
              "3            Presiden               O        1\n",
              "4              ketiga               O        1\n",
              "...               ...             ...      ...\n",
              "1478263            di               O    48957\n",
              "1478264      kalangan               O    48957\n",
              "1478265       pelajar               O    48957\n",
              "1478266  Muhammadiyah    Organisation    48957\n",
              "1478267            .                O    48957\n",
              "\n",
              "[1478268 rows x 3 columns]"
            ]
          },
          "metadata": {},
          "execution_count": 24
        }
      ]
    },
    {
      "cell_type": "markdown",
      "metadata": {
        "id": "OaRqkoiskQA3"
      },
      "source": [
        "\n",
        "\n",
        "* Case Folding\n",
        "\n"
      ]
    },
    {
      "cell_type": "code",
      "metadata": {
        "id": "sCK84f1CkWe8"
      },
      "source": [
        "dataset_prep['token'] = dataset_prep['token'].str.lower()"
      ],
      "execution_count": null,
      "outputs": []
    },
    {
      "cell_type": "code",
      "metadata": {
        "colab": {
          "base_uri": "https://localhost:8080/",
          "height": 363
        },
        "id": "maZGikIbkxpS",
        "outputId": "9518680a-414e-456e-e1b1-097133176b7d"
      },
      "source": [
        "dataset_prep.sample(10)"
      ],
      "execution_count": null,
      "outputs": [
        {
          "output_type": "execute_result",
          "data": {
            "text/html": [
              "<div>\n",
              "<style scoped>\n",
              "    .dataframe tbody tr th:only-of-type {\n",
              "        vertical-align: middle;\n",
              "    }\n",
              "\n",
              "    .dataframe tbody tr th {\n",
              "        vertical-align: top;\n",
              "    }\n",
              "\n",
              "    .dataframe thead th {\n",
              "        text-align: right;\n",
              "    }\n",
              "</style>\n",
              "<table border=\"1\" class=\"dataframe\">\n",
              "  <thead>\n",
              "    <tr style=\"text-align: right;\">\n",
              "      <th></th>\n",
              "      <th>token</th>\n",
              "      <th>entitas bernama</th>\n",
              "      <th>kalimat</th>\n",
              "    </tr>\n",
              "  </thead>\n",
              "  <tbody>\n",
              "    <tr>\n",
              "      <th>328862</th>\n",
              "      <td>dalam</td>\n",
              "      <td>O</td>\n",
              "      <td>10879</td>\n",
              "    </tr>\n",
              "    <tr>\n",
              "      <th>1264404</th>\n",
              "      <td>yang</td>\n",
              "      <td>O</td>\n",
              "      <td>41804</td>\n",
              "    </tr>\n",
              "    <tr>\n",
              "      <th>793267</th>\n",
              "      <td>mencari</td>\n",
              "      <td>O</td>\n",
              "      <td>25999</td>\n",
              "    </tr>\n",
              "    <tr>\n",
              "      <th>1350249</th>\n",
              "      <td>tahun</td>\n",
              "      <td>O</td>\n",
              "      <td>44692</td>\n",
              "    </tr>\n",
              "    <tr>\n",
              "      <th>1259538</th>\n",
              "      <td>sony</td>\n",
              "      <td>Person</td>\n",
              "      <td>41630</td>\n",
              "    </tr>\n",
              "    <tr>\n",
              "      <th>760575</th>\n",
              "      <td>barat</td>\n",
              "      <td>O</td>\n",
              "      <td>24880</td>\n",
              "    </tr>\n",
              "    <tr>\n",
              "      <th>941552</th>\n",
              "      <td>desa</td>\n",
              "      <td>O</td>\n",
              "      <td>30996</td>\n",
              "    </tr>\n",
              "    <tr>\n",
              "      <th>506721</th>\n",
              "      <td>kebasen</td>\n",
              "      <td>Place</td>\n",
              "      <td>16533</td>\n",
              "    </tr>\n",
              "    <tr>\n",
              "      <th>328675</th>\n",
              "      <td>doe</td>\n",
              "      <td>O</td>\n",
              "      <td>10872</td>\n",
              "    </tr>\n",
              "    <tr>\n",
              "      <th>664370</th>\n",
              "      <td>memiliki</td>\n",
              "      <td>O</td>\n",
              "      <td>21615</td>\n",
              "    </tr>\n",
              "  </tbody>\n",
              "</table>\n",
              "</div>"
            ],
            "text/plain": [
              "            token entitas bernama  kalimat\n",
              "328862      dalam               O    10879\n",
              "1264404      yang               O    41804\n",
              "793267    mencari               O    25999\n",
              "1350249     tahun               O    44692\n",
              "1259538      sony          Person    41630\n",
              "760575      barat               O    24880\n",
              "941552       desa               O    30996\n",
              "506721    kebasen           Place    16533\n",
              "328675        doe               O    10872\n",
              "664370   memiliki               O    21615"
            ]
          },
          "metadata": {},
          "execution_count": 28
        }
      ]
    },
    {
      "cell_type": "markdown",
      "metadata": {
        "id": "oXhkCToalCHu"
      },
      "source": [
        "## **4.Feature Extraction**"
      ]
    },
    {
      "cell_type": "code",
      "metadata": {
        "id": "euXDZi5jmg4l"
      },
      "source": [
        "\n",
        "class getsentence(object):\n",
        "    \n",
        "    def __init__(self, data):\n",
        "        self.n_sent = 1.0\n",
        "        self.data = data\n",
        "        self.empty = False\n",
        "        agg_func = lambda s: [(w, t) for w, t in zip(s[\"token\"].values.tolist(),\n",
        "                                        \n",
        "                                                           s[\"entitas bernama\"].values.tolist())]\n",
        "        self.grouped = self.data.groupby(\"kalimat\").apply(agg_func)\n",
        "        self.sentences = [s for s in self.grouped]"
      ],
      "execution_count": null,
      "outputs": []
    },
    {
      "cell_type": "code",
      "metadata": {
        "id": "ANDlrDnwmwWq"
      },
      "source": [
        "getter = getsentence(dataset_prep)"
      ],
      "execution_count": null,
      "outputs": []
    },
    {
      "cell_type": "code",
      "metadata": {
        "colab": {
          "base_uri": "https://localhost:8080/"
        },
        "id": "j8AOpyg0nLFI",
        "outputId": "8b35df2c-f839-4f7e-a765-154bf2add3b7"
      },
      "source": [
        "sentences = getter.sentences\n",
        "#ths is how a sentence will look like.\n",
        "print(sentences[1])"
      ],
      "execution_count": null,
      "outputs": [
        {
          "output_type": "stream",
          "name": "stdout",
          "text": [
            "[('oleh', 'O'), ('dunia', 'O'), ('barat', 'O'), ('ia', 'O'), ('dianggap', 'O'), ('sebagai', 'O'), ('orang', 'O'), ('yang', 'O'), ('sangat', 'O'), ('berpengaruh', 'O'), ('di', 'O'), ('mesir', 'Place'), ('dan', 'O'), ('di', 'O'), ('timur', 'O'), ('tengah', 'O'), ('dalam', 'O'), ('sejarah', 'O'), ('modern', 'O'), ('. ', 'O')]\n"
          ]
        }
      ]
    },
    {
      "cell_type": "code",
      "metadata": {
        "id": "GUgZ6Q9tlE_q"
      },
      "source": [
        "def word2features(sent, i):\n",
        "    word = sent[i][0]\n",
        "    postag = sent[i][1]\n",
        "\n",
        "    features = {\n",
        "        'bias': 1.0,\n",
        "        'word.lower()': word.lower(),\n",
        "        'word[-3:]': word[-3:],\n",
        "        'word[-2:]': word[-2:],\n",
        "        'word.isupper()': word.isupper(),\n",
        "        'word.istitle()': word.istitle(),\n",
        "        'word.isdigit()': word.isdigit(),\n",
        "    }\n",
        "    if i > 0:\n",
        "        word1 = sent[i-1][0]\n",
        "        features.update({\n",
        "            '-1:word.lower()': word1.lower(),\n",
        "            '-1:word.istitle()': word1.istitle(),\n",
        "            '-1:word.isupper()': word1.isupper(),\n",
        "\n",
        "        })\n",
        "    else:\n",
        "        features['BOS'] = True\n",
        "\n",
        "    if i < len(sent)-1:\n",
        "        word1 = sent[i+1][0]\n",
        "        features.update({\n",
        "            '+1:word.lower()': word1.lower(),\n",
        "            '+1:word.istitle()': word1.istitle(),\n",
        "            '+1:word.isupper()': word1.isupper(),\n",
        "      \n",
        "        })\n",
        "    else:\n",
        "        features['EOS'] = True\n",
        "\n",
        "    return features"
      ],
      "execution_count": null,
      "outputs": []
    },
    {
      "cell_type": "code",
      "metadata": {
        "id": "jEciyBQUl6NZ"
      },
      "source": [
        "def sent2features(sent):\n",
        "    return [word2features(sent, i) for i in range(len(sent))]\n",
        "\n",
        "def sent2labels(sent):\n",
        "    return [label for token,label in sent]"
      ],
      "execution_count": null,
      "outputs": []
    },
    {
      "cell_type": "code",
      "metadata": {
        "id": "M33xDuSImN1x"
      },
      "source": [
        "#Membagi data dengan rasio (90:10)\n",
        "from sklearn.model_selection import train_test_split\n",
        "\n",
        "X = [sent2features(s) for s in sentences]\n",
        "y = [sent2labels(s) for s in sentences]\n",
        "X_train, X_test, y_train, y_test = train_test_split(X, y, test_size = 0.1, random_state = 42)"
      ],
      "execution_count": null,
      "outputs": []
    },
    {
      "cell_type": "markdown",
      "metadata": {
        "id": "FWbUuoKLngOX"
      },
      "source": [
        "## **5.Modeling and Evaluation**"
      ]
    },
    {
      "cell_type": "code",
      "metadata": {
        "colab": {
          "base_uri": "https://localhost:8080/"
        },
        "id": "Gnv2T49un_nV",
        "outputId": "bc259f19-1a50-4b3c-cca7-9f349171dcdc"
      },
      "source": [
        "!pip install python-crfsuite"
      ],
      "execution_count": null,
      "outputs": [
        {
          "output_type": "stream",
          "name": "stdout",
          "text": [
            "Collecting python-crfsuite\n",
            "  Downloading python_crfsuite-0.9.7-cp37-cp37m-manylinux1_x86_64.whl (743 kB)\n",
            "\u001b[?25l\r\u001b[K     |▍                               | 10 kB 16.0 MB/s eta 0:00:01\r\u001b[K     |▉                               | 20 kB 19.5 MB/s eta 0:00:01\r\u001b[K     |█▎                              | 30 kB 20.0 MB/s eta 0:00:01\r\u001b[K     |█▊                              | 40 kB 21.8 MB/s eta 0:00:01\r\u001b[K     |██▏                             | 51 kB 23.7 MB/s eta 0:00:01\r\u001b[K     |██▋                             | 61 kB 25.4 MB/s eta 0:00:01\r\u001b[K     |███                             | 71 kB 25.6 MB/s eta 0:00:01\r\u001b[K     |███▌                            | 81 kB 27.1 MB/s eta 0:00:01\r\u001b[K     |████                            | 92 kB 23.6 MB/s eta 0:00:01\r\u001b[K     |████▍                           | 102 kB 24.9 MB/s eta 0:00:01\r\u001b[K     |████▉                           | 112 kB 24.9 MB/s eta 0:00:01\r\u001b[K     |█████▎                          | 122 kB 24.9 MB/s eta 0:00:01\r\u001b[K     |█████▊                          | 133 kB 24.9 MB/s eta 0:00:01\r\u001b[K     |██████▏                         | 143 kB 24.9 MB/s eta 0:00:01\r\u001b[K     |██████▋                         | 153 kB 24.9 MB/s eta 0:00:01\r\u001b[K     |███████                         | 163 kB 24.9 MB/s eta 0:00:01\r\u001b[K     |███████▌                        | 174 kB 24.9 MB/s eta 0:00:01\r\u001b[K     |████████                        | 184 kB 24.9 MB/s eta 0:00:01\r\u001b[K     |████████▍                       | 194 kB 24.9 MB/s eta 0:00:01\r\u001b[K     |████████▉                       | 204 kB 24.9 MB/s eta 0:00:01\r\u001b[K     |█████████▎                      | 215 kB 24.9 MB/s eta 0:00:01\r\u001b[K     |█████████▊                      | 225 kB 24.9 MB/s eta 0:00:01\r\u001b[K     |██████████▏                     | 235 kB 24.9 MB/s eta 0:00:01\r\u001b[K     |██████████▋                     | 245 kB 24.9 MB/s eta 0:00:01\r\u001b[K     |███████████                     | 256 kB 24.9 MB/s eta 0:00:01\r\u001b[K     |███████████▌                    | 266 kB 24.9 MB/s eta 0:00:01\r\u001b[K     |████████████                    | 276 kB 24.9 MB/s eta 0:00:01\r\u001b[K     |████████████▍                   | 286 kB 24.9 MB/s eta 0:00:01\r\u001b[K     |████████████▉                   | 296 kB 24.9 MB/s eta 0:00:01\r\u001b[K     |█████████████▏                  | 307 kB 24.9 MB/s eta 0:00:01\r\u001b[K     |█████████████▋                  | 317 kB 24.9 MB/s eta 0:00:01\r\u001b[K     |██████████████                  | 327 kB 24.9 MB/s eta 0:00:01\r\u001b[K     |██████████████▌                 | 337 kB 24.9 MB/s eta 0:00:01\r\u001b[K     |███████████████                 | 348 kB 24.9 MB/s eta 0:00:01\r\u001b[K     |███████████████▍                | 358 kB 24.9 MB/s eta 0:00:01\r\u001b[K     |███████████████▉                | 368 kB 24.9 MB/s eta 0:00:01\r\u001b[K     |████████████████▎               | 378 kB 24.9 MB/s eta 0:00:01\r\u001b[K     |████████████████▊               | 389 kB 24.9 MB/s eta 0:00:01\r\u001b[K     |█████████████████▏              | 399 kB 24.9 MB/s eta 0:00:01\r\u001b[K     |█████████████████▋              | 409 kB 24.9 MB/s eta 0:00:01\r\u001b[K     |██████████████████              | 419 kB 24.9 MB/s eta 0:00:01\r\u001b[K     |██████████████████▌             | 430 kB 24.9 MB/s eta 0:00:01\r\u001b[K     |███████████████████             | 440 kB 24.9 MB/s eta 0:00:01\r\u001b[K     |███████████████████▍            | 450 kB 24.9 MB/s eta 0:00:01\r\u001b[K     |███████████████████▉            | 460 kB 24.9 MB/s eta 0:00:01\r\u001b[K     |████████████████████▎           | 471 kB 24.9 MB/s eta 0:00:01\r\u001b[K     |████████████████████▊           | 481 kB 24.9 MB/s eta 0:00:01\r\u001b[K     |█████████████████████▏          | 491 kB 24.9 MB/s eta 0:00:01\r\u001b[K     |█████████████████████▋          | 501 kB 24.9 MB/s eta 0:00:01\r\u001b[K     |██████████████████████          | 512 kB 24.9 MB/s eta 0:00:01\r\u001b[K     |██████████████████████▌         | 522 kB 24.9 MB/s eta 0:00:01\r\u001b[K     |███████████████████████         | 532 kB 24.9 MB/s eta 0:00:01\r\u001b[K     |███████████████████████▍        | 542 kB 24.9 MB/s eta 0:00:01\r\u001b[K     |███████████████████████▉        | 552 kB 24.9 MB/s eta 0:00:01\r\u001b[K     |████████████████████████▎       | 563 kB 24.9 MB/s eta 0:00:01\r\u001b[K     |████████████████████████▊       | 573 kB 24.9 MB/s eta 0:00:01\r\u001b[K     |█████████████████████████▏      | 583 kB 24.9 MB/s eta 0:00:01\r\u001b[K     |█████████████████████████▋      | 593 kB 24.9 MB/s eta 0:00:01\r\u001b[K     |██████████████████████████      | 604 kB 24.9 MB/s eta 0:00:01\r\u001b[K     |██████████████████████████▍     | 614 kB 24.9 MB/s eta 0:00:01\r\u001b[K     |██████████████████████████▉     | 624 kB 24.9 MB/s eta 0:00:01\r\u001b[K     |███████████████████████████▎    | 634 kB 24.9 MB/s eta 0:00:01\r\u001b[K     |███████████████████████████▊    | 645 kB 24.9 MB/s eta 0:00:01\r\u001b[K     |████████████████████████████▏   | 655 kB 24.9 MB/s eta 0:00:01\r\u001b[K     |████████████████████████████▋   | 665 kB 24.9 MB/s eta 0:00:01\r\u001b[K     |█████████████████████████████   | 675 kB 24.9 MB/s eta 0:00:01\r\u001b[K     |█████████████████████████████▌  | 686 kB 24.9 MB/s eta 0:00:01\r\u001b[K     |██████████████████████████████  | 696 kB 24.9 MB/s eta 0:00:01\r\u001b[K     |██████████████████████████████▍ | 706 kB 24.9 MB/s eta 0:00:01\r\u001b[K     |██████████████████████████████▉ | 716 kB 24.9 MB/s eta 0:00:01\r\u001b[K     |███████████████████████████████▎| 727 kB 24.9 MB/s eta 0:00:01\r\u001b[K     |███████████████████████████████▊| 737 kB 24.9 MB/s eta 0:00:01\r\u001b[K     |████████████████████████████████| 743 kB 24.9 MB/s \n",
            "\u001b[?25hInstalling collected packages: python-crfsuite\n",
            "Successfully installed python-crfsuite-0.9.7\n"
          ]
        }
      ]
    },
    {
      "cell_type": "code",
      "metadata": {
        "id": "Xbao8CrvnmWb"
      },
      "source": [
        "import pycrfsuite"
      ],
      "execution_count": null,
      "outputs": []
    },
    {
      "cell_type": "code",
      "metadata": {
        "id": "nyUhLziRo1EY"
      },
      "source": [
        "trainer = pycrfsuite.Trainer(verbose = True)\n",
        "\n",
        "for xseq, yseq in zip(X_train, y_train):\n",
        "    trainer.append(xseq, yseq)"
      ],
      "execution_count": null,
      "outputs": []
    },
    {
      "cell_type": "code",
      "metadata": {
        "id": "3YZC-Rr3pJsu"
      },
      "source": [
        "trainer.set_params({\n",
        "    'c1': 1.0,   # coefficient for L1 penalty\n",
        "    'c2': 1e-3,  # coefficient for L2 penalty\n",
        "    'max_iterations': 100,  # stop earlier\n",
        "\n",
        "    # include transitions that are possible, but not observed\n",
        "    'feature.possible_transitions': True\n",
        "})"
      ],
      "execution_count": null,
      "outputs": []
    },
    {
      "cell_type": "code",
      "metadata": {
        "colab": {
          "base_uri": "https://localhost:8080/"
        },
        "id": "eeivrNgGpLQl",
        "outputId": "5e8eae68-c4ba-4524-8f2f-278690bbaa1d"
      },
      "source": [
        "trainer.params()"
      ],
      "execution_count": null,
      "outputs": [
        {
          "output_type": "execute_result",
          "data": {
            "text/plain": [
              "['feature.minfreq',\n",
              " 'feature.possible_states',\n",
              " 'feature.possible_transitions',\n",
              " 'c1',\n",
              " 'c2',\n",
              " 'max_iterations',\n",
              " 'num_memories',\n",
              " 'epsilon',\n",
              " 'period',\n",
              " 'delta',\n",
              " 'linesearch',\n",
              " 'max_linesearch']"
            ]
          },
          "metadata": {},
          "execution_count": 59
        }
      ]
    },
    {
      "cell_type": "code",
      "metadata": {
        "colab": {
          "base_uri": "https://localhost:8080/"
        },
        "id": "6qwOUROUpOdK",
        "outputId": "07bf4274-1ed0-4136-fd6a-2b9e68dd4166"
      },
      "source": [
        "trainer.train('resume-ner.crfsuite')"
      ],
      "execution_count": null,
      "outputs": [
        {
          "output_type": "stream",
          "name": "stdout",
          "text": [
            "Feature generation\n",
            "type: CRF1d\n",
            "feature.minfreq: 0.000000\n",
            "feature.possible_states: 0\n",
            "feature.possible_transitions: 1\n",
            "0....1....2....3....4....5....6....7....8....9....10\n",
            "Number of features: 298811\n",
            "Seconds required: 2.459\n",
            "\n",
            "L-BFGS optimization\n",
            "c1: 1.000000\n",
            "c2: 0.001000\n",
            "num_memories: 6\n",
            "max_iterations: 100\n",
            "epsilon: 0.000010\n",
            "stop: 10\n",
            "delta: 0.000010\n",
            "linesearch: MoreThuente\n",
            "linesearch.max_iterations: 20\n",
            "\n",
            "***** Iteration #1 *****\n",
            "Loss: 712459.296363\n",
            "Feature norm: 1.000000\n",
            "Error norm: 645520.923575\n",
            "Active features: 140482\n",
            "Line search trials: 1\n",
            "Line search step: 0.000001\n",
            "Seconds required for this iteration: 1.701\n",
            "\n",
            "***** Iteration #2 *****\n",
            "Loss: 529307.039879\n",
            "Feature norm: 1.810759\n",
            "Error norm: 114576.519795\n",
            "Active features: 103744\n",
            "Line search trials: 1\n",
            "Line search step: 1.000000\n",
            "Seconds required for this iteration: 0.895\n",
            "\n",
            "***** Iteration #3 *****\n",
            "Loss: 518385.061387\n",
            "Feature norm: 1.731660\n",
            "Error norm: 81648.019474\n",
            "Active features: 107135\n",
            "Line search trials: 1\n",
            "Line search step: 1.000000\n",
            "Seconds required for this iteration: 0.872\n",
            "\n",
            "***** Iteration #4 *****\n",
            "Loss: 504320.460860\n",
            "Feature norm: 1.638355\n",
            "Error norm: 74558.146177\n",
            "Active features: 72654\n",
            "Line search trials: 1\n",
            "Line search step: 1.000000\n",
            "Seconds required for this iteration: 0.882\n",
            "\n",
            "***** Iteration #5 *****\n",
            "Loss: 495121.167956\n",
            "Feature norm: 1.719841\n",
            "Error norm: 72415.015240\n",
            "Active features: 70504\n",
            "Line search trials: 1\n",
            "Line search step: 1.000000\n",
            "Seconds required for this iteration: 0.894\n",
            "\n",
            "***** Iteration #6 *****\n",
            "Loss: 448587.796771\n",
            "Feature norm: 2.605966\n",
            "Error norm: 32624.141673\n",
            "Active features: 63905\n",
            "Line search trials: 1\n",
            "Line search step: 1.000000\n",
            "Seconds required for this iteration: 0.904\n",
            "\n",
            "***** Iteration #7 *****\n",
            "Loss: 408491.769260\n",
            "Feature norm: 4.322237\n",
            "Error norm: 84682.332404\n",
            "Active features: 65263\n",
            "Line search trials: 1\n",
            "Line search step: 1.000000\n",
            "Seconds required for this iteration: 0.894\n",
            "\n",
            "***** Iteration #8 *****\n",
            "Loss: 376490.901665\n",
            "Feature norm: 5.757763\n",
            "Error norm: 34036.670196\n",
            "Active features: 66776\n",
            "Line search trials: 1\n",
            "Line search step: 1.000000\n",
            "Seconds required for this iteration: 0.895\n",
            "\n",
            "***** Iteration #9 *****\n",
            "Loss: 361119.606702\n",
            "Feature norm: 8.281174\n",
            "Error norm: 115909.105278\n",
            "Active features: 66491\n",
            "Line search trials: 1\n",
            "Line search step: 1.000000\n",
            "Seconds required for this iteration: 0.900\n",
            "\n",
            "***** Iteration #10 *****\n",
            "Loss: 349737.919580\n",
            "Feature norm: 8.355652\n",
            "Error norm: 28467.509201\n",
            "Active features: 67466\n",
            "Line search trials: 1\n",
            "Line search step: 1.000000\n",
            "Seconds required for this iteration: 0.893\n",
            "\n",
            "***** Iteration #11 *****\n",
            "Loss: 340984.245547\n",
            "Feature norm: 9.128759\n",
            "Error norm: 39856.160038\n",
            "Active features: 66909\n",
            "Line search trials: 1\n",
            "Line search step: 1.000000\n",
            "Seconds required for this iteration: 0.892\n",
            "\n",
            "***** Iteration #12 *****\n",
            "Loss: 328385.065197\n",
            "Feature norm: 10.501943\n",
            "Error norm: 26424.505681\n",
            "Active features: 65994\n",
            "Line search trials: 1\n",
            "Line search step: 1.000000\n",
            "Seconds required for this iteration: 0.902\n",
            "\n",
            "***** Iteration #13 *****\n",
            "Loss: 299598.041897\n",
            "Feature norm: 15.839352\n",
            "Error norm: 52625.044221\n",
            "Active features: 63686\n",
            "Line search trials: 1\n",
            "Line search step: 1.000000\n",
            "Seconds required for this iteration: 0.900\n",
            "\n",
            "***** Iteration #14 *****\n",
            "Loss: 286887.941329\n",
            "Feature norm: 17.888682\n",
            "Error norm: 12743.558928\n",
            "Active features: 65873\n",
            "Line search trials: 1\n",
            "Line search step: 1.000000\n",
            "Seconds required for this iteration: 0.902\n",
            "\n",
            "***** Iteration #15 *****\n",
            "Loss: 275184.379872\n",
            "Feature norm: 20.488663\n",
            "Error norm: 21547.470148\n",
            "Active features: 65230\n",
            "Line search trials: 1\n",
            "Line search step: 1.000000\n",
            "Seconds required for this iteration: 0.907\n",
            "\n",
            "***** Iteration #16 *****\n",
            "Loss: 264644.487667\n",
            "Feature norm: 23.734301\n",
            "Error norm: 9562.736380\n",
            "Active features: 63891\n",
            "Line search trials: 1\n",
            "Line search step: 1.000000\n",
            "Seconds required for this iteration: 0.908\n",
            "\n",
            "***** Iteration #17 *****\n",
            "Loss: 250592.591691\n",
            "Feature norm: 29.009645\n",
            "Error norm: 12587.601119\n",
            "Active features: 62589\n",
            "Line search trials: 1\n",
            "Line search step: 1.000000\n",
            "Seconds required for this iteration: 0.916\n",
            "\n",
            "***** Iteration #18 *****\n",
            "Loss: 240779.812708\n",
            "Feature norm: 34.408823\n",
            "Error norm: 36777.430913\n",
            "Active features: 62807\n",
            "Line search trials: 1\n",
            "Line search step: 1.000000\n",
            "Seconds required for this iteration: 0.897\n",
            "\n",
            "***** Iteration #19 *****\n",
            "Loss: 231156.268954\n",
            "Feature norm: 37.257649\n",
            "Error norm: 11718.228831\n",
            "Active features: 62815\n",
            "Line search trials: 1\n",
            "Line search step: 1.000000\n",
            "Seconds required for this iteration: 0.895\n",
            "\n",
            "***** Iteration #20 *****\n",
            "Loss: 220305.120256\n",
            "Feature norm: 42.166790\n",
            "Error norm: 14671.550986\n",
            "Active features: 62442\n",
            "Line search trials: 1\n",
            "Line search step: 1.000000\n",
            "Seconds required for this iteration: 0.909\n",
            "\n",
            "***** Iteration #21 *****\n",
            "Loss: 209116.834077\n",
            "Feature norm: 49.517374\n",
            "Error norm: 16641.940747\n",
            "Active features: 62342\n",
            "Line search trials: 1\n",
            "Line search step: 1.000000\n",
            "Seconds required for this iteration: 0.919\n",
            "\n",
            "***** Iteration #22 *****\n",
            "Loss: 202764.804515\n",
            "Feature norm: 55.346954\n",
            "Error norm: 44118.700854\n",
            "Active features: 61337\n",
            "Line search trials: 1\n",
            "Line search step: 1.000000\n",
            "Seconds required for this iteration: 0.900\n",
            "\n",
            "***** Iteration #23 *****\n",
            "Loss: 194654.498676\n",
            "Feature norm: 60.607310\n",
            "Error norm: 7080.478630\n",
            "Active features: 61014\n",
            "Line search trials: 1\n",
            "Line search step: 1.000000\n",
            "Seconds required for this iteration: 0.901\n",
            "\n",
            "***** Iteration #24 *****\n",
            "Loss: 189344.237237\n",
            "Feature norm: 64.919194\n",
            "Error norm: 5733.639413\n",
            "Active features: 60837\n",
            "Line search trials: 1\n",
            "Line search step: 1.000000\n",
            "Seconds required for this iteration: 0.912\n",
            "\n",
            "***** Iteration #25 *****\n",
            "Loss: 178461.343678\n",
            "Feature norm: 78.954425\n",
            "Error norm: 15065.986493\n",
            "Active features: 59004\n",
            "Line search trials: 1\n",
            "Line search step: 1.000000\n",
            "Seconds required for this iteration: 0.899\n",
            "\n",
            "***** Iteration #26 *****\n",
            "Loss: 172441.179932\n",
            "Feature norm: 85.047424\n",
            "Error norm: 10291.018268\n",
            "Active features: 58729\n",
            "Line search trials: 1\n",
            "Line search step: 1.000000\n",
            "Seconds required for this iteration: 0.903\n",
            "\n",
            "***** Iteration #27 *****\n",
            "Loss: 165102.000530\n",
            "Feature norm: 95.402142\n",
            "Error norm: 9705.992271\n",
            "Active features: 56947\n",
            "Line search trials: 1\n",
            "Line search step: 1.000000\n",
            "Seconds required for this iteration: 0.904\n",
            "\n",
            "***** Iteration #28 *****\n",
            "Loss: 158111.667578\n",
            "Feature norm: 105.647028\n",
            "Error norm: 10143.248696\n",
            "Active features: 56509\n",
            "Line search trials: 1\n",
            "Line search step: 1.000000\n",
            "Seconds required for this iteration: 0.904\n",
            "\n",
            "***** Iteration #29 *****\n",
            "Loss: 151606.374321\n",
            "Feature norm: 118.146005\n",
            "Error norm: 6024.166265\n",
            "Active features: 55732\n",
            "Line search trials: 1\n",
            "Line search step: 1.000000\n",
            "Seconds required for this iteration: 0.910\n",
            "\n",
            "***** Iteration #30 *****\n",
            "Loss: 145299.987250\n",
            "Feature norm: 131.413200\n",
            "Error norm: 3413.415597\n",
            "Active features: 55422\n",
            "Line search trials: 1\n",
            "Line search step: 1.000000\n",
            "Seconds required for this iteration: 0.942\n",
            "\n",
            "***** Iteration #31 *****\n",
            "Loss: 139707.812403\n",
            "Feature norm: 150.916942\n",
            "Error norm: 20018.243152\n",
            "Active features: 53292\n",
            "Line search trials: 1\n",
            "Line search step: 1.000000\n",
            "Seconds required for this iteration: 0.932\n",
            "\n",
            "***** Iteration #32 *****\n",
            "Loss: 135348.740907\n",
            "Feature norm: 161.114740\n",
            "Error norm: 1822.514984\n",
            "Active features: 53625\n",
            "Line search trials: 1\n",
            "Line search step: 1.000000\n",
            "Seconds required for this iteration: 0.949\n",
            "\n",
            "***** Iteration #33 *****\n",
            "Loss: 130870.476181\n",
            "Feature norm: 177.819795\n",
            "Error norm: 5116.954284\n",
            "Active features: 53044\n",
            "Line search trials: 1\n",
            "Line search step: 1.000000\n",
            "Seconds required for this iteration: 0.941\n",
            "\n",
            "***** Iteration #34 *****\n",
            "Loss: 126233.716257\n",
            "Feature norm: 197.071802\n",
            "Error norm: 8433.422545\n",
            "Active features: 52077\n",
            "Line search trials: 1\n",
            "Line search step: 1.000000\n",
            "Seconds required for this iteration: 0.910\n",
            "\n",
            "***** Iteration #35 *****\n",
            "Loss: 123180.823125\n",
            "Feature norm: 211.676930\n",
            "Error norm: 4411.996353\n",
            "Active features: 51495\n",
            "Line search trials: 1\n",
            "Line search step: 1.000000\n",
            "Seconds required for this iteration: 0.908\n",
            "\n",
            "***** Iteration #36 *****\n",
            "Loss: 120406.943578\n",
            "Feature norm: 225.987230\n",
            "Error norm: 1823.202469\n",
            "Active features: 51143\n",
            "Line search trials: 1\n",
            "Line search step: 1.000000\n",
            "Seconds required for this iteration: 0.908\n",
            "\n",
            "***** Iteration #37 *****\n",
            "Loss: 117928.324886\n",
            "Feature norm: 244.598531\n",
            "Error norm: 9481.443373\n",
            "Active features: 49407\n",
            "Line search trials: 1\n",
            "Line search step: 1.000000\n",
            "Seconds required for this iteration: 0.897\n",
            "\n",
            "***** Iteration #38 *****\n",
            "Loss: 116230.662680\n",
            "Feature norm: 253.736468\n",
            "Error norm: 1901.874203\n",
            "Active features: 49295\n",
            "Line search trials: 1\n",
            "Line search step: 1.000000\n",
            "Seconds required for this iteration: 0.902\n",
            "\n",
            "***** Iteration #39 *****\n",
            "Loss: 114797.236063\n",
            "Feature norm: 266.514575\n",
            "Error norm: 3324.908289\n",
            "Active features: 48069\n",
            "Line search trials: 1\n",
            "Line search step: 1.000000\n",
            "Seconds required for this iteration: 0.905\n",
            "\n",
            "***** Iteration #40 *****\n",
            "Loss: 113608.234634\n",
            "Feature norm: 275.503634\n",
            "Error norm: 2838.727160\n",
            "Active features: 46205\n",
            "Line search trials: 1\n",
            "Line search step: 1.000000\n",
            "Seconds required for this iteration: 0.911\n",
            "\n",
            "***** Iteration #41 *****\n",
            "Loss: 112748.027627\n",
            "Feature norm: 284.410099\n",
            "Error norm: 3079.866886\n",
            "Active features: 45515\n",
            "Line search trials: 1\n",
            "Line search step: 1.000000\n",
            "Seconds required for this iteration: 0.899\n",
            "\n",
            "***** Iteration #42 *****\n",
            "Loss: 112014.454751\n",
            "Feature norm: 290.055090\n",
            "Error norm: 923.297764\n",
            "Active features: 45191\n",
            "Line search trials: 1\n",
            "Line search step: 1.000000\n",
            "Seconds required for this iteration: 0.910\n",
            "\n",
            "***** Iteration #43 *****\n",
            "Loss: 111342.016265\n",
            "Feature norm: 298.360830\n",
            "Error norm: 3618.466017\n",
            "Active features: 44168\n",
            "Line search trials: 1\n",
            "Line search step: 1.000000\n",
            "Seconds required for this iteration: 0.923\n",
            "\n",
            "***** Iteration #44 *****\n",
            "Loss: 110874.445842\n",
            "Feature norm: 301.848818\n",
            "Error norm: 1410.833386\n",
            "Active features: 43222\n",
            "Line search trials: 1\n",
            "Line search step: 1.000000\n",
            "Seconds required for this iteration: 0.905\n",
            "\n",
            "***** Iteration #45 *****\n",
            "Loss: 110461.831257\n",
            "Feature norm: 307.593216\n",
            "Error norm: 1950.316474\n",
            "Active features: 42038\n",
            "Line search trials: 1\n",
            "Line search step: 1.000000\n",
            "Seconds required for this iteration: 0.897\n",
            "\n",
            "***** Iteration #46 *****\n",
            "Loss: 110150.842732\n",
            "Feature norm: 310.014722\n",
            "Error norm: 1106.357480\n",
            "Active features: 41653\n",
            "Line search trials: 1\n",
            "Line search step: 1.000000\n",
            "Seconds required for this iteration: 0.895\n",
            "\n",
            "***** Iteration #47 *****\n",
            "Loss: 109856.359125\n",
            "Feature norm: 313.429594\n",
            "Error norm: 1667.084568\n",
            "Active features: 41190\n",
            "Line search trials: 1\n",
            "Line search step: 1.000000\n",
            "Seconds required for this iteration: 0.901\n",
            "\n",
            "***** Iteration #48 *****\n",
            "Loss: 109609.599438\n",
            "Feature norm: 314.950590\n",
            "Error norm: 1362.678039\n",
            "Active features: 40029\n",
            "Line search trials: 1\n",
            "Line search step: 1.000000\n",
            "Seconds required for this iteration: 0.899\n",
            "\n",
            "***** Iteration #49 *****\n",
            "Loss: 109368.496110\n",
            "Feature norm: 316.864646\n",
            "Error norm: 1320.858630\n",
            "Active features: 39436\n",
            "Line search trials: 1\n",
            "Line search step: 1.000000\n",
            "Seconds required for this iteration: 0.904\n",
            "\n",
            "***** Iteration #50 *****\n",
            "Loss: 109165.397478\n",
            "Feature norm: 317.684834\n",
            "Error norm: 1254.069250\n",
            "Active features: 38755\n",
            "Line search trials: 1\n",
            "Line search step: 1.000000\n",
            "Seconds required for this iteration: 0.915\n",
            "\n",
            "***** Iteration #51 *****\n",
            "Loss: 108935.549028\n",
            "Feature norm: 319.341382\n",
            "Error norm: 1344.535778\n",
            "Active features: 38258\n",
            "Line search trials: 1\n",
            "Line search step: 1.000000\n",
            "Seconds required for this iteration: 0.893\n",
            "\n",
            "***** Iteration #52 *****\n",
            "Loss: 108752.155389\n",
            "Feature norm: 320.299044\n",
            "Error norm: 1478.069452\n",
            "Active features: 37253\n",
            "Line search trials: 1\n",
            "Line search step: 1.000000\n",
            "Seconds required for this iteration: 0.911\n",
            "\n",
            "***** Iteration #53 *****\n",
            "Loss: 108572.037549\n",
            "Feature norm: 321.989137\n",
            "Error norm: 1189.494024\n",
            "Active features: 36358\n",
            "Line search trials: 1\n",
            "Line search step: 1.000000\n",
            "Seconds required for this iteration: 0.898\n",
            "\n",
            "***** Iteration #54 *****\n",
            "Loss: 108438.425407\n",
            "Feature norm: 322.890263\n",
            "Error norm: 1189.828704\n",
            "Active features: 36042\n",
            "Line search trials: 1\n",
            "Line search step: 1.000000\n",
            "Seconds required for this iteration: 0.890\n",
            "\n",
            "***** Iteration #55 *****\n",
            "Loss: 108279.422123\n",
            "Feature norm: 324.467304\n",
            "Error norm: 872.093166\n",
            "Active features: 35586\n",
            "Line search trials: 1\n",
            "Line search step: 1.000000\n",
            "Seconds required for this iteration: 0.895\n",
            "\n",
            "***** Iteration #56 *****\n",
            "Loss: 108159.060799\n",
            "Feature norm: 325.358099\n",
            "Error norm: 1197.005494\n",
            "Active features: 35111\n",
            "Line search trials: 1\n",
            "Line search step: 1.000000\n",
            "Seconds required for this iteration: 0.884\n",
            "\n",
            "***** Iteration #57 *****\n",
            "Loss: 108035.082426\n",
            "Feature norm: 326.623577\n",
            "Error norm: 720.830984\n",
            "Active features: 34725\n",
            "Line search trials: 1\n",
            "Line search step: 1.000000\n",
            "Seconds required for this iteration: 0.892\n",
            "\n",
            "***** Iteration #58 *****\n",
            "Loss: 107933.672265\n",
            "Feature norm: 327.389761\n",
            "Error norm: 919.041871\n",
            "Active features: 34325\n",
            "Line search trials: 1\n",
            "Line search step: 1.000000\n",
            "Seconds required for this iteration: 0.892\n",
            "\n",
            "***** Iteration #59 *****\n",
            "Loss: 107836.205264\n",
            "Feature norm: 328.372187\n",
            "Error norm: 563.064607\n",
            "Active features: 33967\n",
            "Line search trials: 1\n",
            "Line search step: 1.000000\n",
            "Seconds required for this iteration: 0.899\n",
            "\n",
            "***** Iteration #60 *****\n",
            "Loss: 107763.331417\n",
            "Feature norm: 328.963654\n",
            "Error norm: 920.713432\n",
            "Active features: 33676\n",
            "Line search trials: 1\n",
            "Line search step: 1.000000\n",
            "Seconds required for this iteration: 0.892\n",
            "\n",
            "***** Iteration #61 *****\n",
            "Loss: 107685.807894\n",
            "Feature norm: 329.645722\n",
            "Error norm: 145.841281\n",
            "Active features: 33379\n",
            "Line search trials: 1\n",
            "Line search step: 1.000000\n",
            "Seconds required for this iteration: 0.894\n",
            "\n",
            "***** Iteration #62 *****\n",
            "Loss: 107628.530786\n",
            "Feature norm: 330.121185\n",
            "Error norm: 659.715352\n",
            "Active features: 33180\n",
            "Line search trials: 1\n",
            "Line search step: 1.000000\n",
            "Seconds required for this iteration: 0.904\n",
            "\n",
            "***** Iteration #63 *****\n",
            "Loss: 107568.939519\n",
            "Feature norm: 330.633693\n",
            "Error norm: 1308.484208\n",
            "Active features: 32979\n",
            "Line search trials: 1\n",
            "Line search step: 1.000000\n",
            "Seconds required for this iteration: 0.890\n",
            "\n",
            "***** Iteration #64 *****\n",
            "Loss: 107525.097268\n",
            "Feature norm: 330.835395\n",
            "Error norm: 847.087195\n",
            "Active features: 32921\n",
            "Line search trials: 1\n",
            "Line search step: 1.000000\n",
            "Seconds required for this iteration: 0.900\n",
            "\n",
            "***** Iteration #65 *****\n",
            "Loss: 107476.734823\n",
            "Feature norm: 331.424245\n",
            "Error norm: 307.861264\n",
            "Active features: 32774\n",
            "Line search trials: 1\n",
            "Line search step: 1.000000\n",
            "Seconds required for this iteration: 0.892\n",
            "\n",
            "***** Iteration #66 *****\n",
            "Loss: 107423.525951\n",
            "Feature norm: 332.044462\n",
            "Error norm: 759.393431\n",
            "Active features: 32453\n",
            "Line search trials: 1\n",
            "Line search step: 1.000000\n",
            "Seconds required for this iteration: 0.902\n",
            "\n",
            "***** Iteration #67 *****\n",
            "Loss: 107382.482622\n",
            "Feature norm: 332.703125\n",
            "Error norm: 686.279597\n",
            "Active features: 32141\n",
            "Line search trials: 1\n",
            "Line search step: 1.000000\n",
            "Seconds required for this iteration: 0.911\n",
            "\n",
            "***** Iteration #68 *****\n",
            "Loss: 107341.437987\n",
            "Feature norm: 333.119907\n",
            "Error norm: 765.274048\n",
            "Active features: 31832\n",
            "Line search trials: 1\n",
            "Line search step: 1.000000\n",
            "Seconds required for this iteration: 0.906\n",
            "\n",
            "***** Iteration #69 *****\n",
            "Loss: 107303.246471\n",
            "Feature norm: 333.771568\n",
            "Error norm: 836.453040\n",
            "Active features: 31575\n",
            "Line search trials: 1\n",
            "Line search step: 1.000000\n",
            "Seconds required for this iteration: 0.899\n",
            "\n",
            "***** Iteration #70 *****\n",
            "Loss: 107266.968432\n",
            "Feature norm: 334.105613\n",
            "Error norm: 492.604581\n",
            "Active features: 31387\n",
            "Line search trials: 1\n",
            "Line search step: 1.000000\n",
            "Seconds required for this iteration: 0.896\n",
            "\n",
            "***** Iteration #71 *****\n",
            "Loss: 107232.885495\n",
            "Feature norm: 334.648286\n",
            "Error norm: 889.815098\n",
            "Active features: 31202\n",
            "Line search trials: 1\n",
            "Line search step: 1.000000\n",
            "Seconds required for this iteration: 0.906\n",
            "\n",
            "***** Iteration #72 *****\n",
            "Loss: 107201.728122\n",
            "Feature norm: 334.901962\n",
            "Error norm: 765.729241\n",
            "Active features: 31096\n",
            "Line search trials: 1\n",
            "Line search step: 1.000000\n",
            "Seconds required for this iteration: 0.900\n",
            "\n",
            "***** Iteration #73 *****\n",
            "Loss: 107170.313899\n",
            "Feature norm: 335.442154\n",
            "Error norm: 848.260488\n",
            "Active features: 30986\n",
            "Line search trials: 1\n",
            "Line search step: 1.000000\n",
            "Seconds required for this iteration: 0.888\n",
            "\n",
            "***** Iteration #74 *****\n",
            "Loss: 107141.265408\n",
            "Feature norm: 335.690815\n",
            "Error norm: 810.013841\n",
            "Active features: 30829\n",
            "Line search trials: 1\n",
            "Line search step: 1.000000\n",
            "Seconds required for this iteration: 0.889\n",
            "\n",
            "***** Iteration #75 *****\n",
            "Loss: 107112.974141\n",
            "Feature norm: 336.256425\n",
            "Error norm: 993.089352\n",
            "Active features: 30745\n",
            "Line search trials: 1\n",
            "Line search step: 1.000000\n",
            "Seconds required for this iteration: 0.894\n",
            "\n",
            "***** Iteration #76 *****\n",
            "Loss: 107087.913174\n",
            "Feature norm: 336.480392\n",
            "Error norm: 798.891445\n",
            "Active features: 30653\n",
            "Line search trials: 1\n",
            "Line search step: 1.000000\n",
            "Seconds required for this iteration: 0.893\n",
            "\n",
            "***** Iteration #77 *****\n",
            "Loss: 107065.313088\n",
            "Feature norm: 336.997771\n",
            "Error norm: 947.169432\n",
            "Active features: 30582\n",
            "Line search trials: 1\n",
            "Line search step: 1.000000\n",
            "Seconds required for this iteration: 0.866\n",
            "\n",
            "***** Iteration #78 *****\n",
            "Loss: 107045.254147\n",
            "Feature norm: 337.193948\n",
            "Error norm: 717.521589\n",
            "Active features: 30519\n",
            "Line search trials: 1\n",
            "Line search step: 1.000000\n",
            "Seconds required for this iteration: 0.883\n",
            "\n",
            "***** Iteration #79 *****\n",
            "Loss: 107024.798194\n",
            "Feature norm: 337.622582\n",
            "Error norm: 936.830523\n",
            "Active features: 30405\n",
            "Line search trials: 1\n",
            "Line search step: 1.000000\n",
            "Seconds required for this iteration: 0.890\n",
            "\n",
            "***** Iteration #80 *****\n",
            "Loss: 107006.412831\n",
            "Feature norm: 337.810862\n",
            "Error norm: 839.991266\n",
            "Active features: 30309\n",
            "Line search trials: 1\n",
            "Line search step: 1.000000\n",
            "Seconds required for this iteration: 0.905\n",
            "\n",
            "***** Iteration #81 *****\n",
            "Loss: 106988.619917\n",
            "Feature norm: 338.257653\n",
            "Error norm: 1014.668720\n",
            "Active features: 30253\n",
            "Line search trials: 1\n",
            "Line search step: 1.000000\n",
            "Seconds required for this iteration: 0.897\n",
            "\n",
            "***** Iteration #82 *****\n",
            "Loss: 106972.589414\n",
            "Feature norm: 338.369454\n",
            "Error norm: 581.437068\n",
            "Active features: 30186\n",
            "Line search trials: 1\n",
            "Line search step: 1.000000\n",
            "Seconds required for this iteration: 0.905\n",
            "\n",
            "***** Iteration #83 *****\n",
            "Loss: 106957.527492\n",
            "Feature norm: 338.704382\n",
            "Error norm: 752.812229\n",
            "Active features: 30118\n",
            "Line search trials: 1\n",
            "Line search step: 1.000000\n",
            "Seconds required for this iteration: 0.916\n",
            "\n",
            "***** Iteration #84 *****\n",
            "Loss: 106944.543996\n",
            "Feature norm: 338.830420\n",
            "Error norm: 811.857823\n",
            "Active features: 30047\n",
            "Line search trials: 1\n",
            "Line search step: 1.000000\n",
            "Seconds required for this iteration: 0.885\n",
            "\n",
            "***** Iteration #85 *****\n",
            "Loss: 106930.728567\n",
            "Feature norm: 339.161975\n",
            "Error norm: 727.996633\n",
            "Active features: 30011\n",
            "Line search trials: 1\n",
            "Line search step: 1.000000\n",
            "Seconds required for this iteration: 0.878\n",
            "\n",
            "***** Iteration #86 *****\n",
            "Loss: 106918.877728\n",
            "Feature norm: 339.264334\n",
            "Error norm: 785.491542\n",
            "Active features: 29898\n",
            "Line search trials: 1\n",
            "Line search step: 1.000000\n",
            "Seconds required for this iteration: 0.891\n",
            "\n",
            "***** Iteration #87 *****\n",
            "Loss: 106906.784613\n",
            "Feature norm: 339.510715\n",
            "Error norm: 501.733902\n",
            "Active features: 29866\n",
            "Line search trials: 1\n",
            "Line search step: 1.000000\n",
            "Seconds required for this iteration: 0.909\n",
            "\n",
            "***** Iteration #88 *****\n",
            "Loss: 106896.863210\n",
            "Feature norm: 339.604933\n",
            "Error norm: 753.259975\n",
            "Active features: 29802\n",
            "Line search trials: 1\n",
            "Line search step: 1.000000\n",
            "Seconds required for this iteration: 0.926\n",
            "\n",
            "***** Iteration #89 *****\n",
            "Loss: 106886.313408\n",
            "Feature norm: 339.843415\n",
            "Error norm: 665.933986\n",
            "Active features: 29768\n",
            "Line search trials: 1\n",
            "Line search step: 1.000000\n",
            "Seconds required for this iteration: 0.892\n",
            "\n",
            "***** Iteration #90 *****\n",
            "Loss: 106877.458747\n",
            "Feature norm: 339.889847\n",
            "Error norm: 750.398974\n",
            "Active features: 29732\n",
            "Line search trials: 1\n",
            "Line search step: 1.000000\n",
            "Seconds required for this iteration: 0.893\n",
            "\n",
            "***** Iteration #91 *****\n",
            "Loss: 106868.236348\n",
            "Feature norm: 340.071301\n",
            "Error norm: 430.471441\n",
            "Active features: 29725\n",
            "Line search trials: 1\n",
            "Line search step: 1.000000\n",
            "Seconds required for this iteration: 0.902\n",
            "\n",
            "***** Iteration #92 *****\n",
            "Loss: 106859.273702\n",
            "Feature norm: 340.130699\n",
            "Error norm: 625.558338\n",
            "Active features: 29652\n",
            "Line search trials: 1\n",
            "Line search step: 1.000000\n",
            "Seconds required for this iteration: 0.887\n",
            "\n",
            "***** Iteration #93 *****\n",
            "Loss: 106849.724044\n",
            "Feature norm: 340.303560\n",
            "Error norm: 441.502511\n",
            "Active features: 29597\n",
            "Line search trials: 1\n",
            "Line search step: 1.000000\n",
            "Seconds required for this iteration: 0.892\n",
            "\n",
            "***** Iteration #94 *****\n",
            "Loss: 106841.277428\n",
            "Feature norm: 340.344923\n",
            "Error norm: 712.367382\n",
            "Active features: 29506\n",
            "Line search trials: 1\n",
            "Line search step: 1.000000\n",
            "Seconds required for this iteration: 0.893\n",
            "\n",
            "***** Iteration #95 *****\n",
            "Loss: 106832.887699\n",
            "Feature norm: 340.514734\n",
            "Error norm: 443.888894\n",
            "Active features: 29475\n",
            "Line search trials: 1\n",
            "Line search step: 1.000000\n",
            "Seconds required for this iteration: 0.906\n",
            "\n",
            "***** Iteration #96 *****\n",
            "Loss: 106825.066750\n",
            "Feature norm: 340.510770\n",
            "Error norm: 431.107282\n",
            "Active features: 29427\n",
            "Line search trials: 1\n",
            "Line search step: 1.000000\n",
            "Seconds required for this iteration: 0.893\n",
            "\n",
            "***** Iteration #97 *****\n",
            "Loss: 106816.448274\n",
            "Feature norm: 340.610475\n",
            "Error norm: 328.311943\n",
            "Active features: 29365\n",
            "Line search trials: 1\n",
            "Line search step: 1.000000\n",
            "Seconds required for this iteration: 0.903\n",
            "\n",
            "***** Iteration #98 *****\n",
            "Loss: 106807.617031\n",
            "Feature norm: 340.627041\n",
            "Error norm: 464.150833\n",
            "Active features: 29297\n",
            "Line search trials: 1\n",
            "Line search step: 1.000000\n",
            "Seconds required for this iteration: 0.908\n",
            "\n",
            "***** Iteration #99 *****\n",
            "Loss: 106799.398670\n",
            "Feature norm: 340.716763\n",
            "Error norm: 333.177366\n",
            "Active features: 29266\n",
            "Line search trials: 1\n",
            "Line search step: 1.000000\n",
            "Seconds required for this iteration: 0.918\n",
            "\n",
            "***** Iteration #100 *****\n",
            "Loss: 106791.921720\n",
            "Feature norm: 340.704479\n",
            "Error norm: 381.285675\n",
            "Active features: 29208\n",
            "Line search trials: 1\n",
            "Line search step: 1.000000\n",
            "Seconds required for this iteration: 0.899\n",
            "\n",
            "L-BFGS terminated with the maximum number of iterations\n",
            "Total seconds required for training: 90.926\n",
            "\n",
            "Storing the model\n",
            "Number of active features: 29208 (298811)\n",
            "Number of active attributes: 22375 (263803)\n",
            "Number of active labels: 4 (4)\n",
            "Writing labels\n",
            "Writing attributes\n",
            "Writing feature references for transitions\n",
            "Writing feature references for attributes\n",
            "Seconds required: 0.027\n",
            "\n"
          ]
        }
      ]
    },
    {
      "cell_type": "code",
      "metadata": {
        "colab": {
          "base_uri": "https://localhost:8080/"
        },
        "id": "r3nzAkGqpU-a",
        "outputId": "a708c5bc-efca-46b6-bbbd-80e34444269d"
      },
      "source": [
        "trainer.logparser.last_iteration"
      ],
      "execution_count": null,
      "outputs": [
        {
          "output_type": "execute_result",
          "data": {
            "text/plain": [
              "{'active_features': 29208,\n",
              " 'error_norm': 381.285675,\n",
              " 'feature_norm': 340.704479,\n",
              " 'linesearch_step': 1.0,\n",
              " 'linesearch_trials': 1,\n",
              " 'loss': 106791.92172,\n",
              " 'num': 100,\n",
              " 'scores': {},\n",
              " 'time': 0.899}"
            ]
          },
          "metadata": {},
          "execution_count": 61
        }
      ]
    },
    {
      "cell_type": "code",
      "metadata": {
        "colab": {
          "base_uri": "https://localhost:8080/"
        },
        "id": "h4sggT7IpvPE",
        "outputId": "ceb1080c-2d9d-4ca6-f360-620909ccb575"
      },
      "source": [
        "tagger = pycrfsuite.Tagger()\n",
        "tagger.open('./resume-ner.crfsuite')"
      ],
      "execution_count": null,
      "outputs": [
        {
          "output_type": "execute_result",
          "data": {
            "text/plain": [
              "<contextlib.closing at 0x7f3040713e10>"
            ]
          },
          "metadata": {},
          "execution_count": 62
        }
      ]
    },
    {
      "cell_type": "code",
      "metadata": {
        "id": "ENPOF7SQp0Kl"
      },
      "source": [
        "from sklearn.preprocessing import LabelBinarizer\n",
        "from sklearn.metrics import classification_report, confusion_matrix, accuracy_score\n",
        "from itertools import chain\n",
        "\n",
        "def ner_report(y_true, y_pred):\n",
        "    \"\"\"\n",
        "    Classification report for a list of BIO-encoded sequences.\n",
        "    It computes token-level metrics and discards \"O\" labels.\n",
        "    \n",
        "    Note that it requires scikit-learn 0.15+ (or a version from github master)\n",
        "    to calculate averages properly!\n",
        "    \"\"\"\n",
        "    lb = LabelBinarizer()\n",
        "    y_true_combined = lb.fit_transform(list(chain.from_iterable(y_true)))\n",
        "    y_pred_combined = lb.transform(list(chain.from_iterable(y_pred)))\n",
        "        \n",
        "    tagset = set(lb.classes_)\n",
        "    tagset = sorted(tagset, key=lambda tag: tag.split('-', 1)[::-1])\n",
        "    class_indices = {cls: idx for idx, cls in enumerate(lb.classes_)}\n",
        "    \n",
        "    return classification_report(\n",
        "        y_true_combined,\n",
        "        y_pred_combined,\n",
        "        labels = [class_indices[cls] for cls in tagset],\n",
        "        target_names = tagset\n",
        "    ), accuracy_score(y_true_combined, y_pred_combined)"
      ],
      "execution_count": null,
      "outputs": []
    },
    {
      "cell_type": "code",
      "metadata": {
        "id": "I88hLocTp5-0"
      },
      "source": [
        "y_pred = [tagger.tag(xseq) for xseq in X_test]"
      ],
      "execution_count": null,
      "outputs": []
    },
    {
      "cell_type": "code",
      "metadata": {
        "id": "PPoz8x1ip9kk"
      },
      "source": [
        "report, accuracy = ner_report(y_test, y_pred)"
      ],
      "execution_count": null,
      "outputs": []
    },
    {
      "cell_type": "code",
      "metadata": {
        "colab": {
          "base_uri": "https://localhost:8080/"
        },
        "id": "fNVLkOw-qBhU",
        "outputId": "633588f3-71ff-48a5-a06c-a3afc65308d2"
      },
      "source": [
        "print(report)"
      ],
      "execution_count": null,
      "outputs": [
        {
          "output_type": "stream",
          "name": "stdout",
          "text": [
            "              precision    recall  f1-score   support\n",
            "\n",
            "           O       0.98      0.99      0.98    134129\n",
            "Organisation       0.82      0.75      0.78      1503\n",
            "      Person       0.86      0.65      0.74      4078\n",
            "       Place       0.90      0.83      0.86      8125\n",
            "\n",
            "   micro avg       0.97      0.97      0.97    147835\n",
            "   macro avg       0.89      0.81      0.84    147835\n",
            "weighted avg       0.97      0.97      0.97    147835\n",
            " samples avg       0.97      0.97      0.97    147835\n",
            "\n"
          ]
        }
      ]
    },
    {
      "cell_type": "code",
      "metadata": {
        "colab": {
          "base_uri": "https://localhost:8080/"
        },
        "id": "BNRKfXx4nYus",
        "outputId": "7ef7d590-c64e-449b-9f3b-534b64f781de"
      },
      "source": [
        "print(accuracy)"
      ],
      "execution_count": null,
      "outputs": [
        {
          "output_type": "stream",
          "name": "stdout",
          "text": [
            "0.9696418304190483\n"
          ]
        }
      ]
    }
  ]
}